{
 "cells": [
  {
   "cell_type": "code",
   "execution_count": 1,
   "id": "b0a34672-21e0-49ca-a53e-597f08aa65d0",
   "metadata": {},
   "outputs": [
    {
     "name": "stderr",
     "output_type": "stream",
     "text": [
      "/storage/dmitry/miniforge3/envs/tmp/lib/python3.10/site-packages/tqdm/auto.py:21: TqdmWarning: IProgress not found. Please update jupyter and ipywidgets. See https://ipywidgets.readthedocs.io/en/stable/user_install.html\n",
      "  from .autonotebook import tqdm as notebook_tqdm\n"
     ]
    }
   ],
   "source": [
    "import polaris\n",
    "import pandas as pd\n",
    "\n",
    "from sklearn.model_selection import train_test_split\n",
    "from sklearn.metrics import r2_score\n",
    "\n",
    "from qsarmil.lazy import LazyMIL\n",
    "from qsarcons.consensus import RandomSearchRegressor, SystematicSearchRegressor, GeneticSearchRegressor"
   ]
  },
  {
   "cell_type": "markdown",
   "id": "7b5be903-f368-4a1b-812a-35b404569643",
   "metadata": {},
   "source": [
    "### 1. Load data"
   ]
  },
  {
   "cell_type": "code",
   "execution_count": 2,
   "id": "a3ede612-9ced-42b8-a638-3d5a6dd6d2fe",
   "metadata": {},
   "outputs": [
    {
     "data": {
      "text/html": [
       "<pre style=\"white-space:pre;overflow-x:auto;line-height:normal;font-family:Menlo,'DejaVu Sans Mono',consolas,'Courier New',monospace\"><span style=\"color: #7fbfbf; text-decoration-color: #7fbfbf\">[2025-10-09 07:49:48] </span><span style=\"color: #000080; text-decoration-color: #000080\">INFO    </span> The version of Polaris that was used to create the artifact <span style=\"font-weight: bold\">(</span><span style=\"color: #008080; text-decoration-color: #008080; font-weight: bold\">0.0</span>.<span style=\"color: #008080; text-decoration-color: #008080; font-weight: bold\">0</span><span style=\"font-weight: bold\">)</span>  <a href=\"file:///storage/dmitry/miniforge3/envs/tmp/lib/python3.10/site-packages/polaris/_artifact.py\" target=\"_blank\"><span style=\"color: #7f7f7f; text-decoration-color: #7f7f7f\">_artifact.py</span></a><span style=\"color: #7f7f7f; text-decoration-color: #7f7f7f\">:</span><a href=\"file:///storage/dmitry/miniforge3/envs/tmp/lib/python3.10/site-packages/polaris/_artifact.py#96\" target=\"_blank\"><span style=\"color: #7f7f7f; text-decoration-color: #7f7f7f\">96</span></a>\n",
       "<span style=\"color: #7fbfbf; text-decoration-color: #7fbfbf\">                      </span>         is different from the currently installed version of Polaris         <span style=\"color: #7f7f7f; text-decoration-color: #7f7f7f\">               </span>\n",
       "<span style=\"color: #7fbfbf; text-decoration-color: #7fbfbf\">                      </span>         <span style=\"font-weight: bold\">(</span><span style=\"color: #008080; text-decoration-color: #008080; font-weight: bold\">0.13</span>.<span style=\"color: #008080; text-decoration-color: #008080; font-weight: bold\">0</span><span style=\"font-weight: bold\">)</span>.                                                            <span style=\"color: #7f7f7f; text-decoration-color: #7f7f7f\">               </span>\n",
       "</pre>\n"
      ],
      "text/plain": [
       "\u001b[2;36m[2025-10-09 07:49:48]\u001b[0m\u001b[2;36m \u001b[0m\u001b[34mINFO    \u001b[0m The version of Polaris that was used to create the artifact \u001b[1m(\u001b[0m\u001b[1;36m0.0\u001b[0m.\u001b[1;36m0\u001b[0m\u001b[1m)\u001b[0m  \u001b]8;id=234053;file:///storage/dmitry/miniforge3/envs/tmp/lib/python3.10/site-packages/polaris/_artifact.py\u001b\\\u001b[2m_artifact.py\u001b[0m\u001b]8;;\u001b\\\u001b[2m:\u001b[0m\u001b]8;id=146316;file:///storage/dmitry/miniforge3/envs/tmp/lib/python3.10/site-packages/polaris/_artifact.py#96\u001b\\\u001b[2m96\u001b[0m\u001b]8;;\u001b\\\n",
       "\u001b[2;36m                      \u001b[0m         is different from the currently installed version of Polaris         \u001b[2m               \u001b[0m\n",
       "\u001b[2;36m                      \u001b[0m         \u001b[1m(\u001b[0m\u001b[1;36m0.13\u001b[0m.\u001b[1;36m0\u001b[0m\u001b[1m)\u001b[0m.                                                            \u001b[2m               \u001b[0m\n"
      ]
     },
     "metadata": {},
     "output_type": "display_data"
    },
    {
     "data": {
      "text/html": [
       "<pre style=\"white-space:pre;overflow-x:auto;line-height:normal;font-family:Menlo,'DejaVu Sans Mono',consolas,'Courier New',monospace\"><span style=\"color: #7fbfbf; text-decoration-color: #7fbfbf\">                      </span><span style=\"color: #000080; text-decoration-color: #000080\">INFO    </span> To verify the checksum, we need to recompute it. This can be slow    <a href=\"file:///storage/dmitry/miniforge3/envs/tmp/lib/python3.10/site-packages/polaris/mixins/_checksum.py\" target=\"_blank\"><span style=\"color: #7f7f7f; text-decoration-color: #7f7f7f\">_checksum.py</span></a><span style=\"color: #7f7f7f; text-decoration-color: #7f7f7f\">:</span><a href=\"file:///storage/dmitry/miniforge3/envs/tmp/lib/python3.10/site-packages/polaris/mixins/_checksum.py#67\" target=\"_blank\"><span style=\"color: #7f7f7f; text-decoration-color: #7f7f7f\">67</span></a>\n",
       "<span style=\"color: #7fbfbf; text-decoration-color: #7fbfbf\">                      </span>         for large datasets.                                                  <span style=\"color: #7f7f7f; text-decoration-color: #7f7f7f\">               </span>\n",
       "</pre>\n"
      ],
      "text/plain": [
       "\u001b[2;36m                     \u001b[0m\u001b[2;36m \u001b[0m\u001b[34mINFO    \u001b[0m To verify the checksum, we need to recompute it. This can be slow    \u001b]8;id=91161;file:///storage/dmitry/miniforge3/envs/tmp/lib/python3.10/site-packages/polaris/mixins/_checksum.py\u001b\\\u001b[2m_checksum.py\u001b[0m\u001b]8;;\u001b\\\u001b[2m:\u001b[0m\u001b]8;id=619176;file:///storage/dmitry/miniforge3/envs/tmp/lib/python3.10/site-packages/polaris/mixins/_checksum.py#67\u001b\\\u001b[2m67\u001b[0m\u001b]8;;\u001b\\\n",
       "\u001b[2;36m                      \u001b[0m         for large datasets.                                                  \u001b[2m               \u001b[0m\n"
      ]
     },
     "metadata": {},
     "output_type": "display_data"
    },
    {
     "data": {
      "text/html": [
       "<pre style=\"white-space:pre;overflow-x:auto;line-height:normal;font-family:Menlo,'DejaVu Sans Mono',consolas,'Courier New',monospace\"><span style=\"color: #7fbfbf; text-decoration-color: #7fbfbf\">[07:49:48] </span><span style=\"color: #008000; text-decoration-color: #008000\"> Success: Fetching dataset</span>                                                                 <a href=\"file:///storage/dmitry/miniforge3/envs/tmp/lib/python3.10/site-packages/polaris/utils/context.py\" target=\"_blank\"><span style=\"color: #7f7f7f; text-decoration-color: #7f7f7f\">context.py</span></a><span style=\"color: #7f7f7f; text-decoration-color: #7f7f7f\">:</span><a href=\"file:///storage/dmitry/miniforge3/envs/tmp/lib/python3.10/site-packages/polaris/utils/context.py#53\" target=\"_blank\"><span style=\"color: #7f7f7f; text-decoration-color: #7f7f7f\">53</span></a>\n",
       "</pre>\n"
      ],
      "text/plain": [
       "\u001b[2;36m[07:49:48]\u001b[0m\u001b[2;36m \u001b[0m\u001b[32m Success: Fetching dataset\u001b[0m                                                                 \u001b]8;id=529903;file:///storage/dmitry/miniforge3/envs/tmp/lib/python3.10/site-packages/polaris/utils/context.py\u001b\\\u001b[2mcontext.py\u001b[0m\u001b]8;;\u001b\\\u001b[2m:\u001b[0m\u001b]8;id=631262;file:///storage/dmitry/miniforge3/envs/tmp/lib/python3.10/site-packages/polaris/utils/context.py#53\u001b\\\u001b[2m53\u001b[0m\u001b]8;;\u001b\\\n"
      ]
     },
     "metadata": {},
     "output_type": "display_data"
    },
    {
     "data": {
      "text/html": [
       "<pre style=\"white-space:pre;overflow-x:auto;line-height:normal;font-family:Menlo,'DejaVu Sans Mono',consolas,'Courier New',monospace\"><span style=\"color: #7fbfbf; text-decoration-color: #7fbfbf\">                      </span><span style=\"color: #000080; text-decoration-color: #000080\">INFO    </span> The version of Polaris that was used to create the artifact <span style=\"font-weight: bold\">(</span><span style=\"color: #008080; text-decoration-color: #008080; font-weight: bold\">0.0</span>.<span style=\"color: #008080; text-decoration-color: #008080; font-weight: bold\">0</span><span style=\"font-weight: bold\">)</span>  <a href=\"file:///storage/dmitry/miniforge3/envs/tmp/lib/python3.10/site-packages/polaris/_artifact.py\" target=\"_blank\"><span style=\"color: #7f7f7f; text-decoration-color: #7f7f7f\">_artifact.py</span></a><span style=\"color: #7f7f7f; text-decoration-color: #7f7f7f\">:</span><a href=\"file:///storage/dmitry/miniforge3/envs/tmp/lib/python3.10/site-packages/polaris/_artifact.py#96\" target=\"_blank\"><span style=\"color: #7f7f7f; text-decoration-color: #7f7f7f\">96</span></a>\n",
       "<span style=\"color: #7fbfbf; text-decoration-color: #7fbfbf\">                      </span>         is different from the currently installed version of Polaris         <span style=\"color: #7f7f7f; text-decoration-color: #7f7f7f\">               </span>\n",
       "<span style=\"color: #7fbfbf; text-decoration-color: #7fbfbf\">                      </span>         <span style=\"font-weight: bold\">(</span><span style=\"color: #008080; text-decoration-color: #008080; font-weight: bold\">0.13</span>.<span style=\"color: #008080; text-decoration-color: #008080; font-weight: bold\">0</span><span style=\"font-weight: bold\">)</span>.                                                            <span style=\"color: #7f7f7f; text-decoration-color: #7f7f7f\">               </span>\n",
       "</pre>\n"
      ],
      "text/plain": [
       "\u001b[2;36m                     \u001b[0m\u001b[2;36m \u001b[0m\u001b[34mINFO    \u001b[0m The version of Polaris that was used to create the artifact \u001b[1m(\u001b[0m\u001b[1;36m0.0\u001b[0m.\u001b[1;36m0\u001b[0m\u001b[1m)\u001b[0m  \u001b]8;id=681453;file:///storage/dmitry/miniforge3/envs/tmp/lib/python3.10/site-packages/polaris/_artifact.py\u001b\\\u001b[2m_artifact.py\u001b[0m\u001b]8;;\u001b\\\u001b[2m:\u001b[0m\u001b]8;id=735392;file:///storage/dmitry/miniforge3/envs/tmp/lib/python3.10/site-packages/polaris/_artifact.py#96\u001b\\\u001b[2m96\u001b[0m\u001b]8;;\u001b\\\n",
       "\u001b[2;36m                      \u001b[0m         is different from the currently installed version of Polaris         \u001b[2m               \u001b[0m\n",
       "\u001b[2;36m                      \u001b[0m         \u001b[1m(\u001b[0m\u001b[1;36m0.13\u001b[0m.\u001b[1;36m0\u001b[0m\u001b[1m)\u001b[0m.                                                            \u001b[2m               \u001b[0m\n"
      ]
     },
     "metadata": {},
     "output_type": "display_data"
    },
    {
     "data": {
      "text/html": [
       "<pre style=\"white-space:pre;overflow-x:auto;line-height:normal;font-family:Menlo,'DejaVu Sans Mono',consolas,'Courier New',monospace\"><span style=\"color: #7fbfbf; text-decoration-color: #7fbfbf\">                      </span><span style=\"color: #808000; text-decoration-color: #808000\">WARNING </span> No checksum to verify against. Specify either the md5sum parameter   <a href=\"file:///storage/dmitry/miniforge3/envs/tmp/lib/python3.10/site-packages/polaris/mixins/_checksum.py\" target=\"_blank\"><span style=\"color: #7f7f7f; text-decoration-color: #7f7f7f\">_checksum.py</span></a><span style=\"color: #7f7f7f; text-decoration-color: #7f7f7f\">:</span><a href=\"file:///storage/dmitry/miniforge3/envs/tmp/lib/python3.10/site-packages/polaris/mixins/_checksum.py#60\" target=\"_blank\"><span style=\"color: #7f7f7f; text-decoration-color: #7f7f7f\">60</span></a>\n",
       "<span style=\"color: #7fbfbf; text-decoration-color: #7fbfbf\">                      </span>         or store the checksum in the dataset.md5sum attribute.               <span style=\"color: #7f7f7f; text-decoration-color: #7f7f7f\">               </span>\n",
       "</pre>\n"
      ],
      "text/plain": [
       "\u001b[2;36m                     \u001b[0m\u001b[2;36m \u001b[0m\u001b[33mWARNING \u001b[0m No checksum to verify against. Specify either the md5sum parameter   \u001b]8;id=291704;file:///storage/dmitry/miniforge3/envs/tmp/lib/python3.10/site-packages/polaris/mixins/_checksum.py\u001b\\\u001b[2m_checksum.py\u001b[0m\u001b]8;;\u001b\\\u001b[2m:\u001b[0m\u001b]8;id=848749;file:///storage/dmitry/miniforge3/envs/tmp/lib/python3.10/site-packages/polaris/mixins/_checksum.py#60\u001b\\\u001b[2m60\u001b[0m\u001b]8;;\u001b\\\n",
       "\u001b[2;36m                      \u001b[0m         or store the checksum in the dataset.md5sum attribute.               \u001b[2m               \u001b[0m\n"
      ]
     },
     "metadata": {},
     "output_type": "display_data"
    },
    {
     "data": {
      "text/html": [
       "<pre style=\"white-space:pre;overflow-x:auto;line-height:normal;font-family:Menlo,'DejaVu Sans Mono',consolas,'Courier New',monospace\"><span style=\"color: #7fbfbf; text-decoration-color: #7fbfbf\">           </span><span style=\"color: #008000; text-decoration-color: #008000\"> Success: Fetching benchmark</span>                                                               <a href=\"file:///storage/dmitry/miniforge3/envs/tmp/lib/python3.10/site-packages/polaris/utils/context.py\" target=\"_blank\"><span style=\"color: #7f7f7f; text-decoration-color: #7f7f7f\">context.py</span></a><span style=\"color: #7f7f7f; text-decoration-color: #7f7f7f\">:</span><a href=\"file:///storage/dmitry/miniforge3/envs/tmp/lib/python3.10/site-packages/polaris/utils/context.py#53\" target=\"_blank\"><span style=\"color: #7f7f7f; text-decoration-color: #7f7f7f\">53</span></a>\n",
       "</pre>\n"
      ],
      "text/plain": [
       "\u001b[2;36m          \u001b[0m\u001b[2;36m \u001b[0m\u001b[32m Success: Fetching benchmark\u001b[0m                                                               \u001b]8;id=167414;file:///storage/dmitry/miniforge3/envs/tmp/lib/python3.10/site-packages/polaris/utils/context.py\u001b\\\u001b[2mcontext.py\u001b[0m\u001b]8;;\u001b\\\u001b[2m:\u001b[0m\u001b]8;id=732052;file:///storage/dmitry/miniforge3/envs/tmp/lib/python3.10/site-packages/polaris/utils/context.py#53\u001b\\\u001b[2m53\u001b[0m\u001b]8;;\u001b\\\n"
      ]
     },
     "metadata": {},
     "output_type": "display_data"
    },
    {
     "data": {
      "text/html": [
       "<pre style=\"white-space:pre;overflow-x:auto;line-height:normal;font-family:Menlo,'DejaVu Sans Mono',consolas,'Courier New',monospace\"></pre>\n"
      ],
      "text/plain": []
     },
     "metadata": {},
     "output_type": "display_data"
    }
   ],
   "source": [
    "# Load the benchmark from the Hub\n",
    "benchmark = polaris.load_benchmark(\"polaris/adme-fang-solu-1\")\n",
    "\n",
    "# Get the train and test data-loaders\n",
    "data_train, data_test = benchmark.get_train_test_split()\n",
    "data_train, data_test = data_train.as_dataframe(), data_test.as_dataframe()\n",
    "\n",
    "smi_train, prop_train = data_train[\"smiles\"].to_list(), data_train[\"LOG_SOLUBILITY\"].to_list()\n",
    "\n",
    "data_train, data_val = train_test_split(data_train, test_size=0.2, random_state=42)"
   ]
  },
  {
   "cell_type": "markdown",
   "id": "23ed66e1-5365-4be2-8771-f929bce05202",
   "metadata": {},
   "source": [
    "### 2. Build multiple 2D models"
   ]
  },
  {
   "cell_type": "code",
   "execution_count": 4,
   "id": "74b18eff-a32c-4e24-9bd5-c8700af96d9a",
   "metadata": {
    "scrolled": true
   },
   "outputs": [
    {
     "name": "stderr",
     "output_type": "stream",
     "text": [
      "Generating conformers: 100%|████████████████████████████████████████████████████████| 1262/1262 [00:55<00:00, 22.81it/s]\n",
      "Generating conformers: 100%|██████████████████████████████████████████████████████████| 316/316 [00:15<00:00, 19.98it/s]\n",
      "Generating conformers: 100%|██████████████████████████████████████████████████████████| 400/400 [00:19<00:00, 20.70it/s]\n"
     ]
    },
    {
     "name": "stdout",
     "output_type": "stream",
     "text": [
      "72 / 72 / MolFeatPmapper|DynamicPoolingNetworkRegressorsoressoressor"
     ]
    },
    {
     "data": {
      "text/plain": [
       "<qsarmil.lazy.LazyMIL at 0x7f5fd0777f40>"
      ]
     },
     "execution_count": 4,
     "metadata": {},
     "output_type": "execute_result"
    }
   ],
   "source": [
    "data_test[\"LogS\"] = [0 for i in data_test.index]\n",
    "\n",
    "lazy_mil = LazyMIL(task=\"regression\", hopt=False, output_folder=\"logs_bench\", n_cpu=20, verbose=True)\n",
    "lazy_mil.run(data_train, data_val, data_test)"
   ]
  },
  {
   "cell_type": "markdown",
   "id": "8dc53fd8-7b77-43d9-aff0-4322e5bae5c7",
   "metadata": {},
   "source": [
    "### 3. Build model consensus"
   ]
  },
  {
   "cell_type": "code",
   "execution_count": 5,
   "id": "283d8254-0ea7-4e4b-b433-b86b60f21b88",
   "metadata": {},
   "outputs": [],
   "source": [
    "metric = \"auto\"\n",
    "cons_size = \"auto\""
   ]
  },
  {
   "cell_type": "code",
   "execution_count": 6,
   "id": "ba69d740-14df-4bd3-bf68-cdf2dfa9a2a1",
   "metadata": {},
   "outputs": [],
   "source": [
    "cons_methods = [\n",
    "    (\"Best\", SystematicSearchRegressor(cons_size=1, metric=metric)),         \n",
    "    (\"Random\", RandomSearchRegressor(cons_size=cons_size, n_iter=1000, metric=metric)),       \n",
    "    (\"Systematic\", SystematicSearchRegressor(cons_size=cons_size, metric=metric)),\n",
    "    (\"Genetic\", GeneticSearchRegressor(cons_size=cons_size, n_iter=50, pop_size=50, mut_prob=0.2, metric=metric))\n",
    "]"
   ]
  },
  {
   "cell_type": "code",
   "execution_count": 7,
   "id": "d2bec8be-dd6a-4511-9ed7-49b75c0d9875",
   "metadata": {},
   "outputs": [],
   "source": [
    "# load model predictions\n",
    "df_val = pd.read_csv(\"logs_bench/val.csv\")\n",
    "df_test = pd.read_csv(\"logs_bench/test.csv\")\n",
    "\n",
    "# skip first two columns (smiles and true property value)\n",
    "x_val, true_val = df_val.iloc[:, 2:], df_val.iloc[:, 1]\n",
    "x_test = df_test.iloc[:, 2:]"
   ]
  },
  {
   "cell_type": "code",
   "execution_count": 8,
   "id": "74c84355-d2ac-4439-87de-ded949553f66",
   "metadata": {},
   "outputs": [],
   "source": [
    "for name, cons_searcher in cons_methods:\n",
    "\n",
    "    # run search\n",
    "    best_cons = cons_searcher.run(x_val, true_val)\n",
    "    \n",
    "    # make val and test predictions\n",
    "    pred_val = cons_searcher._consensus_predict(x_val[best_cons])\n",
    "    pred_test = cons_searcher._consensus_predict(x_test[best_cons])\n",
    "    \n",
    "    # write prediction accuracy metric\n",
    "    df_val[name] = pred_val\n",
    "    df_test[name] = pred_test"
   ]
  },
  {
   "cell_type": "markdown",
   "id": "5d580fdf-ff9a-40e0-b544-9890782a18b4",
   "metadata": {},
   "source": [
    "### 4. Summurize results"
   ]
  },
  {
   "cell_type": "code",
   "execution_count": 9,
   "id": "a7afb400-1dd3-4fe4-9b2c-b0faba8ea8d1",
   "metadata": {
    "scrolled": true
   },
   "outputs": [],
   "source": [
    "res = pd.DataFrame()\n",
    "for model in df_val.columns[2:]:\n",
    "    res.loc[model, \"R2\"] = r2_score(df_val[\"Y_TRUE\"], df_val[model])"
   ]
  },
  {
   "cell_type": "code",
   "execution_count": 10,
   "id": "038e567e-1a83-49f0-b831-8c54692c33b4",
   "metadata": {},
   "outputs": [
    {
     "data": {
      "text/html": [
       "<div>\n",
       "<style scoped>\n",
       "    .dataframe tbody tr th:only-of-type {\n",
       "        vertical-align: middle;\n",
       "    }\n",
       "\n",
       "    .dataframe tbody tr th {\n",
       "        vertical-align: top;\n",
       "    }\n",
       "\n",
       "    .dataframe thead th {\n",
       "        text-align: right;\n",
       "    }\n",
       "</style>\n",
       "<table border=\"1\" class=\"dataframe\">\n",
       "  <thead>\n",
       "    <tr style=\"text-align: right;\">\n",
       "      <th></th>\n",
       "      <th>R2</th>\n",
       "    </tr>\n",
       "  </thead>\n",
       "  <tbody>\n",
       "    <tr>\n",
       "      <th>Genetic</th>\n",
       "      <td>0.401268</td>\n",
       "    </tr>\n",
       "    <tr>\n",
       "      <th>Random</th>\n",
       "      <td>0.377951</td>\n",
       "    </tr>\n",
       "    <tr>\n",
       "      <th>Systematic</th>\n",
       "      <td>0.372215</td>\n",
       "    </tr>\n",
       "    <tr>\n",
       "      <th>RDKitGETAWAY|DynamicPoolingNetworkRegressor</th>\n",
       "      <td>0.311625</td>\n",
       "    </tr>\n",
       "    <tr>\n",
       "      <th>Best</th>\n",
       "      <td>0.311625</td>\n",
       "    </tr>\n",
       "    <tr>\n",
       "      <th>...</th>\n",
       "      <td>...</td>\n",
       "    </tr>\n",
       "    <tr>\n",
       "      <th>MolFeatUSRD|DynamicPoolingNetworkRegressor</th>\n",
       "      <td>0.064956</td>\n",
       "    </tr>\n",
       "    <tr>\n",
       "      <th>RDKitWHIM|MeanInstanceWrapperMLPNetworkRegressor</th>\n",
       "      <td>0.010889</td>\n",
       "    </tr>\n",
       "    <tr>\n",
       "      <th>MolFeatUSRD|MeanInstanceWrapperMLPNetworkRegressor</th>\n",
       "      <td>-0.015881</td>\n",
       "    </tr>\n",
       "    <tr>\n",
       "      <th>MolFeatPmapper|MeanBagWrapperMLPNetworkRegressor</th>\n",
       "      <td>-0.027218</td>\n",
       "    </tr>\n",
       "    <tr>\n",
       "      <th>MolFeatElectroShape|MeanInstanceWrapperMLPNetworkRegressor</th>\n",
       "      <td>-0.070250</td>\n",
       "    </tr>\n",
       "  </tbody>\n",
       "</table>\n",
       "<p>76 rows × 1 columns</p>\n",
       "</div>"
      ],
      "text/plain": [
       "                                                          R2\n",
       "Genetic                                             0.401268\n",
       "Random                                              0.377951\n",
       "Systematic                                          0.372215\n",
       "RDKitGETAWAY|DynamicPoolingNetworkRegressor         0.311625\n",
       "Best                                                0.311625\n",
       "...                                                      ...\n",
       "MolFeatUSRD|DynamicPoolingNetworkRegressor          0.064956\n",
       "RDKitWHIM|MeanInstanceWrapperMLPNetworkRegressor    0.010889\n",
       "MolFeatUSRD|MeanInstanceWrapperMLPNetworkRegressor -0.015881\n",
       "MolFeatPmapper|MeanBagWrapperMLPNetworkRegressor   -0.027218\n",
       "MolFeatElectroShape|MeanInstanceWrapperMLPNetwo... -0.070250\n",
       "\n",
       "[76 rows x 1 columns]"
      ]
     },
     "execution_count": 10,
     "metadata": {},
     "output_type": "execute_result"
    }
   ],
   "source": [
    "res.sort_values(by=\"R2\", ascending=False)"
   ]
  },
  {
   "cell_type": "code",
   "execution_count": 16,
   "id": "623ca0f9-f30d-4393-86bb-3cf5fe623c38",
   "metadata": {},
   "outputs": [
    {
     "data": {
      "text/html": [
       "<table border=\"1\"><tr><th>benchmark_artifact_id</th><td>polaris/adme-fang-solu-1</td></tr><tr><th>benchmark_name</th><td>None</td></tr><tr><th>benchmark_owner</th><td>None</td></tr><tr><th>results</th><td><table border=\"1\"><thead><tr><th>test_set</th><th>target_label</th><th>scores</th></tr></thead><tbody><tr><td>test</td><td>LOG_SOLUBILITY</td><td><table border=\"1\"><tr><th>mean_squared_error</th><td>0.378813039771392</td></tr><tr><th>spearmanr</th><td>0.42682041684077643</td></tr><tr><th>explained_var</th><td>0.30162512086422466</td></tr><tr><th>pearsonr</th><td>0.5527202404910281</td></tr><tr><th>mean_absolute_error</th><td>0.43516512725032</td></tr><tr><th>r2</th><td>0.3013132355128497</td></tr></table></td></tr></tbody></table></td></tr><tr><th>name</th><td>None</td></tr><tr><th>description</th><td></td></tr><tr><th>tags</th><td></td></tr><tr><th>user_attributes</th><td></td></tr><tr><th>owner</th><td>None</td></tr><tr><th>polaris_version</th><td>0.13.0</td></tr><tr><th>slug</th><td>None</td></tr><tr><th>github_url</th><td>None</td></tr><tr><th>paper_url</th><td>None</td></tr><tr><th>contributors</th><td></td></tr><tr><th>artifact_id</th><td>None</td></tr><tr><th>urn</th><td>None</td></tr><tr><th>version</th><td>1</td></tr></table>"
      ],
      "text/plain": [
       "{\n",
       "  \"benchmark_artifact_id\": \"polaris/adme-fang-solu-1\",\n",
       "  \"benchmark_name\": null,\n",
       "  \"benchmark_owner\": null,\n",
       "  \"results\": [\n",
       "    {\n",
       "      \"test_set\": \"test\",\n",
       "      \"target_label\": \"LOG_SOLUBILITY\",\n",
       "      \"scores\": {\n",
       "        \"mean_squared_error\": 0.378813039771392,\n",
       "        \"spearmanr\": 0.42682041684077643,\n",
       "        \"explained_var\": 0.30162512086422466,\n",
       "        \"pearsonr\": 0.5527202404910281,\n",
       "        \"mean_absolute_error\": 0.43516512725032,\n",
       "        \"r2\": 0.3013132355128497\n",
       "      }\n",
       "    }\n",
       "  ],\n",
       "  \"name\": null,\n",
       "  \"description\": \"\",\n",
       "  \"tags\": [],\n",
       "  \"user_attributes\": {},\n",
       "  \"owner\": null,\n",
       "  \"polaris_version\": \"0.13.0\",\n",
       "  \"slug\": null,\n",
       "  \"github_url\": null,\n",
       "  \"paper_url\": null,\n",
       "  \"contributors\": [],\n",
       "  \"artifact_id\": null,\n",
       "  \"urn\": null,\n",
       "  \"version\": 1\n",
       "}"
      ]
     },
     "execution_count": 16,
     "metadata": {},
     "output_type": "execute_result"
    }
   ],
   "source": [
    "y_pred = df_test[\"Genetic\"].to_list()\n",
    "results = benchmark.evaluate(y_pred)\n",
    "results"
   ]
  },
  {
   "cell_type": "code",
   "execution_count": null,
   "id": "dc4612c0-c0a8-4be6-a08e-309bc2238748",
   "metadata": {},
   "outputs": [],
   "source": []
  }
 ],
 "metadata": {
  "kernelspec": {
   "display_name": "tmp",
   "language": "python",
   "name": "tmp"
  },
  "language_info": {
   "codemirror_mode": {
    "name": "ipython",
    "version": 3
   },
   "file_extension": ".py",
   "mimetype": "text/x-python",
   "name": "python",
   "nbconvert_exporter": "python",
   "pygments_lexer": "ipython3",
   "version": "3.10.18"
  }
 },
 "nbformat": 4,
 "nbformat_minor": 5
}
