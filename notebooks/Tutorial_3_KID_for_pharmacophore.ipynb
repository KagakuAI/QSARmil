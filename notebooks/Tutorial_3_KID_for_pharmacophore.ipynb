{
 "cells": [
  {
   "cell_type": "markdown",
   "id": "9a064a01-df10-4435-9689-eea1fd1f4d49",
   "metadata": {},
   "source": [
    "### Key Instance Detection for Conformers\n",
    "\n",
    "KID for conformers"
   ]
  },
  {
   "cell_type": "code",
   "execution_count": 1,
   "id": "e340fd8e-0c53-47c4-87a5-269b2b45cf13",
   "metadata": {},
   "outputs": [],
   "source": [
    "import pickle\n",
    "\n",
    "import numpy as np\n",
    "import pandas as pd\n",
    "\n",
    "from sklearn.metrics import r2_score, balanced_accuracy_score\n",
    "from sklearn.ensemble import RandomForestRegressor, RandomForestClassifier"
   ]
  },
  {
   "cell_type": "code",
   "execution_count": 2,
   "id": "2826a68c-2e11-4897-a4be-5d236c7fa05c",
   "metadata": {},
   "outputs": [],
   "source": [
    "from qsarmil.descriptor.rdkit import (RDKitGEOM, \n",
    "                                      RDKitAUTOCORR, \n",
    "                                      RDKitRDF, \n",
    "                                      RDKitMORSE, \n",
    "                                      RDKitWHIM, \n",
    "                                      RDKitGETAWAY)\n",
    "\n",
    "from molfeat.calc import (Pharmacophore3D, \n",
    "                          USRDescriptors, \n",
    "                          ElectroShapeDescriptors)\n",
    "\n",
    "from qsarmil.descriptor.wrapper import DescriptorWrapper"
   ]
  },
  {
   "cell_type": "code",
   "execution_count": 3,
   "id": "c6b38cf8-306b-41e3-bf67-c719720f0e33",
   "metadata": {},
   "outputs": [
    {
     "name": "stderr",
     "output_type": "stream",
     "text": [
      "/storage/dmitry/miniforge3/envs/qsarmil/lib/python3.10/site-packages/torch/cuda/__init__.py:174: UserWarning: CUDA initialization: The NVIDIA driver on your system is too old (found version 11040). Please update your GPU driver by downloading and installing a new version from the URL: http://www.nvidia.com/Download/index.aspx Alternatively, go to: https://pytorch.org to install a PyTorch version that has been compiled with your version of the CUDA driver. (Triggered internally at /pytorch/c10/cuda/CUDAFunctions.cpp:109.)\n",
      "  return torch._C._cuda_getDeviceCount() > 0\n"
     ]
    }
   ],
   "source": [
    "from milearn.wrapper import InstanceWrapper, BagWrapper\n",
    "\n",
    "from milearn.network.regressor import InstanceNetworkRegressor, BagNetworkRegressor\n",
    "from milearn.network.classifier import InstanceNetworkClassifier, BagNetworkClassifier\n",
    "\n",
    "# MIL regressors\n",
    "from milearn.network.regressor import (AttentionNetworkRegressor,\n",
    "                                       TempAttentionNetworkRegressor,\n",
    "                                       GatedAttentionNetworkRegressor,\n",
    "                                       MultiHeadAttentionNetworkRegressor,\n",
    "                                       SelfAttentionNetworkRegressor,\n",
    "                                       HopfieldAttentionNetworkRegressor,\n",
    "                                       DynamicPoolingNetworkRegressor)\n",
    "\n",
    "# MIL classifiers\n",
    "from milearn.network.classifier import (AttentionNetworkClassifier,\n",
    "                                        TempAttentionNetworkClassifier,\n",
    "                                        GatedAttentionNetworkClassifier,\n",
    "                                        MultiHeadAttentionNetworkClassifier,\n",
    "                                        SelfAttentionNetworkClassifier,\n",
    "                                        HopfieldAttentionNetworkClassifier,\n",
    "                                        DynamicPoolingNetworkClassifier)\n",
    "\n",
    "from milearn.preprocessing import BagMinMaxScaler"
   ]
  },
  {
   "cell_type": "code",
   "execution_count": 4,
   "id": "c1ebb151-4129-4dbc-a185-f9c6e14343b3",
   "metadata": {},
   "outputs": [],
   "source": [
    "from typing import List, Tuple\n",
    "\n",
    "def kid_accuracy(true_key_indices, predicted_weights, top_n=1):\n",
    "    assert len(predicted_weights) == len(true_key_indices), \"Mismatched input lengths.\"\n",
    "\n",
    "    hits = 0\n",
    "    total = len(predicted_weights)\n",
    "\n",
    "    for bag_weights, key_indices in zip(predicted_weights, true_key_indices):\n",
    "        # Get indices of top-N predicted instances\n",
    "        top_n_indices = sorted(range(len(bag_weights)), key=lambda i: bag_weights[i], reverse=True)[:top_n]\n",
    "        # Check for overlap with any true key instance\n",
    "        if any(idx in top_n_indices for idx in key_indices):\n",
    "            hits += 1\n",
    "\n",
    "    return hits / total if total > 0 else 0.0\n",
    "\n",
    "def normalized_entropy(weights, epsilon=1e-12):\n",
    "    \"\"\"\n",
    "    Returns:\n",
    "    - norm_entropy: float in [0, 1], where 0 = sharp, 1 = flat\n",
    "    \"\"\"\n",
    "    weights = np.asarray(weights, dtype=np.float64)\n",
    "    weights = weights / (weights.sum() + epsilon)  # normalize\n",
    "\n",
    "    entropy = -np.sum(weights * np.log(weights + epsilon))\n",
    "    max_entropy = np.log(len(weights) + epsilon)\n",
    "\n",
    "    return entropy / max_entropy"
   ]
  },
  {
   "cell_type": "code",
   "execution_count": 5,
   "id": "571da60d-f4b3-4ec6-aaa7-e1d7efbb5c24",
   "metadata": {},
   "outputs": [],
   "source": [
    "from math import comb\n",
    "\n",
    "def expected_kid_accuracy(true_key_indices, bag_sizes, top_n=1):\n",
    "\n",
    "    assert len(true_key_indices) == len(bag_sizes), \"Mismatched input lengths.\"\n",
    "    expected_hits = 0\n",
    "\n",
    "    for key_indices, B in zip(true_key_indices, bag_sizes):\n",
    "        K = len(key_indices)\n",
    "        N = min(top_n, B)  # top_n can't exceed bag size\n",
    "\n",
    "        if K == 0 or B == 0:\n",
    "            continue  # skip invalid bags\n",
    "\n",
    "        if B - K < N:\n",
    "            hit_prob = 1.0  # guaranteed to pick a key instance\n",
    "        else:\n",
    "            hit_prob = 1 - (comb(B - K, N) / comb(B, N))\n",
    "\n",
    "        expected_hits += hit_prob\n",
    "\n",
    "    return expected_hits / len(true_key_indices) if true_key_indices else 0.0"
   ]
  },
  {
   "cell_type": "markdown",
   "id": "ec78a29e-9bc1-4690-b72c-07cc2280c8c0",
   "metadata": {},
   "source": [
    "### 1. Load data\n",
    "### TODO: fix conformer indexing"
   ]
  },
  {
   "cell_type": "code",
   "execution_count": 6,
   "id": "f92761db-1650-4b9d-82e8-d674ea48c52e",
   "metadata": {},
   "outputs": [],
   "source": [
    "with open(\"kid_data/actives_dm_train_allconf.pkl\", \"rb\") as f:\n",
    "    data_train = pickle.load(f)\n",
    "\n",
    "with open(\"kid_data/actives_dm_test_allconf.pkl\", \"rb\") as f:\n",
    "    data_test = pickle.load(f)"
   ]
  },
  {
   "cell_type": "code",
   "execution_count": 7,
   "id": "b1850bbe-5d8b-407e-9fc2-52ddfa0041eb",
   "metadata": {},
   "outputs": [],
   "source": [
    "# molecules\n",
    "mol_train = [i[1] for i in data_train]\n",
    "mol_test = [i[1] for i in data_test]\n",
    "\n",
    "# property\n",
    "prop_train = [i[3].item() for i in data_train]\n",
    "prop_test = [i[3].item() for i in data_test]\n",
    "\n",
    "# key instances\n",
    "kid_test = []\n",
    "for mol in data_test:\n",
    "    key_list = [int(conf.split(\"_\")[-1]) for conf in mol[2]] # wrong indexing\n",
    "    \n",
    "    kid_test.append(key_list)"
   ]
  },
  {
   "cell_type": "markdown",
   "id": "cde41f63-7bc9-4666-b08e-11fefc9c7c14",
   "metadata": {},
   "source": [
    "### 2. Benchmark configuration"
   ]
  },
  {
   "cell_type": "code",
   "execution_count": 8,
   "id": "388239bd-8152-41c5-ac21-f5693fb008a1",
   "metadata": {},
   "outputs": [],
   "source": [
    "network_hparams = {'hidden_layer_sizes':(256, 128, 64),\n",
    "                   'num_epoch':300,\n",
    "                   'batch_size':128,\n",
    "                   'learning_rate':0.001,\n",
    "                   'weight_decay':0.001,\n",
    "                   'instance_weight_dropout':0.01,\n",
    "                   'init_cuda':False,\n",
    "                   'verbose':False}"
   ]
  },
  {
   "cell_type": "code",
   "execution_count": 9,
   "id": "aa13bd69-4c30-4a6d-b04f-b7e60fdbb6be",
   "metadata": {},
   "outputs": [],
   "source": [
    "desc_list = [\n",
    "             (\"RDKitGEOM\", DescriptorWrapper(RDKitGEOM())),\n",
    "             (\"RDKitAUTOCORR\", DescriptorWrapper(RDKitAUTOCORR())),\n",
    "             (\"RDKitRDF\", DescriptorWrapper(RDKitRDF())),\n",
    "             (\"RDKitMORSE\", DescriptorWrapper(RDKitMORSE())),\n",
    "             (\"RDKitWHIM\", DescriptorWrapper(RDKitWHIM())),\n",
    "             (\"RDKitGETAWAY\", DescriptorWrapper(RDKitGETAWAY())), # can be long\n",
    "             (\"MolFeatPmapper\", DescriptorWrapper(Pharmacophore3D(factory='pmapper'))), # can be long\n",
    "             (\"MolFeatUSRD\", DescriptorWrapper(USRDescriptors())),\n",
    "             (\"MolFeatElectroShape\", DescriptorWrapper(ElectroShapeDescriptors())),\n",
    "            ]"
   ]
  },
  {
   "cell_type": "code",
   "execution_count": 10,
   "id": "a448b6ae-3d4c-4dc9-a1ed-50740a61b232",
   "metadata": {},
   "outputs": [],
   "source": [
    "regressor_list = [\n",
    "                   (\"AttentionNetworkRegressor\", AttentionNetworkRegressor(**network_hparams)),\n",
    "                   (\"TempAttentionNetworkRegressor\", TempAttentionNetworkRegressor(**network_hparams, tau=0.1)),\n",
    "                   (\"GatedAttentionNetworkRegressor\", GatedAttentionNetworkRegressor(**network_hparams)),\n",
    "                   (\"MultiHeadAttentionNetworkRegressor\", MultiHeadAttentionNetworkRegressor(**network_hparams, num_heads=6)),\n",
    "                   (\"SelfAttentionNetworkRegressor\", SelfAttentionNetworkRegressor(**network_hparams)),\n",
    "                   (\"HopfieldAttentionNetworkRegressor\", HopfieldAttentionNetworkRegressor(**network_hparams)),\n",
    "                   (\"DynamicPoolingNetworkRegressor\", DynamicPoolingNetworkRegressor(**network_hparams))\n",
    "              ]\n",
    "\n",
    "clissifier_list = [\n",
    "                   (\"AttentionNetworkClassifier\", AttentionNetworkClassifier(**network_hparams)),\n",
    "                   (\"TempAttentionNetworkClassifier\", TempAttentionNetworkClassifier(**network_hparams, tau=0.1)),\n",
    "                   (\"GatedAttentionNetworkClassifier\", GatedAttentionNetworkClassifier(**network_hparams)),\n",
    "                   (\"MultiHeadAttentionNetworkClassifier\", MultiHeadAttentionNetworkClassifier(**network_hparams, num_heads=6)),\n",
    "                   (\"SelfAttentionNetworkClassifier\", SelfAttentionNetworkClassifier(**network_hparams)),\n",
    "                   (\"HopfieldAttentionNetworkClassifier\", HopfieldAttentionNetworkClassifier(**network_hparams)),\n",
    "                   (\"DynamicPoolingNetworkClassifier\", DynamicPoolingNetworkClassifier(**network_hparams))\n",
    "              ]"
   ]
  },
  {
   "cell_type": "markdown",
   "id": "67342740-67ba-4855-8450-45b6be425718",
   "metadata": {},
   "source": [
    "### 3. Benchmark regression models"
   ]
  },
  {
   "cell_type": "code",
   "execution_count": 11,
   "id": "0be6322e-6799-4d67-8f4b-f7cb5f503b53",
   "metadata": {},
   "outputs": [],
   "source": [
    "task = \"reg\"\n",
    "\n",
    "if task == \"reg\":\n",
    "    estimator_list = regressor_list\n",
    "    accuracy_metric = r2_score\n",
    "    y_train = prop_train\n",
    "    y_test = prop_test\n",
    "elif task == \"clf\":\n",
    "    threshold = 7\n",
    "    estimator_list = clissifier_list\n",
    "    accuracy_metric = balanced_accuracy_score\n",
    "    y_train = [1 if i >= threshold else 0 for i in prop_train]\n",
    "    y_test = [1 if i >= threshold else 0 for i in prop_test]"
   ]
  },
  {
   "cell_type": "code",
   "execution_count": 12,
   "id": "42034654-2e25-493d-b070-69e2eecd3532",
   "metadata": {},
   "outputs": [
    {
     "name": "stdout",
     "output_type": "stream",
     "text": [
      "63/63 MolFeatElectroShape|DynamicPoolingNetworkClassifierierr"
     ]
    }
   ],
   "source": [
    "n = 0\n",
    "total_n = len(desc_list) * len(regressor_list)\n",
    "\n",
    "res_df = pd.DataFrame()\n",
    "for desc_name, desc_calc in desc_list:\n",
    "\n",
    "    # 1. Calc descriptors\n",
    "    x_train = desc_calc.transform(mol_train)\n",
    "    x_test = desc_calc.transform(mol_test)\n",
    "\n",
    "    # 2. Scale descriptors\n",
    "    scaler = BagMinMaxScaler()\n",
    "    scaler.fit(x_train)\n",
    "    x_train_scaled = scaler.transform(x_train)\n",
    "    x_test_scaled = scaler.transform(x_test)\n",
    "    \n",
    "    for method_name, model in estimator_list:\n",
    "        \n",
    "        # 3. Train model\n",
    "        model.fit(x_train_scaled, y_train)\n",
    "        \n",
    "        # 4. Get predictions\n",
    "        y_pred = model.predict(x_test_scaled)\n",
    "        if task == \"clf\":\n",
    "            y_prob = model.predict(x_test_scaled)\n",
    "            y_pred = np.where(y_prob > 0.5, 1, 0)\n",
    "        \n",
    "        res_df.loc[f\"{desc_name}|{method_name}\", \"ACC\"] = accuracy_metric(y_test, y_pred)\n",
    "\n",
    "        # 5. Key instance detection\n",
    "        w_pred = model.get_instance_weights(x_test_scaled)\n",
    "\n",
    "        # calc kid accuracy\n",
    "        for top_n in [1, 2, 3]:\n",
    "            res_df.loc[f\"{desc_name}|{method_name}\", f\"TOP-{top_n}\"] = kid_accuracy(kid_test, w_pred, top_n=top_n)\n",
    "\n",
    "        # cacl weights entropy\n",
    "        ent_mean = np.mean([normalized_entropy(w) for w in w_pred]).item()\n",
    "        res_df.loc[f\"{desc_name}|{method_name}\", \"ENT\"] = ent_mean\n",
    "        \n",
    "        # logging\n",
    "        n += 1\n",
    "        print(f\"{n}/{total_n} {desc_name}|{method_name}\", end=\"\\r\")\n",
    "\n",
    "# save results\n",
    "# res_df.to_csv(\"kid_results.csv\")"
   ]
  },
  {
   "cell_type": "code",
   "execution_count": 13,
   "id": "7fac6c07-1319-45b5-bdc6-126787aab6ca",
   "metadata": {},
   "outputs": [
    {
     "name": "stdout",
     "output_type": "stream",
     "text": [
      "Expected KID accuracy Top-1 = 0.10\n",
      "Expected KID accuracy Top-2 = 0.19\n",
      "Expected KID accuracy Top-3 = 0.27\n"
     ]
    }
   ],
   "source": [
    "bag_sizes = [len(i) for i in x_test]\n",
    "for top_n in [1, 2, 3]:\n",
    "    baseline = expected_kid_accuracy(kid_test, bag_sizes, top_n=top_n)\n",
    "    print(f\"Expected KID accuracy Top-{top_n} = {baseline:.2f}\")"
   ]
  },
  {
   "cell_type": "code",
   "execution_count": 14,
   "id": "d59a8160-bae2-43cf-9143-e9481483430b",
   "metadata": {},
   "outputs": [
    {
     "data": {
      "text/html": [
       "<div>\n",
       "<style scoped>\n",
       "    .dataframe tbody tr th:only-of-type {\n",
       "        vertical-align: middle;\n",
       "    }\n",
       "\n",
       "    .dataframe tbody tr th {\n",
       "        vertical-align: top;\n",
       "    }\n",
       "\n",
       "    .dataframe thead th {\n",
       "        text-align: right;\n",
       "    }\n",
       "</style>\n",
       "<table border=\"1\" class=\"dataframe\">\n",
       "  <thead>\n",
       "    <tr style=\"text-align: right;\">\n",
       "      <th></th>\n",
       "      <th>ACC</th>\n",
       "      <th>TOP-1</th>\n",
       "      <th>TOP-2</th>\n",
       "      <th>TOP-3</th>\n",
       "      <th>ENT</th>\n",
       "    </tr>\n",
       "  </thead>\n",
       "  <tbody>\n",
       "    <tr>\n",
       "      <th>MolFeatPmapper|DynamicPoolingNetworkClassifier</th>\n",
       "      <td>0.884274</td>\n",
       "      <td>0.182584</td>\n",
       "      <td>0.353933</td>\n",
       "      <td>0.435393</td>\n",
       "      <td>0.940229</td>\n",
       "    </tr>\n",
       "    <tr>\n",
       "      <th>MolFeatPmapper|AttentionNetworkClassifier</th>\n",
       "      <td>0.891170</td>\n",
       "      <td>0.165730</td>\n",
       "      <td>0.283708</td>\n",
       "      <td>0.410112</td>\n",
       "      <td>0.975658</td>\n",
       "    </tr>\n",
       "    <tr>\n",
       "      <th>RDKitGEOM|MultiHeadAttentionNetworkClassifier</th>\n",
       "      <td>0.710397</td>\n",
       "      <td>0.165730</td>\n",
       "      <td>0.252809</td>\n",
       "      <td>0.353933</td>\n",
       "      <td>0.992118</td>\n",
       "    </tr>\n",
       "    <tr>\n",
       "      <th>RDKitGEOM|DynamicPoolingNetworkClassifier</th>\n",
       "      <td>0.626228</td>\n",
       "      <td>0.162921</td>\n",
       "      <td>0.255618</td>\n",
       "      <td>0.376404</td>\n",
       "      <td>0.937492</td>\n",
       "    </tr>\n",
       "    <tr>\n",
       "      <th>RDKitWHIM|SelfAttentionNetworkClassifier</th>\n",
       "      <td>0.874295</td>\n",
       "      <td>0.157303</td>\n",
       "      <td>0.238764</td>\n",
       "      <td>0.362360</td>\n",
       "      <td>0.754035</td>\n",
       "    </tr>\n",
       "    <tr>\n",
       "      <th>...</th>\n",
       "      <td>...</td>\n",
       "      <td>...</td>\n",
       "      <td>...</td>\n",
       "      <td>...</td>\n",
       "      <td>...</td>\n",
       "    </tr>\n",
       "    <tr>\n",
       "      <th>RDKitWHIM|TempAttentionNetworkClassifier</th>\n",
       "      <td>0.881870</td>\n",
       "      <td>0.070225</td>\n",
       "      <td>0.140449</td>\n",
       "      <td>0.238764</td>\n",
       "      <td>0.477779</td>\n",
       "    </tr>\n",
       "    <tr>\n",
       "      <th>MolFeatPmapper|SelfAttentionNetworkClassifier</th>\n",
       "      <td>0.933177</td>\n",
       "      <td>0.067416</td>\n",
       "      <td>0.120787</td>\n",
       "      <td>0.219101</td>\n",
       "      <td>0.997874</td>\n",
       "    </tr>\n",
       "    <tr>\n",
       "      <th>RDKitGEOM|SelfAttentionNetworkClassifier</th>\n",
       "      <td>0.500000</td>\n",
       "      <td>0.064607</td>\n",
       "      <td>0.112360</td>\n",
       "      <td>0.171348</td>\n",
       "      <td>0.997816</td>\n",
       "    </tr>\n",
       "    <tr>\n",
       "      <th>MolFeatUSRD|MultiHeadAttentionNetworkClassifier</th>\n",
       "      <td>0.806426</td>\n",
       "      <td>0.064607</td>\n",
       "      <td>0.123596</td>\n",
       "      <td>0.193820</td>\n",
       "      <td>0.998472</td>\n",
       "    </tr>\n",
       "    <tr>\n",
       "      <th>RDKitGEOM|TempAttentionNetworkClassifier</th>\n",
       "      <td>0.500000</td>\n",
       "      <td>0.053371</td>\n",
       "      <td>0.109551</td>\n",
       "      <td>0.171348</td>\n",
       "      <td>0.932696</td>\n",
       "    </tr>\n",
       "  </tbody>\n",
       "</table>\n",
       "<p>63 rows × 5 columns</p>\n",
       "</div>"
      ],
      "text/plain": [
       "                                                      ACC     TOP-1     TOP-2  \\\n",
       "MolFeatPmapper|DynamicPoolingNetworkClassifier   0.884274  0.182584  0.353933   \n",
       "MolFeatPmapper|AttentionNetworkClassifier        0.891170  0.165730  0.283708   \n",
       "RDKitGEOM|MultiHeadAttentionNetworkClassifier    0.710397  0.165730  0.252809   \n",
       "RDKitGEOM|DynamicPoolingNetworkClassifier        0.626228  0.162921  0.255618   \n",
       "RDKitWHIM|SelfAttentionNetworkClassifier         0.874295  0.157303  0.238764   \n",
       "...                                                   ...       ...       ...   \n",
       "RDKitWHIM|TempAttentionNetworkClassifier         0.881870  0.070225  0.140449   \n",
       "MolFeatPmapper|SelfAttentionNetworkClassifier    0.933177  0.067416  0.120787   \n",
       "RDKitGEOM|SelfAttentionNetworkClassifier         0.500000  0.064607  0.112360   \n",
       "MolFeatUSRD|MultiHeadAttentionNetworkClassifier  0.806426  0.064607  0.123596   \n",
       "RDKitGEOM|TempAttentionNetworkClassifier         0.500000  0.053371  0.109551   \n",
       "\n",
       "                                                    TOP-3       ENT  \n",
       "MolFeatPmapper|DynamicPoolingNetworkClassifier   0.435393  0.940229  \n",
       "MolFeatPmapper|AttentionNetworkClassifier        0.410112  0.975658  \n",
       "RDKitGEOM|MultiHeadAttentionNetworkClassifier    0.353933  0.992118  \n",
       "RDKitGEOM|DynamicPoolingNetworkClassifier        0.376404  0.937492  \n",
       "RDKitWHIM|SelfAttentionNetworkClassifier         0.362360  0.754035  \n",
       "...                                                   ...       ...  \n",
       "RDKitWHIM|TempAttentionNetworkClassifier         0.238764  0.477779  \n",
       "MolFeatPmapper|SelfAttentionNetworkClassifier    0.219101  0.997874  \n",
       "RDKitGEOM|SelfAttentionNetworkClassifier         0.171348  0.997816  \n",
       "MolFeatUSRD|MultiHeadAttentionNetworkClassifier  0.193820  0.998472  \n",
       "RDKitGEOM|TempAttentionNetworkClassifier         0.171348  0.932696  \n",
       "\n",
       "[63 rows x 5 columns]"
      ]
     },
     "execution_count": 14,
     "metadata": {},
     "output_type": "execute_result"
    }
   ],
   "source": [
    "res_df.sort_values(by=\"TOP-1\", ascending=False)"
   ]
  },
  {
   "cell_type": "markdown",
   "id": "46d52c51-86ad-4506-a374-88554146b0b8",
   "metadata": {},
   "source": [
    "### 4. Best model analysis"
   ]
  },
  {
   "cell_type": "code",
   "execution_count": 15,
   "id": "87cf9edf-9a88-498d-bea6-a33c545b8f7a",
   "metadata": {},
   "outputs": [],
   "source": [
    "desc_calc = DescriptorWrapper(Pharmacophore3D(factory='pmapper'))\n",
    "# desc_calc = DescriptorWrapper(RDKitGEOM())\n",
    "\n",
    "# 1. Calc descriptors\n",
    "x_train = desc_calc.transform(mol_train)\n",
    "x_test = desc_calc.transform(mol_test)\n",
    "\n",
    "# 2. Scale descriptors\n",
    "scaler = BagMinMaxScaler()\n",
    "scaler.fit(x_train)\n",
    "x_train_scaled = scaler.transform(x_train)\n",
    "x_test_scaled = scaler.transform(x_test)"
   ]
  },
  {
   "cell_type": "code",
   "execution_count": 16,
   "id": "e11975e4-3c28-4f73-b821-26f83b0f801f",
   "metadata": {},
   "outputs": [],
   "source": [
    "network_hparams = {'hidden_layer_sizes':(256, 128, 64),\n",
    "                   'num_epoch':300,\n",
    "                   'batch_size':128,\n",
    "                   'learning_rate':0.001,\n",
    "                   'weight_decay':0.001,\n",
    "                   'instance_weight_dropout':0.01,\n",
    "                   'init_cuda':False,\n",
    "                   'verbose':False}"
   ]
  },
  {
   "cell_type": "code",
   "execution_count": 17,
   "id": "c21ed66b-2113-4cb8-867e-7cb1cd8843b1",
   "metadata": {},
   "outputs": [
    {
     "data": {
      "text/plain": [
       "DynamicPoolingNetworkRegressor(\n",
       "  (extractor): Sequential(\n",
       "    (0): Linear(in_features=11, out_features=256, bias=True)\n",
       "    (1): ReLU()\n",
       "    (2): Linear(in_features=256, out_features=128, bias=True)\n",
       "    (3): ReLU()\n",
       "    (4): Linear(in_features=128, out_features=64, bias=True)\n",
       "    (5): ReLU()\n",
       "  )\n",
       "  (pooling): DynamicPooling()\n",
       "  (estimator): Norm()\n",
       ")"
      ]
     },
     "execution_count": 17,
     "metadata": {},
     "output_type": "execute_result"
    }
   ],
   "source": [
    "# model = AttentionNetworkRegressor(**network_hparams)\n",
    "model = DynamicPoolingNetworkRegressor(**network_hparams)\n",
    "\n",
    "model.fit(x_train_scaled, y_train)"
   ]
  },
  {
   "cell_type": "code",
   "execution_count": 18,
   "id": "a4772bcb-67e1-48ee-8dda-7991b99f9ef8",
   "metadata": {},
   "outputs": [],
   "source": [
    "y_pred = model.predict(x_test_scaled)\n",
    "w_pred = model.get_instance_weights(x_test_scaled)"
   ]
  },
  {
   "cell_type": "code",
   "execution_count": 19,
   "id": "16a0956d-1537-45d6-8316-84d4071f8cc9",
   "metadata": {},
   "outputs": [
    {
     "name": "stdout",
     "output_type": "stream",
     "text": [
      "0.07598596811294556\n",
      "0.14887640449438203\n",
      "0.09692859451562535\n",
      "\n",
      "0.0\n",
      "0.0\n"
     ]
    }
   ],
   "source": [
    "top_n = 1\n",
    "\n",
    "print(r2_score(y_test, y_pred))\n",
    "print(kid_accuracy(kid_test, w_pred, top_n=top_n))\n",
    "print(expected_kid_accuracy(kid_test, [len(i) for i in w_pred], top_n=top_n))\n",
    "\n",
    "kid_test_7, w_pred_7 = [], []\n",
    "for y, k, w in zip(y_test, kid_test, w_pred):\n",
    "    if y == 7:\n",
    "        kid_test_7.append(k)\n",
    "        w_pred_7.append(w)\n",
    "print()\n",
    "print(kid_accuracy(kid_test_7, w_pred_7, top_n=top_n))\n",
    "print(expected_kid_accuracy(kid_test_7, [len(i) for i in w_pred_7], top_n=top_n))"
   ]
  },
  {
   "cell_type": "code",
   "execution_count": null,
   "id": "cb851488-85e7-4954-b793-b3272936be36",
   "metadata": {},
   "outputs": [],
   "source": []
  },
  {
   "cell_type": "code",
   "execution_count": null,
   "id": "b5991c6a-fd62-42e5-9787-d869019a61c1",
   "metadata": {},
   "outputs": [],
   "source": []
  },
  {
   "cell_type": "code",
   "execution_count": 20,
   "id": "18900aea-483d-4c76-bbf6-d949b36eb6b1",
   "metadata": {},
   "outputs": [
    {
     "data": {
      "text/plain": [
       "[]"
      ]
     },
     "execution_count": 20,
     "metadata": {},
     "output_type": "execute_result"
    }
   ],
   "source": [
    "tmp = []\n",
    "for n, y in enumerate(y_test):\n",
    "    if y == 7:\n",
    "        tmp.append(n)\n",
    "tmp[:10]"
   ]
  },
  {
   "cell_type": "code",
   "execution_count": 21,
   "id": "501dd6d4-0d76-4890-95b0-b64e9c3f4f1b",
   "metadata": {},
   "outputs": [],
   "source": [
    "N = 15"
   ]
  },
  {
   "cell_type": "code",
   "execution_count": 22,
   "id": "a814542a-aed1-4142-9836-7a6437c919ec",
   "metadata": {},
   "outputs": [
    {
     "data": {
      "text/plain": [
       "1"
      ]
     },
     "execution_count": 22,
     "metadata": {},
     "output_type": "execute_result"
    }
   ],
   "source": [
    "y_test[N]"
   ]
  },
  {
   "cell_type": "code",
   "execution_count": 23,
   "id": "90349702-4b1d-462a-bec9-8c95a22bbed3",
   "metadata": {},
   "outputs": [
    {
     "data": {
      "text/plain": [
       "[2]"
      ]
     },
     "execution_count": 23,
     "metadata": {},
     "output_type": "execute_result"
    }
   ],
   "source": [
    "kid_test[N]"
   ]
  },
  {
   "cell_type": "code",
   "execution_count": 24,
   "id": "6dfe7ab0-f9ca-4e61-bfc2-9a41326138b9",
   "metadata": {},
   "outputs": [
    {
     "data": {
      "text/plain": [
       "array([0.05, 0.05, 0.05, 0.05, 0.05], dtype=float32)"
      ]
     },
     "execution_count": 24,
     "metadata": {},
     "output_type": "execute_result"
    }
   ],
   "source": [
    "w_pred[N].round(2)"
   ]
  },
  {
   "cell_type": "code",
   "execution_count": null,
   "id": "8c96c208-6014-487a-b497-dfbdab2e7f3e",
   "metadata": {},
   "outputs": [],
   "source": []
  },
  {
   "cell_type": "code",
   "execution_count": null,
   "id": "9ed532bf-ce24-4f9c-b91d-0d2ff1edc458",
   "metadata": {},
   "outputs": [],
   "source": []
  },
  {
   "cell_type": "code",
   "execution_count": null,
   "id": "3857e030-e0e0-4897-8849-cb155a8138a8",
   "metadata": {},
   "outputs": [],
   "source": []
  }
 ],
 "metadata": {
  "kernelspec": {
   "display_name": "qsarmil",
   "language": "python",
   "name": "qsarmil"
  },
  "language_info": {
   "codemirror_mode": {
    "name": "ipython",
    "version": 3
   },
   "file_extension": ".py",
   "mimetype": "text/x-python",
   "name": "python",
   "nbconvert_exporter": "python",
   "pygments_lexer": "ipython3",
   "version": "3.10.18"
  }
 },
 "nbformat": 4,
 "nbformat_minor": 5
}
