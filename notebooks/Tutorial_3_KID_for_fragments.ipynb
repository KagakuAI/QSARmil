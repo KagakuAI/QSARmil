{
 "cells": [
  {
   "cell_type": "markdown",
   "id": "4ae70e79-b15d-4ea1-85e4-19590aca7273",
   "metadata": {},
   "source": [
    "### Introduction\n",
    "\n",
    "Each bag contains a collection of molecular fragments. The label is the sum of some property calculated for each fragment. These properties are chosen to be preferably additive (can be calculated as a linear contribution of each fragment). The predicted weights should correspond to the contribution of each fragment. The higher the contribution, the higher the weight should be.\n",
    "\n",
    "**Instance:** One molecular fragment (e.g. C(=O)O - Carboxy group).\n",
    "\n",
    "**Bag**: A collection of fragments (e.g., a list of 5 fragments).\n",
    "\n",
    "**Label:** A sum of fragment property value (e.g. LogP) in the bag.\n",
    "\n",
    "**Key instance:** All fragments."
   ]
  },
  {
   "cell_type": "code",
   "execution_count": 1,
   "id": "d603ccad-b191-45e8-9987-0c0494f2d8d1",
   "metadata": {},
   "outputs": [],
   "source": [
    "import logging\n",
    "import warnings\n",
    "warnings.filterwarnings(\"ignore\")\n",
    "logging.getLogger(\"pytorch_lightning\").setLevel(logging.ERROR)\n",
    "logging.getLogger(\"lightning\").setLevel(logging.ERROR)\n",
    "from rdkit import RDLogger\n",
    "# Suppress all RDKit warnings\n",
    "RDLogger.DisableLog('rdApp.*')\n",
    "\n",
    "import time\n",
    "import torch\n",
    "import random\n",
    "\n",
    "import numpy as np\n",
    "import pandas as pd\n",
    "\n",
    "import matplotlib.pyplot as plt\n",
    "\n",
    "# Preprocessing\n",
    "from milearn.preprocessing import BagMinMaxScaler\n",
    "\n",
    "# Network hparams\n",
    "from milearn.network.module.hopt import DEFAULT_PARAM_GRID\n",
    "\n",
    "# MIL wrappers\n",
    "from milearn.network.regressor import BagWrapperMLPNetworkRegressor, InstanceWrapperMLPNetworkRegressor\n",
    "from milearn.network.classifier import BagWrapperMLPNetworkClassifier, InstanceWrapperMLPNetworkClassifier\n",
    "\n",
    "# MIL networks\n",
    "from milearn.network.regressor import (InstanceNetworkRegressor,\n",
    "                                       BagNetworkRegressor,\n",
    "                                       AdditiveAttentionNetworkRegressor,\n",
    "                                       SelfAttentionNetworkRegressor,\n",
    "                                       HopfieldAttentionNetworkRegressor,\n",
    "                                       DynamicPoolingNetworkRegressor)\n",
    "\n",
    "# Utils\n",
    "from scipy.stats import spearmanr\n",
    "from sklearn.metrics import r2_score, accuracy_score\n",
    "from sklearn.model_selection import train_test_split\n",
    "\n",
    "# Molecular utils\n",
    "from qsarmil.data.fragment import create_fragment_bags\n",
    "from rdkit import Chem\n",
    "from rdkit.Chem import AllChem\n",
    "\n",
    "# Prediction visualisation\n",
    "from qsarmil.data.fragment import display_fragments_with_weights"
   ]
  },
  {
   "cell_type": "markdown",
   "id": "195fb753-5dea-4160-af2c-5dac4d3b4f22",
   "metadata": {},
   "source": [
    "### Key Instance Detection Ranking Accuracy for Regression\n",
    "\n",
    "This function evaluates how well a model's predicted attention weights rank the important instances in a bag, by computing the Spearman rank correlation between:\n",
    "\n",
    "* The true importance ranking (represented here by the fragment property values)\n",
    "\n",
    "* The predicted importance scores (predicted weights)"
   ]
  },
  {
   "cell_type": "code",
   "execution_count": 2,
   "id": "c296404f-5204-4200-9a35-2ca10b0d5403",
   "metadata": {},
   "outputs": [],
   "source": [
    "def kid_ranking_accuracy(instance_digits, attn_weights):\n",
    "\n",
    "    per_bag_corrs = []\n",
    "    for w, digits in zip(attn_weights, instance_digits):\n",
    "        if len(set(digits)) == 1:\n",
    "            # Avoid undefined correlation when all digits are identical\n",
    "            per_bag_corrs.append(0.0)\n",
    "            continue\n",
    "\n",
    "        corr, _ = spearmanr(w, digits)\n",
    "        if np.isnan(corr):\n",
    "            corr = 0.0\n",
    "        per_bag_corrs.append(corr)\n",
    "\n",
    "    mean_corr = np.mean(per_bag_corrs)\n",
    "    return mean_corr"
   ]
  },
  {
   "cell_type": "markdown",
   "id": "112eaf42-a36a-4499-8dd0-f21addcf1e85",
   "metadata": {},
   "source": [
    "### 1. Create Fragment dataset\n",
    "\n",
    "In Multiple Instance Learning (MIL), each bag is a collection of instances (here, molecular fragments), and the task often involves predicting a label for the entire bag. In this specific setup:\n",
    "\n",
    "* Each molecule is broken into BRICS fragments.\n",
    "\n",
    "* A fixed number of these fragments are randomly sampled to form a bag.\n",
    "\n",
    "* A chemical property is calculated for each fragment.\n",
    "\n",
    "* The sum of fragment properties becomes the bag's label.\n",
    "\n",
    "* The function returns: The fragment bags (as RDKit Mol objects), The bag labels (total property), The individual fragment properties (per bag)."
   ]
  },
  {
   "cell_type": "markdown",
   "id": "f0d3d188-e74c-46a7-b62f-6985141d7198",
   "metadata": {},
   "source": [
    "**The list of properties that can be calculated for fragments:**\n",
    "\n",
    "* ``LogP`` – Lipophilicity\n",
    "\n",
    "* ``MolWt`` – Molecular weight\n",
    "\n",
    "* ``TPSA`` – Topological polar surface area\n",
    "\n",
    "* ``NumHDonors`` – Number of hydrogen bond donors\n",
    "\n",
    "* ``NumHAcceptors`` – Number of hydrogen bond acceptors\n",
    "\n",
    "* ``MolMR`` – Molar refractivity\n",
    "\n",
    "* ``NumRotatableBonds`` – Flexibility\n",
    "\n",
    "* ``RingCount`` – Number of rings\n",
    "\n",
    "* ``FractionCSP3`` – Fraction of sp³-hybridized carbon atoms"
   ]
  },
  {
   "cell_type": "code",
   "execution_count": 3,
   "id": "961bc140-7794-4bb4-9daa-cd15eaa418b3",
   "metadata": {},
   "outputs": [],
   "source": [
    "bag_size = 5\n",
    "property_name = \"LogP\"\n",
    "\n",
    "smiles = list(pd.read_csv(\"data/CHEMBL1824/train.csv\", header=None)[0])\n",
    "mols = [Chem.MolFromSmiles(s) for s in smiles]\n",
    "\n",
    "# create dataset\n",
    "bags, labels, contribs = create_fragment_bags(mols, bag_size=bag_size, property_name=property_name)"
   ]
  },
  {
   "cell_type": "code",
   "execution_count": 4,
   "id": "76fba210-124e-4252-a8dd-fe4e42ffa49c",
   "metadata": {},
   "outputs": [
    {
     "name": "stdout",
     "output_type": "stream",
     "text": [
      "Total number of molecules: 1667\n",
      "Total number of bags (successfully generated fragments): 1234\n"
     ]
    }
   ],
   "source": [
    "print(f\"Total number of molecules: {len(mols)}\")\n",
    "print(f\"Total number of bags (successfully generated fragments): {len(bags)}\")"
   ]
  },
  {
   "cell_type": "code",
   "execution_count": 5,
   "id": "315d90a9-b66b-48c4-aaba-2dd1d5f47fa7",
   "metadata": {},
   "outputs": [
    {
     "data": {
      "text/plain": [
       "[<rdkit.Chem.rdchem.Mol at 0x7f5206883290>,\n",
       " <rdkit.Chem.rdchem.Mol at 0x7f5206883220>,\n",
       " <rdkit.Chem.rdchem.Mol at 0x7f5206883060>,\n",
       " <rdkit.Chem.rdchem.Mol at 0x7f5206883370>,\n",
       " <rdkit.Chem.rdchem.Mol at 0x7f5206883140>]"
      ]
     },
     "execution_count": 5,
     "metadata": {},
     "output_type": "execute_result"
    }
   ],
   "source": [
    "bags[0]"
   ]
  },
  {
   "cell_type": "code",
   "execution_count": 6,
   "id": "f624dd0d-75c1-4845-ad98-c39180b4889d",
   "metadata": {},
   "outputs": [
    {
     "data": {
      "text/plain": [
       "[0.029899999999999982, 0.4608, -0.0684, 1.6237, 0.9216]"
      ]
     },
     "execution_count": 6,
     "metadata": {},
     "output_type": "execute_result"
    }
   ],
   "source": [
    "contribs[0]"
   ]
  },
  {
   "cell_type": "markdown",
   "id": "121edf28-caeb-4a1a-a7bb-487feeaa72b9",
   "metadata": {},
   "source": [
    "### 2. Calculate fragment descriptors"
   ]
  },
  {
   "cell_type": "code",
   "execution_count": 7,
   "id": "692a1707-5126-4fb6-bc07-6bf784da8064",
   "metadata": {},
   "outputs": [],
   "source": [
    "def compute_fragment_descriptors(bags, n_bits=128, radius=2):\n",
    "    bags_descriptors = []\n",
    "    for bag in bags:\n",
    "        descs = [np.array(AllChem.GetMorganFingerprintAsBitVect(frag, radius, nBits=n_bits))\n",
    "                 for frag in bag]\n",
    "        bags_descriptors.append(descs)\n",
    "    return bags_descriptors"
   ]
  },
  {
   "cell_type": "code",
   "execution_count": 8,
   "id": "9882c183-11aa-4964-8e1a-7e457c354f78",
   "metadata": {
    "scrolled": true
   },
   "outputs": [],
   "source": [
    "dsc = compute_fragment_descriptors(bags)"
   ]
  },
  {
   "cell_type": "markdown",
   "id": "00ed31db-d1a4-4de7-b875-ea56f70147a5",
   "metadata": {},
   "source": [
    "### 3. Build model"
   ]
  },
  {
   "cell_type": "code",
   "execution_count": 9,
   "id": "050d4308-c4dc-4a35-8a34-31ba1c11df64",
   "metadata": {},
   "outputs": [],
   "source": [
    "x_train, x_test, y_train, y_test, key_train, key_test, frg_train, frg_test = train_test_split(dsc, labels, contribs, bags, random_state=42)\n",
    "#\n",
    "scaler = BagMinMaxScaler()\n",
    "scaler.fit(x_train)\n",
    "x_train_scaled = scaler.transform(x_train)\n",
    "x_test_scaled = scaler.transform(x_test)"
   ]
  },
  {
   "cell_type": "code",
   "execution_count": 16,
   "id": "016b8325-a377-4e10-b0c8-ed70e2542629",
   "metadata": {},
   "outputs": [
    {
     "name": "stdout",
     "output_type": "stream",
     "text": [
      "Optimizing hyperparameter: hidden_layer_sizes (3 options)\n",
      "[1/28 |  3.6% |  0.3 min] Value: (2048, 1024, 512, 256, 128, 64), Epochs: 29, Loss: 0.0039\n",
      "[2/28 |  7.1% |  0.1 min] Value: (256, 128, 64), Epochs: 33, Loss: 0.0066\n",
      "[3/28 | 10.7% |  0.3 min] Value: (128,), Epochs: 105, Loss: 0.0080\n",
      "Best hidden_layer_sizes = (2048, 1024, 512, 256, 128, 64), val_loss = 0.0039\n",
      "Optimizing hyperparameter: activation (5 options)\n",
      "[4/28 | 14.3% |  0.5 min] Value: relu, Epochs: 35, Loss: 0.0031\n",
      "[5/28 | 17.9% |  0.5 min] Value: leakyrelu, Epochs: 36, Loss: 0.0032\n",
      "[6/28 | 21.4% |  0.4 min] Value: gelu, Epochs: 26, Loss: 0.0027\n",
      "[7/28 | 25.0% |  0.6 min] Value: elu, Epochs: 44, Loss: 0.0036\n",
      "[8/28 | 28.6% |  0.7 min] Value: silu, Epochs: 53, Loss: 0.0022\n",
      "Best activation = silu, val_loss = 0.0022\n",
      "Optimizing hyperparameter: learning_rate (2 options)\n",
      "[9/28 | 32.1% |  0.4 min] Value: 0.0001, Epochs: 35, Loss: 0.0053\n",
      "[10/28 | 35.7% |  0.6 min] Value: 0.001, Epochs: 68, Loss: 0.0026\n",
      "Best learning_rate = 0.001, val_loss = 0.0026\n",
      "Optimizing hyperparameter: batch_size (3 options)\n",
      "[11/28 | 39.3% |  1.0 min] Value: 32, Epochs: 38, Loss: 0.0025\n",
      "[12/28 | 42.9% |  0.5 min] Value: 512, Epochs: 51, Loss: 0.0026\n",
      "[13/28 | 46.4% |  0.6 min] Value: 1024, Epochs: 76, Loss: 0.0028\n",
      "Best batch_size = 32, val_loss = 0.0025\n",
      "Optimizing hyperparameter: weight_decay (5 options)\n",
      "[14/28 | 50.0% |  1.7 min] Value: 0.0, Epochs: 34, Loss: 0.0022\n",
      "[15/28 | 53.6% |  1.7 min] Value: 1e-05, Epochs: 32, Loss: 0.0026\n",
      "[16/28 | 57.1% |  1.9 min] Value: 0.0001, Epochs: 40, Loss: 0.0019\n",
      "[17/28 | 60.7% |  1.7 min] Value: 0.001, Epochs: 31, Loss: 0.0020\n",
      "[18/28 | 64.3% |  1.6 min] Value: 0.01, Epochs: 29, Loss: 0.0022\n",
      "Best weight_decay = 0.0001, val_loss = 0.0019\n",
      "Optimizing hyperparameter: instance_dropout (5 options)\n",
      "[19/28 | 67.9% |  1.3 min] Value: 0.0, Epochs: 28, Loss: 0.0028\n",
      "[20/28 | 71.4% |  0.7 min] Value: 0.2, Epochs: 13, Loss: 0.0298\n",
      "[21/28 | 75.0% |  1.8 min] Value: 0.4, Epochs: 41, Loss: 0.0196\n",
      "[22/28 | 78.6% |  1.4 min] Value: 0.6, Epochs: 26, Loss: 0.0597\n",
      "[23/28 | 82.1% |  1.8 min] Value: 0.8, Epochs: 42, Loss: 0.0885\n",
      "Best instance_dropout = 0.0, val_loss = 0.0028\n",
      "Optimizing hyperparameter: random_seed (5 options)\n",
      "[24/28 | 85.7% |  2.0 min] Value: 1, Epochs: 40, Loss: 0.0018\n",
      "[25/28 | 89.3% |  1.6 min] Value: 2, Epochs: 30, Loss: 0.0023\n",
      "[26/28 | 92.9% |  2.4 min] Value: 3, Epochs: 53, Loss: 0.0020\n",
      "[27/28 | 96.4% |  2.7 min] Value: 4, Epochs: 69, Loss: 0.0021\n",
      "[28/28 | 100.0% |  1.9 min] Value: 5, Epochs: 36, Loss: 0.0021\n",
      "Best random_seed = 1, val_loss = 0.0018\n",
      "Stepwise optimization completed in 8.9 min\n",
      "\n"
     ]
    },
    {
     "data": {
      "text/plain": [
       "DynamicPoolingNetworkRegressor(\n",
       "  (instance_transformer): Sequential(\n",
       "    (0): Linear(in_features=128, out_features=2048, bias=True)\n",
       "    (1): SiLU()\n",
       "    (2): Linear(in_features=2048, out_features=1024, bias=True)\n",
       "    (3): SiLU()\n",
       "    (4): Linear(in_features=1024, out_features=512, bias=True)\n",
       "    (5): SiLU()\n",
       "    (6): Linear(in_features=512, out_features=256, bias=True)\n",
       "    (7): SiLU()\n",
       "    (8): Linear(in_features=256, out_features=128, bias=True)\n",
       "    (9): SiLU()\n",
       "    (10): Linear(in_features=128, out_features=64, bias=True)\n",
       "    (11): SiLU()\n",
       "  )\n",
       "  (bag_estimator): Norm()\n",
       "  (dynamic_pooling): DynamicPooling()\n",
       ")"
      ]
     },
     "execution_count": 16,
     "metadata": {},
     "output_type": "execute_result"
    }
   ],
   "source": [
    "model = DynamicPoolingNetworkRegressor()\n",
    "model.hopt(x_train_scaled, y_train, param_grid=DEFAULT_PARAM_GRID, verbose=True)\n",
    "model.fit(x_train_scaled, y_train)"
   ]
  },
  {
   "cell_type": "code",
   "execution_count": 17,
   "id": "58b9e45e-76b5-4fcd-a6fb-81a164bbdbf3",
   "metadata": {},
   "outputs": [],
   "source": [
    "y_pred = model.predict(x_test_scaled)\n",
    "w_pred = model.get_instance_weights(x_test_scaled)\n",
    "w_pred = [w.flatten() for w in w_pred]"
   ]
  },
  {
   "cell_type": "code",
   "execution_count": 18,
   "id": "71657a5d-fc8a-4ee0-a027-989392a00f40",
   "metadata": {},
   "outputs": [
    {
     "name": "stdout",
     "output_type": "stream",
     "text": [
      "Regression R2: 0.83\n",
      "KID ranking accuracy: 0.90\n"
     ]
    }
   ],
   "source": [
    "print(f\"Regression R2: {r2_score(y_test, y_pred):.2f}\")\n",
    "print(f\"KID ranking accuracy: {kid_ranking_accuracy(key_test, w_pred):.2f}\")"
   ]
  },
  {
   "cell_type": "code",
   "execution_count": 19,
   "id": "b820883d-a563-4cca-81b3-42bb4bcd444f",
   "metadata": {},
   "outputs": [
    {
     "data": {
      "image/png": "[encoded data removed]",
      "text/plain": [
       "<Figure size 1200x600 with 8 Axes>"
      ]
     },
     "metadata": {},
     "output_type": "display_data"
    }
   ],
   "source": [
    "N = 1\n",
    "display_fragments_with_weights(frg_test[N], key_test[N], w_pred[N], sort=True, max_fragments=10,\n",
    "                               title=f\"Bag {N}\\nPredicted label:{y_pred[N].item():.2f}\\nTrue label: {y_test[N]:.2f}\")"
   ]
  },
  {
   "cell_type": "markdown",
   "id": "b4d1b3a0-5393-4d86-a595-1d7c9d4833ee",
   "metadata": {},
   "source": [
    "### 4. Mini-benchmark"
   ]
  },
  {
   "cell_type": "code",
   "execution_count": 20,
   "id": "b9603049-4c2f-423a-b9e5-05437aac445e",
   "metadata": {},
   "outputs": [],
   "source": [
    "regressor_list = [\n",
    "    \n",
    "        # attention mil networks\n",
    "        (\"AdditiveAttentionNetworkRegressor\", AdditiveAttentionNetworkRegressor()),\n",
    "        (\"SelfAttentionNetworkRegressor\", SelfAttentionNetworkRegressor()),\n",
    "        (\"HopfieldAttentionNetworkRegressor\", HopfieldAttentionNetworkRegressor()),\n",
    "\n",
    "        # other mil networks\n",
    "        (\"DynamicPoolingNetworkRegressor\", DynamicPoolingNetworkRegressor()),\n",
    "    ]"
   ]
  },
  {
   "cell_type": "code",
   "execution_count": 21,
   "id": "4523bd06-47da-427f-85ac-9a3492778dd5",
   "metadata": {},
   "outputs": [
    {
     "name": "stdout",
     "output_type": "stream",
     "text": [
      "\n",
      "[Task 1/9] Starting task: 'LogP'\n",
      "  [Model 1/4] Training model: 'AdditiveAttentionNetworkRegressor'\n",
      "  [Model 2/4] Training model: 'SelfAttentionNetworkRegressor'\n",
      "  [Model 3/4] Training model: 'HopfieldAttentionNetworkRegressor'\n",
      "  [Model 4/4] Training model: 'DynamicPoolingNetworkRegressor'\n",
      "\n",
      "[Task 2/9] Starting task: 'MolWt'\n",
      "  [Model 1/4] Training model: 'AdditiveAttentionNetworkRegressor'\n",
      "  [Model 2/4] Training model: 'SelfAttentionNetworkRegressor'\n",
      "  [Model 3/4] Training model: 'HopfieldAttentionNetworkRegressor'\n",
      "  [Model 4/4] Training model: 'DynamicPoolingNetworkRegressor'\n",
      "\n",
      "[Task 3/9] Starting task: 'TPSA'\n",
      "  [Model 1/4] Training model: 'AdditiveAttentionNetworkRegressor'\n",
      "  [Model 2/4] Training model: 'SelfAttentionNetworkRegressor'\n",
      "  [Model 3/4] Training model: 'HopfieldAttentionNetworkRegressor'\n",
      "  [Model 4/4] Training model: 'DynamicPoolingNetworkRegressor'\n",
      "\n",
      "[Task 4/9] Starting task: 'NumHDonors'\n",
      "  [Model 1/4] Training model: 'AdditiveAttentionNetworkRegressor'\n",
      "  [Model 2/4] Training model: 'SelfAttentionNetworkRegressor'\n",
      "  [Model 3/4] Training model: 'HopfieldAttentionNetworkRegressor'\n",
      "  [Model 4/4] Training model: 'DynamicPoolingNetworkRegressor'\n",
      "\n",
      "[Task 5/9] Starting task: 'NumHAcceptors'\n",
      "  [Model 1/4] Training model: 'AdditiveAttentionNetworkRegressor'\n",
      "  [Model 2/4] Training model: 'SelfAttentionNetworkRegressor'\n",
      "  [Model 3/4] Training model: 'HopfieldAttentionNetworkRegressor'\n",
      "  [Model 4/4] Training model: 'DynamicPoolingNetworkRegressor'\n",
      "\n",
      "[Task 6/9] Starting task: 'MolMR'\n",
      "  [Model 1/4] Training model: 'AdditiveAttentionNetworkRegressor'\n",
      "  [Model 2/4] Training model: 'SelfAttentionNetworkRegressor'\n",
      "  [Model 3/4] Training model: 'HopfieldAttentionNetworkRegressor'\n",
      "  [Model 4/4] Training model: 'DynamicPoolingNetworkRegressor'\n",
      "\n",
      "[Task 7/9] Starting task: 'NumRotatableBonds'\n",
      "  [Model 1/4] Training model: 'AdditiveAttentionNetworkRegressor'\n",
      "  [Model 2/4] Training model: 'SelfAttentionNetworkRegressor'\n",
      "  [Model 3/4] Training model: 'HopfieldAttentionNetworkRegressor'\n",
      "  [Model 4/4] Training model: 'DynamicPoolingNetworkRegressor'\n",
      "\n",
      "[Task 8/9] Starting task: 'RingCount'\n",
      "  [Model 1/4] Training model: 'AdditiveAttentionNetworkRegressor'\n",
      "  [Model 2/4] Training model: 'SelfAttentionNetworkRegressor'\n",
      "  [Model 3/4] Training model: 'HopfieldAttentionNetworkRegressor'\n",
      "  [Model 4/4] Training model: 'DynamicPoolingNetworkRegressor'\n",
      "\n",
      "[Task 9/9] Starting task: 'FractionCSP3'\n",
      "  [Model 1/4] Training model: 'AdditiveAttentionNetworkRegressor'\n",
      "  [Model 2/4] Training model: 'SelfAttentionNetworkRegressor'\n",
      "  [Model 3/4] Training model: 'HopfieldAttentionNetworkRegressor'\n",
      "  [Model 4/4] Training model: 'DynamicPoolingNetworkRegressor'\n",
      "\n",
      "All tasks and models completed.\n"
     ]
    }
   ],
   "source": [
    "bag_size = 5\n",
    "\n",
    "res_df = pd.DataFrame()\n",
    "tasks = [\"LogP\", \"MolWt\", \"TPSA\", \"NumHDonors\", \"NumHAcceptors\", \n",
    "         \"MolMR\", \"NumRotatableBonds\", \"RingCount\", \"FractionCSP3\"]\n",
    "\n",
    "for task_idx, task in enumerate(tasks, 1):\n",
    "    print(f\"\\n[Task {task_idx}/{len(tasks)}] Starting task: '{task}'\")\n",
    "\n",
    "    # create data\n",
    "    smiles = list(pd.read_csv(\"data/CHEMBL1824/train.csv\", header=None)[0])\n",
    "    mols = [Chem.MolFromSmiles(s) for s in smiles]\n",
    "    \n",
    "    bags, labels, contribs = create_fragment_bags(mols, bag_size=bag_size, property_name=task)\n",
    "    dsc = compute_fragment_descriptors(bags)\n",
    "    \n",
    "    x_train, x_test, y_train, y_test, key_train, key_test, frg_train, frg_test = train_test_split(\n",
    "        dsc, labels, contribs, bags, random_state=42)\n",
    "    \n",
    "    # scale features\n",
    "    scaler = BagMinMaxScaler()\n",
    "    scaler.fit(x_train)\n",
    "    x_train_scaled, x_test_scaled = scaler.transform(x_train), scaler.transform(x_test)\n",
    "    \n",
    "    # build models\n",
    "    for model_idx, (name, model) in enumerate(regressor_list, 1):\n",
    "        print(f\"  [Model {model_idx}/{len(regressor_list)}] Training model: '{name}'\")\n",
    "\n",
    "        # train model\n",
    "        # model.hopt(x_train_scaled, y_train, param_grid=DEFAULT_PARAM_GRID, verbose=True)\n",
    "        model.fit(x_train_scaled, y_train)\n",
    "        \n",
    "        # predict\n",
    "        y_pred = model.predict(x_test_scaled)\n",
    "        w_pred = model.get_instance_weights(x_test_scaled)\n",
    "        w_pred = [w.flatten() for w in w_pred]\n",
    "        #\n",
    "        res_df.loc[name, f\"PRED_{task}\"] = r2_score(y_test, y_pred)\n",
    "        res_df.loc[name, f\"KID_{task}\"] = kid_ranking_accuracy(key_test, w_pred)\n",
    "\n",
    "print(\"\\nAll tasks and models completed.\")"
   ]
  },
  {
   "cell_type": "code",
   "execution_count": 22,
   "id": "df0ed6f6-21c1-4087-96fd-51efdc662085",
   "metadata": {},
   "outputs": [
    {
     "data": {
      "text/html": [
       "<div>\n",
       "<style scoped>\n",
       "    .dataframe tbody tr th:only-of-type {\n",
       "        vertical-align: middle;\n",
       "    }\n",
       "\n",
       "    .dataframe tbody tr th {\n",
       "        vertical-align: top;\n",
       "    }\n",
       "\n",
       "    .dataframe thead th {\n",
       "        text-align: right;\n",
       "    }\n",
       "</style>\n",
       "<table border=\"1\" class=\"dataframe\">\n",
       "  <thead>\n",
       "    <tr style=\"text-align: right;\">\n",
       "      <th></th>\n",
       "      <th>PRED_LogP</th>\n",
       "      <th>KID_LogP</th>\n",
       "      <th>PRED_MolWt</th>\n",
       "      <th>KID_MolWt</th>\n",
       "      <th>PRED_TPSA</th>\n",
       "      <th>KID_TPSA</th>\n",
       "      <th>PRED_NumHDonors</th>\n",
       "      <th>KID_NumHDonors</th>\n",
       "      <th>PRED_NumHAcceptors</th>\n",
       "      <th>KID_NumHAcceptors</th>\n",
       "      <th>PRED_MolMR</th>\n",
       "      <th>KID_MolMR</th>\n",
       "      <th>PRED_NumRotatableBonds</th>\n",
       "      <th>KID_NumRotatableBonds</th>\n",
       "      <th>PRED_RingCount</th>\n",
       "      <th>KID_RingCount</th>\n",
       "      <th>PRED_FractionCSP3</th>\n",
       "      <th>KID_FractionCSP3</th>\n",
       "    </tr>\n",
       "  </thead>\n",
       "  <tbody>\n",
       "    <tr>\n",
       "      <th>AdditiveAttentionNetworkRegressor</th>\n",
       "      <td>0.78</td>\n",
       "      <td>0.00</td>\n",
       "      <td>0.92</td>\n",
       "      <td>0.72</td>\n",
       "      <td>0.77</td>\n",
       "      <td>0.12</td>\n",
       "      <td>0.78</td>\n",
       "      <td>0.07</td>\n",
       "      <td>0.94</td>\n",
       "      <td>0.00</td>\n",
       "      <td>0.94</td>\n",
       "      <td>0.23</td>\n",
       "      <td>0.89</td>\n",
       "      <td>0.28</td>\n",
       "      <td>0.97</td>\n",
       "      <td>-0.19</td>\n",
       "      <td>0.99</td>\n",
       "      <td>-0.25</td>\n",
       "    </tr>\n",
       "    <tr>\n",
       "      <th>SelfAttentionNetworkRegressor</th>\n",
       "      <td>0.75</td>\n",
       "      <td>0.05</td>\n",
       "      <td>0.47</td>\n",
       "      <td>0.69</td>\n",
       "      <td>0.54</td>\n",
       "      <td>0.61</td>\n",
       "      <td>0.80</td>\n",
       "      <td>0.57</td>\n",
       "      <td>0.94</td>\n",
       "      <td>0.07</td>\n",
       "      <td>0.50</td>\n",
       "      <td>0.90</td>\n",
       "      <td>0.92</td>\n",
       "      <td>0.34</td>\n",
       "      <td>0.96</td>\n",
       "      <td>0.45</td>\n",
       "      <td>0.99</td>\n",
       "      <td>0.17</td>\n",
       "    </tr>\n",
       "    <tr>\n",
       "      <th>HopfieldAttentionNetworkRegressor</th>\n",
       "      <td>0.46</td>\n",
       "      <td>-0.06</td>\n",
       "      <td>0.47</td>\n",
       "      <td>0.79</td>\n",
       "      <td>0.51</td>\n",
       "      <td>0.51</td>\n",
       "      <td>0.58</td>\n",
       "      <td>0.55</td>\n",
       "      <td>0.56</td>\n",
       "      <td>0.26</td>\n",
       "      <td>0.50</td>\n",
       "      <td>0.91</td>\n",
       "      <td>0.84</td>\n",
       "      <td>0.34</td>\n",
       "      <td>0.90</td>\n",
       "      <td>0.13</td>\n",
       "      <td>0.36</td>\n",
       "      <td>-0.08</td>\n",
       "    </tr>\n",
       "    <tr>\n",
       "      <th>DynamicPoolingNetworkRegressor</th>\n",
       "      <td>0.50</td>\n",
       "      <td>0.74</td>\n",
       "      <td>0.80</td>\n",
       "      <td>0.88</td>\n",
       "      <td>0.76</td>\n",
       "      <td>0.91</td>\n",
       "      <td>0.74</td>\n",
       "      <td>0.60</td>\n",
       "      <td>0.82</td>\n",
       "      <td>0.87</td>\n",
       "      <td>0.83</td>\n",
       "      <td>0.90</td>\n",
       "      <td>0.91</td>\n",
       "      <td>0.36</td>\n",
       "      <td>0.92</td>\n",
       "      <td>0.85</td>\n",
       "      <td>0.84</td>\n",
       "      <td>0.76</td>\n",
       "    </tr>\n",
       "  </tbody>\n",
       "</table>\n",
       "</div>"
      ],
      "text/plain": [
       "                                   PRED_LogP  KID_LogP  PRED_MolWt  KID_MolWt  \\\n",
       "AdditiveAttentionNetworkRegressor       0.78      0.00        0.92       0.72   \n",
       "SelfAttentionNetworkRegressor           0.75      0.05        0.47       0.69   \n",
       "HopfieldAttentionNetworkRegressor       0.46     -0.06        0.47       0.79   \n",
       "DynamicPoolingNetworkRegressor          0.50      0.74        0.80       0.88   \n",
       "\n",
       "                                   PRED_TPSA  KID_TPSA  PRED_NumHDonors  \\\n",
       "AdditiveAttentionNetworkRegressor       0.77      0.12             0.78   \n",
       "SelfAttentionNetworkRegressor           0.54      0.61             0.80   \n",
       "HopfieldAttentionNetworkRegressor       0.51      0.51             0.58   \n",
       "DynamicPoolingNetworkRegressor          0.76      0.91             0.74   \n",
       "\n",
       "                                   KID_NumHDonors  PRED_NumHAcceptors  \\\n",
       "AdditiveAttentionNetworkRegressor            0.07                0.94   \n",
       "SelfAttentionNetworkRegressor                0.57                0.94   \n",
       "HopfieldAttentionNetworkRegressor            0.55                0.56   \n",
       "DynamicPoolingNetworkRegressor               0.60                0.82   \n",
       "\n",
       "                                   KID_NumHAcceptors  PRED_MolMR  KID_MolMR  \\\n",
       "AdditiveAttentionNetworkRegressor               0.00        0.94       0.23   \n",
       "SelfAttentionNetworkRegressor                   0.07        0.50       0.90   \n",
       "HopfieldAttentionNetworkRegressor               0.26        0.50       0.91   \n",
       "DynamicPoolingNetworkRegressor                  0.87        0.83       0.90   \n",
       "\n",
       "                                   PRED_NumRotatableBonds  \\\n",
       "AdditiveAttentionNetworkRegressor                    0.89   \n",
       "SelfAttentionNetworkRegressor                        0.92   \n",
       "HopfieldAttentionNetworkRegressor                    0.84   \n",
       "DynamicPoolingNetworkRegressor                       0.91   \n",
       "\n",
       "                                   KID_NumRotatableBonds  PRED_RingCount  \\\n",
       "AdditiveAttentionNetworkRegressor                   0.28            0.97   \n",
       "SelfAttentionNetworkRegressor                       0.34            0.96   \n",
       "HopfieldAttentionNetworkRegressor                   0.34            0.90   \n",
       "DynamicPoolingNetworkRegressor                      0.36            0.92   \n",
       "\n",
       "                                   KID_RingCount  PRED_FractionCSP3  \\\n",
       "AdditiveAttentionNetworkRegressor          -0.19               0.99   \n",
       "SelfAttentionNetworkRegressor               0.45               0.99   \n",
       "HopfieldAttentionNetworkRegressor           0.13               0.36   \n",
       "DynamicPoolingNetworkRegressor              0.85               0.84   \n",
       "\n",
       "                                   KID_FractionCSP3  \n",
       "AdditiveAttentionNetworkRegressor             -0.25  \n",
       "SelfAttentionNetworkRegressor                  0.17  \n",
       "HopfieldAttentionNetworkRegressor             -0.08  \n",
       "DynamicPoolingNetworkRegressor                 0.76  "
      ]
     },
     "execution_count": 22,
     "metadata": {},
     "output_type": "execute_result"
    }
   ],
   "source": [
    "res_df.round(2)"
   ]
  },
  {
   "cell_type": "code",
   "execution_count": null,
   "id": "ce98beab-6d0d-4e77-931b-ff51e7c10abd",
   "metadata": {},
   "outputs": [],
   "source": []
  }
 ],
 "metadata": {
  "kernelspec": {
   "display_name": "milearn",
   "language": "python",
   "name": "milearn"
  },
  "language_info": {
   "codemirror_mode": {
    "name": "ipython",
    "version": 3
   },
   "file_extension": ".py",
   "mimetype": "text/x-python",
   "name": "python",
   "nbconvert_exporter": "python",
   "pygments_lexer": "ipython3",
   "version": "3.10.18"
  }
 },
 "nbformat": 4,
 "nbformat_minor": 5
}
