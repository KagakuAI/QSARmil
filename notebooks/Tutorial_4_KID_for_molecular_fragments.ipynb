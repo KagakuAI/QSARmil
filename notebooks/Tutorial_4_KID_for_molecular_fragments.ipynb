{
 "cells": [
  {
   "cell_type": "markdown",
   "id": "4ae70e79-b15d-4ea1-85e4-19590aca7273",
   "metadata": {},
   "source": [
    "### Introduction\n",
    "\n",
    "Each bag contains a collection of molecular fragments. The label is the sum of some property calculated for each fragment. These properties are chosen to be preferably additive (can be calculated as a linear contribution of each fragment). The predicted weights should correspond to the contribution of each fragment. The higher the contribution, the higher the weight should be.\n",
    "\n",
    "**Instance:** One molecular fragment (e.g. C(=O)O - Carboxy group).\n",
    "\n",
    "**Bag**: A collection of fragments (e.g., a list of 5 fragments).\n",
    "\n",
    "**Label:** A sum of fragment property value (e.g. LogP) in the bag.\n",
    "\n",
    "**Key instance:** All fragments."
   ]
  },
  {
   "cell_type": "code",
   "execution_count": null,
   "id": "d603ccad-b191-45e8-9987-0c0494f2d8d1",
   "metadata": {},
   "outputs": [],
   "source": [
    "import torch\n",
    "import random\n",
    "\n",
    "import numpy as np\n",
    "import pandas as pd\n",
    "\n",
    "import matplotlib.pyplot as plt\n",
    "\n",
    "# Fragments dataset creation\n",
    "from rdkit import Chem\n",
    "from rdkit.Chem import AllChem\n",
    "from qsarmil.data.fragment import create_fragment_bags\n",
    "\n",
    "from milearn.network.module.utils import set_seed\n",
    "\n",
    "# MIL regressors\n",
    "from milearn.network.regressor import (AttentionNetworkRegressor,\n",
    "                                           TempAttentionNetworkRegressor,\n",
    "                                           GatedAttentionNetworkRegressor,\n",
    "                                           MultiHeadAttentionNetworkRegressor,\n",
    "                                           SelfAttentionNetworkRegressor,\n",
    "                                           HopfieldAttentionNetworkRegressor,\n",
    "                                           DynamicPoolingNetworkRegressor)\n",
    "\n",
    "# Utils\n",
    "from scipy.stats import spearmanr\n",
    "from sklearn.metrics import r2_score\n",
    "from sklearn.model_selection import train_test_split\n",
    "from milearn.preprocessing import BagMinMaxScaler\n",
    "\n",
    "# Prediction visualisation\n",
    "from qsarmil.data.fragment import display_fragments_with_weights\n",
    "\n",
    "# RDKit warnings\n",
    "from rdkit import RDLogger\n",
    "RDLogger.DisableLog('rdApp.*')"
   ]
  },
  {
   "cell_type": "markdown",
   "id": "195fb753-5dea-4160-af2c-5dac4d3b4f22",
   "metadata": {},
   "source": [
    "### Key Instance Detection Ranking Accuracy for Regression\n",
    "\n",
    "This function evaluates how well a model's predicted attention weights rank the important instances in a bag, by computing the Spearman rank correlation between:\n",
    "\n",
    "* The true importance ranking (represented here by the fragment property values)\n",
    "\n",
    "* The predicted importance scores (predicted weights)"
   ]
  },
  {
   "cell_type": "code",
   "execution_count": null,
   "id": "c296404f-5204-4200-9a35-2ca10b0d5403",
   "metadata": {},
   "outputs": [],
   "source": [
    "def kid_ranking_accuracy(instance_digits, attn_weights):\n",
    "\n",
    "    per_bag_corrs = []\n",
    "    for w, digits in zip(attn_weights, instance_digits):\n",
    "        if len(set(digits)) == 1:\n",
    "            # Avoid undefined correlation when all digits are identical\n",
    "            per_bag_corrs.append(0.0)\n",
    "            continue\n",
    "\n",
    "        corr, _ = spearmanr(w, digits)\n",
    "        if np.isnan(corr):\n",
    "            corr = 0.0\n",
    "        per_bag_corrs.append(corr)\n",
    "\n",
    "    mean_corr = np.mean(per_bag_corrs)\n",
    "    return mean_corr"
   ]
  },
  {
   "cell_type": "markdown",
   "id": "112eaf42-a36a-4499-8dd0-f21addcf1e85",
   "metadata": {},
   "source": [
    "### 1. Create Fragment dataset\n",
    "\n",
    "In Multiple Instance Learning (MIL), each bag is a collection of instances (here, molecular fragments), and the task often involves predicting a label for the entire bag. In this specific setup:\n",
    "\n",
    "* Each molecule is broken into BRICS fragments.\n",
    "\n",
    "* A fixed number of these fragments are randomly sampled to form a bag.\n",
    "\n",
    "* A chemical property is calculated for each fragment.\n",
    "\n",
    "* The sum of fragment properties becomes the bag's label.\n",
    "\n",
    "* The function returns: The fragment bags (as RDKit Mol objects), The bag labels (total property), The individual fragment properties (per bag)."
   ]
  },
  {
   "cell_type": "markdown",
   "id": "f0d3d188-e74c-46a7-b62f-6985141d7198",
   "metadata": {},
   "source": [
    "**The list of properties that can be calculated for fragments:**\n",
    "\n",
    "* ``LogP`` – Lipophilicity\n",
    "\n",
    "* ``MolWt`` – Molecular weight\n",
    "\n",
    "* ``TPSA`` – Topological polar surface area\n",
    "\n",
    "* ``NumHDonors`` – Number of hydrogen bond donors\n",
    "\n",
    "* ``NumHAcceptors`` – Number of hydrogen bond acceptors\n",
    "\n",
    "* ``MolMR`` – Molar refractivity\n",
    "\n",
    "* ``NumRotatableBonds`` – Flexibility\n",
    "\n",
    "* ``RingCount`` – Number of rings\n",
    "\n",
    "* ``FractionCSP3`` – Fraction of sp³-hybridized carbon atoms"
   ]
  },
  {
   "cell_type": "code",
   "execution_count": null,
   "id": "961bc140-7794-4bb4-9daa-cd15eaa418b3",
   "metadata": {},
   "outputs": [],
   "source": [
    "bag_size = 5\n",
    "property_name = \"LogP\"\n",
    "\n",
    "smiles = list(pd.read_csv(\"data/CHEMBL1824/train.csv\", header=None)[0])\n",
    "mols = [Chem.MolFromSmiles(s) for s in smiles]\n",
    "\n",
    "# create dataset\n",
    "bags, labels, contribs = create_fragment_bags(mols, bag_size=bag_size, property_name=property_name)"
   ]
  },
  {
   "cell_type": "code",
   "execution_count": null,
   "id": "76fba210-124e-4252-a8dd-fe4e42ffa49c",
   "metadata": {},
   "outputs": [],
   "source": [
    "print(f\"Total number of molecules: {len(mols)}\")\n",
    "print(f\"Total number of bags (successfully generated fragments): {len(bags)}\")"
   ]
  },
  {
   "cell_type": "code",
   "execution_count": null,
   "id": "315d90a9-b66b-48c4-aaba-2dd1d5f47fa7",
   "metadata": {},
   "outputs": [],
   "source": [
    "bags[0]"
   ]
  },
  {
   "cell_type": "code",
   "execution_count": null,
   "id": "f624dd0d-75c1-4845-ad98-c39180b4889d",
   "metadata": {},
   "outputs": [],
   "source": [
    "contribs[0]"
   ]
  },
  {
   "cell_type": "markdown",
   "id": "121edf28-caeb-4a1a-a7bb-487feeaa72b9",
   "metadata": {},
   "source": [
    "### 2. Calculate fragment descriptors"
   ]
  },
  {
   "cell_type": "code",
   "execution_count": null,
   "id": "692a1707-5126-4fb6-bc07-6bf784da8064",
   "metadata": {},
   "outputs": [],
   "source": [
    "def compute_fragment_descriptors(bags, n_bits=128, radius=2):\n",
    "    bags_descriptors = []\n",
    "    for bag in bags:\n",
    "        descs = [np.array(AllChem.GetMorganFingerprintAsBitVect(frag, radius, nBits=n_bits))\n",
    "                 for frag in bag]\n",
    "        bags_descriptors.append(descs)\n",
    "    return bags_descriptors"
   ]
  },
  {
   "cell_type": "code",
   "execution_count": null,
   "id": "9882c183-11aa-4964-8e1a-7e457c354f78",
   "metadata": {},
   "outputs": [],
   "source": [
    "dsc = compute_fragment_descriptors(bags)"
   ]
  },
  {
   "cell_type": "markdown",
   "id": "00ed31db-d1a4-4de7-b875-ea56f70147a5",
   "metadata": {},
   "source": [
    "### 3. Build model"
   ]
  },
  {
   "cell_type": "code",
   "execution_count": null,
   "id": "02250885-e5d5-42f0-b106-52dbc2a5020d",
   "metadata": {},
   "outputs": [],
   "source": [
    "network_hparams = {'hidden_layer_sizes':(256, 128, 64),\n",
    "                   'num_epoch':300,\n",
    "                   'batch_size':128,\n",
    "                   'learning_rate':0.001,\n",
    "                   'weight_decay':0.001,\n",
    "                   'instance_weight_dropout':0.01,\n",
    "                   'init_cuda':False,\n",
    "                   'verbose':False}"
   ]
  },
  {
   "cell_type": "code",
   "execution_count": null,
   "id": "050d4308-c4dc-4a35-8a34-31ba1c11df64",
   "metadata": {},
   "outputs": [],
   "source": [
    "x_train, x_test, y_train, y_test, key_train, key_test, frg_train, frg_test = train_test_split(dsc, labels, contribs, bags, random_state=42)"
   ]
  },
  {
   "cell_type": "code",
   "execution_count": null,
   "id": "8bf1c1f7-8026-4294-b287-ad8f4a6e3b00",
   "metadata": {},
   "outputs": [],
   "source": [
    "scaler = BagMinMaxScaler()\n",
    "scaler.fit(x_train)\n",
    "x_train_scaled = scaler.transform(x_train)\n",
    "x_test_scaled = scaler.transform(x_test)"
   ]
  },
  {
   "cell_type": "code",
   "execution_count": null,
   "id": "016b8325-a377-4e10-b0c8-ed70e2542629",
   "metadata": {},
   "outputs": [],
   "source": [
    "model = DynamicPoolingNetworkRegressor(**network_hparams)\n",
    "model.to(\"cpu\")\n",
    "model.fit(x_train_scaled, y_train)"
   ]
  },
  {
   "cell_type": "code",
   "execution_count": null,
   "id": "58b9e45e-76b5-4fcd-a6fb-81a164bbdbf3",
   "metadata": {},
   "outputs": [],
   "source": [
    "y_pred = model.predict(x_test_scaled)\n",
    "w_pred = model.get_instance_weights(x_test_scaled)"
   ]
  },
  {
   "cell_type": "code",
   "execution_count": null,
   "id": "71657a5d-fc8a-4ee0-a027-989392a00f40",
   "metadata": {},
   "outputs": [],
   "source": [
    "print(f\"Regression R2: {r2_score(y_test, y_pred):.2f}\")\n",
    "print(f\"KID ranking accuracy: {kid_ranking_accuracy(key_test, w_pred):.2f}\")"
   ]
  },
  {
   "cell_type": "code",
   "execution_count": null,
   "id": "b820883d-a563-4cca-81b3-42bb4bcd444f",
   "metadata": {},
   "outputs": [],
   "source": [
    "N = 1\n",
    "display_fragments_with_weights(frg_test[N], key_test[N], w_pred[N], sort=True, max_fragments=10,\n",
    "                               title=f\"Bag {N}\\nPredicted label:{y_pred[N].item():.2f}\\nTrue label: {y_test[N]:.2f}\")"
   ]
  },
  {
   "cell_type": "markdown",
   "id": "b4d1b3a0-5393-4d86-a595-1d7c9d4833ee",
   "metadata": {},
   "source": [
    "### 4. KID benchmark"
   ]
  },
  {
   "cell_type": "code",
   "execution_count": null,
   "id": "fa3b34a7-6de2-4c2c-9c0d-6c1943972f0f",
   "metadata": {},
   "outputs": [],
   "source": [
    "network_hparams = {'hidden_layer_sizes':(256, 128, 64),\n",
    "                   'num_epoch':300,\n",
    "                   'batch_size':128,\n",
    "                   'learning_rate':0.001,\n",
    "                   'weight_decay':0.001,\n",
    "                   'instance_weight_dropout':0.01,\n",
    "                   'init_cuda':False,\n",
    "                   'verbose':False}"
   ]
  },
  {
   "cell_type": "code",
   "execution_count": null,
   "id": "b9603049-4c2f-423a-b9e5-05437aac445e",
   "metadata": {},
   "outputs": [],
   "source": [
    "network_list = [\n",
    "                (\"AttentionNetworkRegressor\", AttentionNetworkRegressor(**network_hparams)), \n",
    "                (\"TempAttentionNetworkRegressor\", TempAttentionNetworkRegressor(**network_hparams, tau=0.5)), \n",
    "                (\"GatedAttentionNetworkRegressor\", GatedAttentionNetworkRegressor(**network_hparams)), \n",
    "                (\"MultiHeadAttentionNetworkRegressor\", MultiHeadAttentionNetworkRegressor(**network_hparams, num_heads=10)), \n",
    "                (\"SelfAttentionNetworkRegressor\", SelfAttentionNetworkRegressor(**network_hparams)), \n",
    "                (\"HopfieldAttentionNetworkRegressor\", HopfieldAttentionNetworkRegressor(**network_hparams, beta=1)),\n",
    "                (\"DynamicPoolingNetworkRegressor\", DynamicPoolingNetworkRegressor(**network_hparams)),\n",
    "               ]"
   ]
  },
  {
   "cell_type": "code",
   "execution_count": null,
   "id": "4523bd06-47da-427f-85ac-9a3492778dd5",
   "metadata": {},
   "outputs": [],
   "source": [
    "bag_size = 5\n",
    "\n",
    "res_df = pd.DataFrame()\n",
    "tasks = [\"LogP\", \"MolWt\", \"TPSA\", \"NumHDonors\", \"NumHAcceptors\", \n",
    "         \"MolMR\", \"NumRotatableBonds\", \"RingCount\", \"FractionCSP3\"]\n",
    "\n",
    "for task_idx, task in enumerate(tasks, 1):\n",
    "    print(f\"\\n[Task {task_idx}/{len(tasks)}] Starting task: '{task}'\")\n",
    "\n",
    "    # create data\n",
    "    smiles = list(pd.read_csv(\"data/CHEMBL1824/train.csv\", header=None)[0])\n",
    "    mols = [Chem.MolFromSmiles(s) for s in smiles]\n",
    "    \n",
    "    bags, labels, contribs = create_fragment_bags(mols, bag_size=bag_size, property_name=task)\n",
    "    dsc = compute_fragment_descriptors(bags)\n",
    "    \n",
    "    x_train, x_test, y_train, y_test, key_train, key_test, frg_train, frg_test = train_test_split(\n",
    "        dsc, labels, contribs, bags, random_state=42)\n",
    "    \n",
    "    # scale features\n",
    "    scaler = BagMinMaxScaler()\n",
    "    scaler.fit(x_train)\n",
    "    x_train_scaled, x_test_scaled = scaler.transform(x_train), scaler.transform(x_test)\n",
    "    \n",
    "    # build models\n",
    "    for model_idx, (name, model) in enumerate(network_list, 1):\n",
    "        print(f\"  [Model {model_idx}/{len(network_list)}] Training model: '{name}'\")\n",
    "\n",
    "        # train model\n",
    "        model.to(\"cpu\")\n",
    "        model.fit(x_train_scaled, y_train)\n",
    "        \n",
    "        # predict\n",
    "        y_pred = model.predict(x_test_scaled)\n",
    "        w_pred = model.get_instance_weights(x_test_scaled)\n",
    "        #\n",
    "        res_df.loc[name, f\"PRED_{task}\"] = r2_score(y_test, y_pred)\n",
    "        res_df.loc[name, f\"KID_{task}\"] = kid_ranking_accuracy(key_test, w_pred)\n",
    "\n",
    "print(\"\\nAll tasks and models completed.\")"
   ]
  },
  {
   "cell_type": "code",
   "execution_count": null,
   "id": "df0ed6f6-21c1-4087-96fd-51efdc662085",
   "metadata": {},
   "outputs": [],
   "source": [
    "res_df.round(2)"
   ]
  },
  {
   "cell_type": "code",
   "execution_count": null,
   "id": "ce98beab-6d0d-4e77-931b-ff51e7c10abd",
   "metadata": {},
   "outputs": [],
   "source": []
  }
 ],
 "metadata": {
  "kernelspec": {
   "display_name": "tmp",
   "language": "python",
   "name": "tmp"
  },
  "language_info": {
   "codemirror_mode": {
    "name": "ipython",
    "version": 3
   },
   "file_extension": ".py",
   "mimetype": "text/x-python",
   "name": "python",
   "nbconvert_exporter": "python",
   "pygments_lexer": "ipython3",
   "version": "3.10.18"
  }
 },
 "nbformat": 4,
 "nbformat_minor": 5
}
