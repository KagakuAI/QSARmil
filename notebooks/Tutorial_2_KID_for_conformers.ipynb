{
 "cells": [
  {
   "cell_type": "markdown",
   "id": "9a064a01-df10-4435-9689-eea1fd1f4d49",
   "metadata": {},
   "source": [
    "### Key Instance Detection for Conformers\n",
    "\n",
    "KID for conformers"
   ]
  },
  {
   "cell_type": "code",
   "execution_count": 1,
   "id": "e340fd8e-0c53-47c4-87a5-269b2b45cf13",
   "metadata": {},
   "outputs": [],
   "source": [
    "import pickle\n",
    "\n",
    "import numpy as np\n",
    "import pandas as pd\n",
    "\n",
    "from sklearn.metrics import r2_score, balanced_accuracy_score\n",
    "from sklearn.ensemble import RandomForestRegressor, RandomForestClassifier"
   ]
  },
  {
   "cell_type": "code",
   "execution_count": 2,
   "id": "2826a68c-2e11-4897-a4be-5d236c7fa05c",
   "metadata": {},
   "outputs": [
    {
     "ename": "ModuleNotFoundError",
     "evalue": "No module named 'molfeat'",
     "output_type": "error",
     "traceback": [
      "\u001b[0;31m---------------------------------------------------------------------------\u001b[0m",
      "\u001b[0;31mModuleNotFoundError\u001b[0m                       Traceback (most recent call last)",
      "Cell \u001b[0;32mIn[2], line 8\u001b[0m\n\u001b[1;32m      1\u001b[0m \u001b[38;5;28;01mfrom\u001b[39;00m\u001b[38;5;250m \u001b[39m\u001b[38;5;21;01mqsarmil\u001b[39;00m\u001b[38;5;21;01m.\u001b[39;00m\u001b[38;5;21;01mdescriptor\u001b[39;00m\u001b[38;5;21;01m.\u001b[39;00m\u001b[38;5;21;01mrdkit\u001b[39;00m\u001b[38;5;250m \u001b[39m\u001b[38;5;28;01mimport\u001b[39;00m (RDKitGEOM, \n\u001b[1;32m      2\u001b[0m                                       RDKitAUTOCORR, \n\u001b[1;32m      3\u001b[0m                                       RDKitRDF, \n\u001b[1;32m      4\u001b[0m                                       RDKitMORSE, \n\u001b[1;32m      5\u001b[0m                                       RDKitWHIM, \n\u001b[1;32m      6\u001b[0m                                       RDKitGETAWAY)\n\u001b[0;32m----> 8\u001b[0m \u001b[38;5;28;01mfrom\u001b[39;00m\u001b[38;5;250m \u001b[39m\u001b[38;5;21;01mmolfeat\u001b[39;00m\u001b[38;5;21;01m.\u001b[39;00m\u001b[38;5;21;01mcalc\u001b[39;00m\u001b[38;5;250m \u001b[39m\u001b[38;5;28;01mimport\u001b[39;00m (Pharmacophore3D, \n\u001b[1;32m      9\u001b[0m                           USRDescriptors, \n\u001b[1;32m     10\u001b[0m                           ElectroShapeDescriptors)\n\u001b[1;32m     12\u001b[0m \u001b[38;5;28;01mfrom\u001b[39;00m\u001b[38;5;250m \u001b[39m\u001b[38;5;21;01mqsarmil\u001b[39;00m\u001b[38;5;21;01m.\u001b[39;00m\u001b[38;5;21;01mdescriptor\u001b[39;00m\u001b[38;5;21;01m.\u001b[39;00m\u001b[38;5;21;01mwrapper\u001b[39;00m\u001b[38;5;250m \u001b[39m\u001b[38;5;28;01mimport\u001b[39;00m DescriptorWrapper\n",
      "\u001b[0;31mModuleNotFoundError\u001b[0m: No module named 'molfeat'"
     ]
    }
   ],
   "source": [
    "from qsarmil.descriptor.rdkit import (RDKitGEOM, \n",
    "                                      RDKitAUTOCORR, \n",
    "                                      RDKitRDF, \n",
    "                                      RDKitMORSE, \n",
    "                                      RDKitWHIM, \n",
    "                                      RDKitGETAWAY)\n",
    "\n",
    "from molfeat.calc import (Pharmacophore3D, \n",
    "                          USRDescriptors, \n",
    "                          ElectroShapeDescriptors)\n",
    "\n",
    "from qsarmil.descriptor.wrapper import DescriptorWrapper"
   ]
  },
  {
   "cell_type": "code",
   "execution_count": null,
   "id": "c6b38cf8-306b-41e3-bf67-c719720f0e33",
   "metadata": {},
   "outputs": [],
   "source": [
    "import logging\n",
    "import warnings\n",
    "warnings.filterwarnings(\"ignore\")\n",
    "logging.getLogger(\"pytorch_lightning\").setLevel(logging.ERROR)\n",
    "logging.getLogger(\"lightning\").setLevel(logging.ERROR)\n",
    "\n",
    "import time\n",
    "import torch\n",
    "import random\n",
    "\n",
    "import numpy as np\n",
    "import pandas as pd\n",
    "\n",
    "import matplotlib.pyplot as plt\n",
    "\n",
    "# MNIST dataset creation\n",
    "from milearn.data.mnist import load_mnist, create_bags_or, create_bags_and, create_bags_xor, create_bags_reg\n",
    "\n",
    "# Preprocessing\n",
    "from milearn.preprocessing import BagMinMaxScaler\n",
    "\n",
    "# Network hparams\n",
    "from milearn.network.module.hopt import DEFAULT_PARAM_GRID\n",
    "\n",
    "# MIL wrappers\n",
    "from milearn.network.regressor import BagWrapperMLPNetworkRegressor, InstanceWrapperMLPNetworkRegressor\n",
    "from milearn.network.classifier import BagWrapperMLPNetworkClassifier, InstanceWrapperMLPNetworkClassifier\n",
    "\n",
    "# MIL networks\n",
    "from milearn.network.regressor import (InstanceNetworkRegressor,\n",
    "                                       BagNetworkRegressor,\n",
    "                                       AdditiveAttentionNetworkRegressor,\n",
    "                                       SelfAttentionNetworkRegressor,\n",
    "                                       HopfieldAttentionNetworkRegressor,\n",
    "                                       DynamicPoolingNetworkRegressor)\n",
    "\n",
    "from milearn.network.classifier import (InstanceNetworkClassifier,\n",
    "                                        BagNetworkClassifier,\n",
    "                                        AdditiveAttentionNetworkClassifier,\n",
    "                                        SelfAttentionNetworkClassifier,\n",
    "                                        HopfieldAttentionNetworkClassifier,\n",
    "                                        DynamicPoolingNetworkClassifier)\n",
    "\n",
    "# Utils\n",
    "from sklearn.metrics import r2_score, accuracy_score\n",
    "from sklearn.model_selection import train_test_split"
   ]
  },
  {
   "cell_type": "code",
   "execution_count": null,
   "id": "c1ebb151-4129-4dbc-a185-f9c6e14343b3",
   "metadata": {},
   "outputs": [],
   "source": [
    "from typing import List, Tuple\n",
    "\n",
    "def kid_accuracy(true_key_indices, predicted_weights, top_n=1):\n",
    "    assert len(predicted_weights) == len(true_key_indices), \"Mismatched input lengths.\"\n",
    "\n",
    "    hits = 0\n",
    "    total = len(predicted_weights)\n",
    "\n",
    "    for bag_weights, key_indices in zip(predicted_weights, true_key_indices):\n",
    "        # Get indices of top-N predicted instances\n",
    "        top_n_indices = sorted(range(len(bag_weights)), key=lambda i: bag_weights[i], reverse=True)[:top_n]\n",
    "        # Check for overlap with any true key instance\n",
    "        if any(idx in top_n_indices for idx in key_indices):\n",
    "            hits += 1\n",
    "\n",
    "    return hits / total if total > 0 else 0.0\n",
    "\n",
    "def normalized_entropy(weights, epsilon=1e-12):\n",
    "    \"\"\"\n",
    "    Returns:\n",
    "    - norm_entropy: float in [0, 1], where 0 = sharp, 1 = flat\n",
    "    \"\"\"\n",
    "    weights = np.asarray(weights, dtype=np.float64)\n",
    "    weights = weights / (weights.sum() + epsilon)  # normalize\n",
    "\n",
    "    entropy = -np.sum(weights * np.log(weights + epsilon))\n",
    "    max_entropy = np.log(len(weights) + epsilon)\n",
    "\n",
    "    return entropy / max_entropy"
   ]
  },
  {
   "cell_type": "code",
   "execution_count": null,
   "id": "571da60d-f4b3-4ec6-aaa7-e1d7efbb5c24",
   "metadata": {},
   "outputs": [],
   "source": [
    "from math import comb\n",
    "\n",
    "def expected_kid_accuracy(true_key_indices, bag_sizes, top_n=1):\n",
    "\n",
    "    assert len(true_key_indices) == len(bag_sizes), \"Mismatched input lengths.\"\n",
    "    expected_hits = 0\n",
    "\n",
    "    for key_indices, B in zip(true_key_indices, bag_sizes):\n",
    "        K = len(key_indices)\n",
    "        N = min(top_n, B)  # top_n can't exceed bag size\n",
    "\n",
    "        if K == 0 or B == 0:\n",
    "            continue  # skip invalid bags\n",
    "\n",
    "        if B - K < N:\n",
    "            hit_prob = 1.0  # guaranteed to pick a key instance\n",
    "        else:\n",
    "            hit_prob = 1 - (comb(B - K, N) / comb(B, N))\n",
    "\n",
    "        expected_hits += hit_prob\n",
    "\n",
    "    return expected_hits / len(true_key_indices) if true_key_indices else 0.0"
   ]
  },
  {
   "cell_type": "markdown",
   "id": "ec78a29e-9bc1-4690-b72c-07cc2280c8c0",
   "metadata": {},
   "source": [
    "### 1. Load data\n",
    "### TODO: fix conformer indexing"
   ]
  },
  {
   "cell_type": "code",
   "execution_count": null,
   "id": "f92761db-1650-4b9d-82e8-d674ea48c52e",
   "metadata": {},
   "outputs": [],
   "source": [
    "with open(\"kid_data/actives_dm_train_allconf.pkl\", \"rb\") as f:\n",
    "    data_train = pickle.load(f)\n",
    "\n",
    "with open(\"kid_data/actives_dm_test_allconf.pkl\", \"rb\") as f:\n",
    "    data_test = pickle.load(f)"
   ]
  },
  {
   "cell_type": "code",
   "execution_count": null,
   "id": "b1850bbe-5d8b-407e-9fc2-52ddfa0041eb",
   "metadata": {},
   "outputs": [],
   "source": [
    "# molecules\n",
    "mol_train = [i[1] for i in data_train]\n",
    "mol_test = [i[1] for i in data_test]\n",
    "\n",
    "# property\n",
    "prop_train = [i[3].item() for i in data_train]\n",
    "prop_test = [i[3].item() for i in data_test]\n",
    "\n",
    "# key instances\n",
    "kid_test = []\n",
    "for mol in data_test:\n",
    "    key_list = [int(conf.split(\"_\")[-1]) for conf in mol[2]] # wrong indexing\n",
    "    \n",
    "    kid_test.append(key_list)"
   ]
  },
  {
   "cell_type": "markdown",
   "id": "cde41f63-7bc9-4666-b08e-11fefc9c7c14",
   "metadata": {},
   "source": [
    "### 2. Benchmark configuration"
   ]
  },
  {
   "cell_type": "code",
   "execution_count": null,
   "id": "aa13bd69-4c30-4a6d-b04f-b7e60fdbb6be",
   "metadata": {},
   "outputs": [],
   "source": [
    "desc_list = [\n",
    "             (\"RDKitGEOM\", DescriptorWrapper(RDKitGEOM())),\n",
    "             (\"RDKitAUTOCORR\", DescriptorWrapper(RDKitAUTOCORR())),\n",
    "             (\"RDKitRDF\", DescriptorWrapper(RDKitRDF())),\n",
    "             (\"RDKitMORSE\", DescriptorWrapper(RDKitMORSE())),\n",
    "             (\"RDKitWHIM\", DescriptorWrapper(RDKitWHIM())),\n",
    "             (\"RDKitGETAWAY\", DescriptorWrapper(RDKitGETAWAY())), # can be long\n",
    "             (\"MolFeatUSRD\", DescriptorWrapper(USRDescriptors())),\n",
    "             (\"MolFeatElectroShape\", DescriptorWrapper(ElectroShapeDescriptors())),\n",
    "             (\"MolFeatPmapper\", DescriptorWrapper(Pharmacophore3D(factory='pmapper'))), # can be long\n",
    "            ]"
   ]
  },
  {
   "cell_type": "code",
   "execution_count": null,
   "id": "a448b6ae-3d4c-4dc9-a1ed-50740a61b232",
   "metadata": {},
   "outputs": [],
   "source": [
    "regressor_list = [\n",
    "\n",
    "        # attention mil networks\n",
    "        (\"AdditiveAttentionNetworkRegressor\", AdditiveAttentionNetworkRegressor()),\n",
    "        (\"SelfAttentionNetworkRegressor\", SelfAttentionNetworkRegressor()),\n",
    "        (\"HopfieldAttentionNetworkRegressor\", HopfieldAttentionNetworkRegressor()),\n",
    "\n",
    "        # other mil networks\n",
    "        (\"DynamicPoolingNetworkRegressor\", DynamicPoolingNetworkRegressor()),\n",
    "    ]\n",
    "\n",
    "classifier_list = [\n",
    "\n",
    "        # attention mil networks\n",
    "        (\"AdditiveAttentionNetworkClassifier\", AdditiveAttentionNetworkClassifier()),\n",
    "        (\"SelfAttentionNetworkClassifier\", SelfAttentionNetworkClassifier()),\n",
    "        (\"HopfieldAttentionNetworkClassifier\", HopfieldAttentionNetworkClassifier()),\n",
    "\n",
    "        # other mil networks\n",
    "        (\"DynamicPoolingNetworkClassifier\", DynamicPoolingNetworkClassifier()),\n",
    "    ]"
   ]
  },
  {
   "cell_type": "markdown",
   "id": "67342740-67ba-4855-8450-45b6be425718",
   "metadata": {},
   "source": [
    "### 3. Benchmark regression models"
   ]
  },
  {
   "cell_type": "code",
   "execution_count": null,
   "id": "0be6322e-6799-4d67-8f4b-f7cb5f503b53",
   "metadata": {},
   "outputs": [],
   "source": [
    "task = \"reg\"\n",
    "\n",
    "if task == \"reg\":\n",
    "    estimator_list = regressor_list\n",
    "    accuracy_metric = r2_score\n",
    "    y_train = prop_train\n",
    "    y_test = prop_test\n",
    "elif task == \"clf\":\n",
    "    threshold = 7\n",
    "    estimator_list = clissifier_list\n",
    "    accuracy_metric = balanced_accuracy_score\n",
    "    y_train = [1 if i >= threshold else 0 for i in prop_train]\n",
    "    y_test = [1 if i >= threshold else 0 for i in prop_test]"
   ]
  },
  {
   "cell_type": "code",
   "execution_count": null,
   "id": "42034654-2e25-493d-b070-69e2eecd3532",
   "metadata": {},
   "outputs": [],
   "source": [
    "n = 0\n",
    "total_n = len(desc_list) * len(regressor_list)\n",
    "\n",
    "res_df = pd.DataFrame()\n",
    "for desc_name, desc_calc in desc_list:\n",
    "\n",
    "    # 1. Calc descriptors\n",
    "    x_train = desc_calc.transform(mol_train)\n",
    "    x_test = desc_calc.transform(mol_test)\n",
    "\n",
    "    # 2. Scale descriptors\n",
    "    scaler = BagMinMaxScaler()\n",
    "    scaler.fit(x_train)\n",
    "    x_train_scaled = scaler.transform(x_train)\n",
    "    x_test_scaled = scaler.transform(x_test)\n",
    "    \n",
    "    for method_name, model in estimator_list:\n",
    "        \n",
    "        # 3. Train model\n",
    "        model.fit(x_train_scaled, y_train)\n",
    "        \n",
    "        # 4. Get predictions\n",
    "        y_pred = model.predict(x_test_scaled)\n",
    "        if task == \"clf\":\n",
    "            y_prob = model.predict(x_test_scaled)\n",
    "            y_pred = np.where(y_prob > 0.5, 1, 0)\n",
    "        \n",
    "        res_df.loc[f\"{desc_name}|{method_name}\", \"ACC\"] = accuracy_metric(y_test, y_pred)\n",
    "\n",
    "        # 5. Key instance detection\n",
    "        w_pred = model.get_instance_weights(x_test_scaled)\n",
    "        w_pred = [w.flatten() for w in w_pred]\n",
    "\n",
    "        # calc kid accuracy\n",
    "        for top_n in [1, 2, 3]:\n",
    "            res_df.loc[f\"{desc_name}|{method_name}\", f\"TOP-{top_n}\"] = kid_accuracy(kid_test, w_pred, top_n=top_n)\n",
    "\n",
    "        # cacl weights entropy\n",
    "        ent_mean = np.mean([normalized_entropy(w) for w in w_pred]).item()\n",
    "        res_df.loc[f\"{desc_name}|{method_name}\", \"ENT\"] = ent_mean\n",
    "        \n",
    "        # logging\n",
    "        n += 1\n",
    "        print(f\"{n}/{total_n} {desc_name}|{method_name}\", end=\"\\r\")\n",
    "\n",
    "# save results\n",
    "res_df.to_csv(\"kid_results.csv\")"
   ]
  },
  {
   "cell_type": "code",
   "execution_count": null,
   "id": "7fac6c07-1319-45b5-bdc6-126787aab6ca",
   "metadata": {},
   "outputs": [],
   "source": [
    "bag_sizes = [len(i) for i in x_test]\n",
    "for top_n in [1, 2, 3]:\n",
    "    baseline = expected_kid_accuracy(kid_test, bag_sizes, top_n=top_n)\n",
    "    print(f\"Expected KID accuracy Top-{top_n} = {baseline:.2f}\")"
   ]
  },
  {
   "cell_type": "code",
   "execution_count": null,
   "id": "d59a8160-bae2-43cf-9143-e9481483430b",
   "metadata": {},
   "outputs": [],
   "source": [
    "res_df.sort_values(by=\"TOP-1\", ascending=False)"
   ]
  },
  {
   "cell_type": "markdown",
   "id": "46d52c51-86ad-4506-a374-88554146b0b8",
   "metadata": {},
   "source": [
    "### 4. Best model analysis"
   ]
  },
  {
   "cell_type": "code",
   "execution_count": null,
   "id": "87cf9edf-9a88-498d-bea6-a33c545b8f7a",
   "metadata": {},
   "outputs": [],
   "source": [
    "desc_calc = DescriptorWrapper(Pharmacophore3D(factory='pmapper'))\n",
    "# desc_calc = DescriptorWrapper(RDKitGEOM())\n",
    "\n",
    "# 1. Calc descriptors\n",
    "x_train = desc_calc.transform(mol_train)\n",
    "x_test = desc_calc.transform(mol_test)\n",
    "\n",
    "# 2. Scale descriptors\n",
    "scaler = BagMinMaxScaler()\n",
    "scaler.fit(x_train)\n",
    "x_train_scaled = scaler.transform(x_train)\n",
    "x_test_scaled = scaler.transform(x_test)"
   ]
  },
  {
   "cell_type": "code",
   "execution_count": null,
   "id": "5e5b2481-9969-4584-9e35-8d246898cad5",
   "metadata": {},
   "outputs": [],
   "source": [
    "task = \"clf\"\n",
    "\n",
    "if task == \"reg\":\n",
    "    accuracy_metric = r2_score\n",
    "    y_train = prop_train\n",
    "    y_test = prop_test\n",
    "elif task == \"clf\":\n",
    "    threshold = 7\n",
    "    accuracy_metric = balanced_accuracy_score\n",
    "    y_train = [1 if i >= threshold else 0 for i in prop_train]\n",
    "    y_test = [1 if i >= threshold else 0 for i in prop_test]"
   ]
  },
  {
   "cell_type": "code",
   "execution_count": null,
   "id": "e11975e4-3c28-4f73-b821-26f83b0f801f",
   "metadata": {},
   "outputs": [],
   "source": [
    "network_hparams = {'hidden_layer_sizes':(256, 128, 64),\n",
    "                   'num_epoch':300,\n",
    "                   'batch_size':128,\n",
    "                   'learning_rate':0.001,\n",
    "                   'weight_decay':0.001,\n",
    "                   'instance_weight_dropout':0.01,\n",
    "                   'init_cuda':False,\n",
    "                   'verbose':False}"
   ]
  },
  {
   "cell_type": "code",
   "execution_count": null,
   "id": "c21ed66b-2113-4cb8-867e-7cb1cd8843b1",
   "metadata": {},
   "outputs": [],
   "source": [
    "# model = AttentionNetworkRegressor(**network_hparams)\n",
    "# model = DynamicPoolingNetworkRegressor(**network_hparams)\n",
    "model = DynamicPoolingNetworkClassifier(**network_hparams)\n",
    "\n",
    "model.fit(x_train_scaled, y_train)"
   ]
  },
  {
   "cell_type": "code",
   "execution_count": null,
   "id": "a4772bcb-67e1-48ee-8dda-7991b99f9ef8",
   "metadata": {},
   "outputs": [],
   "source": [
    "y_pred = model.predict(x_test_scaled)\n",
    "if task == \"clf\":\n",
    "    y_prob = model.predict(x_test_scaled)\n",
    "    y_pred = np.where(y_prob > 0.5, 1, 0)\n",
    "w_pred = model.get_instance_weights(x_test_scaled)"
   ]
  },
  {
   "cell_type": "code",
   "execution_count": null,
   "id": "16a0956d-1537-45d6-8316-84d4071f8cc9",
   "metadata": {},
   "outputs": [],
   "source": [
    "top_n = 3\n",
    "\n",
    "print(accuracy_metric(y_test, y_pred))\n",
    "print(kid_accuracy(kid_test, w_pred, top_n=top_n))\n",
    "print(expected_kid_accuracy(kid_test, [len(i) for i in w_pred], top_n=top_n))\n",
    "\n",
    "kid_test_7, w_pred_7 = [], []\n",
    "for y, k, w in zip(y_test, kid_test, w_pred):\n",
    "    if y == 1:\n",
    "        kid_test_7.append(k)\n",
    "        w_pred_7.append(w)\n",
    "print()\n",
    "print(kid_accuracy(kid_test_7, w_pred_7, top_n=top_n))\n",
    "print(expected_kid_accuracy(kid_test_7, [len(i) for i in w_pred_7], top_n=top_n))"
   ]
  },
  {
   "cell_type": "code",
   "execution_count": null,
   "id": "70578e88-dfcc-4c67-84f0-89875f444e3f",
   "metadata": {},
   "outputs": [],
   "source": []
  },
  {
   "cell_type": "code",
   "execution_count": null,
   "id": "798620f2-4698-4aef-85f6-896ae27c1597",
   "metadata": {},
   "outputs": [],
   "source": []
  },
  {
   "cell_type": "code",
   "execution_count": null,
   "id": "18900aea-483d-4c76-bbf6-d949b36eb6b1",
   "metadata": {},
   "outputs": [],
   "source": [
    "tmp = []\n",
    "for n, y in enumerate(y_test):\n",
    "    if y == 7:\n",
    "        tmp.append(n)\n",
    "tmp[:10]"
   ]
  },
  {
   "cell_type": "code",
   "execution_count": null,
   "id": "501dd6d4-0d76-4890-95b0-b64e9c3f4f1b",
   "metadata": {},
   "outputs": [],
   "source": [
    "N = 15"
   ]
  },
  {
   "cell_type": "code",
   "execution_count": null,
   "id": "a814542a-aed1-4142-9836-7a6437c919ec",
   "metadata": {},
   "outputs": [],
   "source": [
    "y_test[N]"
   ]
  },
  {
   "cell_type": "code",
   "execution_count": null,
   "id": "90349702-4b1d-462a-bec9-8c95a22bbed3",
   "metadata": {},
   "outputs": [],
   "source": [
    "kid_test[N]"
   ]
  },
  {
   "cell_type": "code",
   "execution_count": null,
   "id": "6dfe7ab0-f9ca-4e61-bfc2-9a41326138b9",
   "metadata": {},
   "outputs": [],
   "source": [
    "w_pred[N].round(2)"
   ]
  },
  {
   "cell_type": "code",
   "execution_count": null,
   "id": "8c96c208-6014-487a-b497-dfbdab2e7f3e",
   "metadata": {},
   "outputs": [],
   "source": []
  },
  {
   "cell_type": "code",
   "execution_count": null,
   "id": "9ed532bf-ce24-4f9c-b91d-0d2ff1edc458",
   "metadata": {},
   "outputs": [],
   "source": []
  },
  {
   "cell_type": "code",
   "execution_count": null,
   "id": "733b5926-2d4d-418f-8b27-5c1cd3fd1b6f",
   "metadata": {},
   "outputs": [],
   "source": []
  }
 ],
 "metadata": {
  "kernelspec": {
   "display_name": "milearn",
   "language": "python",
   "name": "milearn"
  },
  "language_info": {
   "codemirror_mode": {
    "name": "ipython",
    "version": 3
   },
   "file_extension": ".py",
   "mimetype": "text/x-python",
   "name": "python",
   "nbconvert_exporter": "python",
   "pygments_lexer": "ipython3",
   "version": "3.10.18"
  }
 },
 "nbformat": 4,
 "nbformat_minor": 5
}
