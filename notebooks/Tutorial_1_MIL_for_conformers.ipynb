{
 "cells": [
  {
   "cell_type": "markdown",
   "metadata": {},
   "source": [
    "## 1. Load dataset\n",
    "\n",
    "The example datasets contain molecule structure (SMILES) and measured bioactivity (pKi or IC50) – the higher the better. Each SMILES is converted to a Mol object in RDKit."
   ]
  },
  {
   "cell_type": "code",
   "execution_count": null,
   "metadata": {},
   "outputs": [],
   "source": [
    "import numpy as np\n",
    "import pandas as pd\n",
    "from rdkit import Chem\n",
    "\n",
    "from sklearn.metrics import r2_score, accuracy_score\n",
    "from sklearn.model_selection import train_test_split\n",
    "\n",
    "# Data\n",
    "from huggingface_hub import hf_hub_download"
   ]
  },
  {
   "cell_type": "code",
   "execution_count": null,
   "metadata": {},
   "outputs": [],
   "source": [
    "def reg_to_clf(y):\n",
    "    return np.where(np.array(y) > 6, 1, 0)\n",
    "\n",
    "def accuracy_metric(y_true, y_pred, task=None):\n",
    "    if task == \"classification\":\n",
    "        return accuracy_score(y_true, y_pred)\n",
    "    elif task == \"regression\":\n",
    "        return r2_score(y_true, y_pred)"
   ]
  },
  {
   "cell_type": "code",
   "execution_count": null,
   "metadata": {},
   "outputs": [],
   "source": [
    "TASK = \"regression\"\n",
    "# TASK = \"classification\""
   ]
  },
  {
   "cell_type": "code",
   "execution_count": null,
   "metadata": {},
   "outputs": [],
   "source": [
    "REPO_ID = \"KagakuData/notebooks\"\n",
    "\n",
    "csv_path = hf_hub_download(REPO_ID, filename=\"chembl/CHEMBL279.csv\", repo_type=\"dataset\")\n",
    "data = pd.read_csv(csv_path, header=None)\n",
    "\n",
    "data_train, data_test = train_test_split(data, test_size=0.2)"
   ]
  },
  {
   "cell_type": "code",
   "execution_count": null,
   "metadata": {},
   "outputs": [],
   "source": [
    "smi_train, prop_train = data_train[0].to_list(), data_train[2].to_list()\n",
    "smi_test, prop_test = data_test[0].to_list(), data_test[2].to_list()\n",
    "\n",
    "if TASK == \"classification\":\n",
    "    prop_train, prop_test = reg_to_clf(prop_train), reg_to_clf(prop_test)"
   ]
  },
  {
   "cell_type": "code",
   "execution_count": null,
   "metadata": {},
   "outputs": [],
   "source": [
    "mols_train, y_train = [], []\n",
    "for smi, prop in zip(smi_train, prop_train):\n",
    "    mol = Chem.MolFromSmiles(smi)\n",
    "    if mol:\n",
    "        mols_train.append(mol)\n",
    "        y_train.append(prop)"
   ]
  },
  {
   "cell_type": "code",
   "execution_count": null,
   "metadata": {},
   "outputs": [],
   "source": [
    "mols_test, y_test = [], []\n",
    "for smi, prop in zip(smi_test, prop_test):\n",
    "    mol = Chem.MolFromSmiles(smi)\n",
    "    if mol:\n",
    "        mols_test.append(mol)\n",
    "        y_test.append(prop)"
   ]
  },
  {
   "attachments": {},
   "cell_type": "markdown",
   "metadata": {},
   "source": [
    "## 1.5 Reduce the dataset size for faster pipeline (for playing around)"
   ]
  },
  {
   "cell_type": "code",
   "execution_count": null,
   "metadata": {},
   "outputs": [],
   "source": [
    "# mols_train, y_train = mols_train[:80], y_train[:80]\n",
    "# mols_test, y_test = mols_test[:20], y_test[:20]"
   ]
  },
  {
   "cell_type": "markdown",
   "metadata": {},
   "source": [
    "## 2. Conformer generation\n",
    "\n",
    "For each molecule, an ensemble of conformers is generated. Then, molecules for which conformer generation failed are filtered out from both, the training and test set. Generated conformers can be accessed by mol.GetConformers(confID=0)."
   ]
  },
  {
   "cell_type": "code",
   "execution_count": null,
   "metadata": {},
   "outputs": [],
   "source": [
    "from qsarmil.conformer import RDKitConformerGenerator\n",
    "\n",
    "from qsarmil.utils.logging import FailedConformer, FailedDescriptor"
   ]
  },
  {
   "cell_type": "code",
   "execution_count": null,
   "metadata": {},
   "outputs": [],
   "source": [
    "conf_gen = RDKitConformerGenerator(num_conf=10, num_cpu=40)"
   ]
  },
  {
   "cell_type": "code",
   "execution_count": null,
   "metadata": {},
   "outputs": [],
   "source": [
    "confs_train = conf_gen.run(mols_train)\n",
    "\n",
    "tmp = [(c, y) for c, y in zip(confs_train, y_train) if not isinstance(c, FailedConformer)]\n",
    "confs_train, y_train = zip(*tmp) \n",
    "confs_train, y_train = list(confs_train), list(y_train)"
   ]
  },
  {
   "cell_type": "code",
   "execution_count": null,
   "metadata": {},
   "outputs": [],
   "source": [
    "confs_test = conf_gen.run(mols_test)\n",
    "\n",
    "tmp = [(c, y) for c, y in zip(confs_test, y_test) if not isinstance(c, FailedConformer)]\n",
    "confs_test, y_test = zip(*tmp) \n",
    "confs_test, y_test = list(confs_test), list(y_test)"
   ]
  },
  {
   "cell_type": "markdown",
   "metadata": {},
   "source": [
    "## 3. Descriptor calculation\n",
    "\n",
    "Then, for each molecule with associated conformers 3D descriptors are calculated. Here, a descriptor wrapper is used, which is designed to apply descriptor calculators from external packages. The resulting descriptors are a list of 2D arrays (bags). Also, the resulting descriptors are scaled."
   ]
  },
  {
   "cell_type": "code",
   "execution_count": null,
   "metadata": {},
   "outputs": [],
   "source": [
    "from qsarmil.descriptor.rdkit import (RDKitGEOM, \n",
    "                                      RDKitAUTOCORR, \n",
    "                                      RDKitRDF, \n",
    "                                      RDKitMORSE, \n",
    "                                      RDKitWHIM, \n",
    "                                      RDKitGETAWAY)\n",
    "\n",
    "from molfeat.calc import Pharmacophore3D, USRDescriptors, ElectroShapeDescriptors\n",
    "\n",
    "from qsarmil.descriptor.wrapper import DescriptorWrapper\n",
    "\n",
    "from milearn.preprocessing import BagMinMaxScaler"
   ]
  },
  {
   "cell_type": "code",
   "execution_count": null,
   "metadata": {},
   "outputs": [],
   "source": [
    "desc_calc = DescriptorWrapper(RDKitRDF())"
   ]
  },
  {
   "cell_type": "code",
   "execution_count": null,
   "metadata": {
    "scrolled": true
   },
   "outputs": [],
   "source": [
    "x_train = desc_calc.transform(confs_train)\n",
    "x_test = desc_calc.transform(confs_test)"
   ]
  },
  {
   "cell_type": "code",
   "execution_count": null,
   "metadata": {},
   "outputs": [],
   "source": [
    "scaler = BagMinMaxScaler()\n",
    "\n",
    "scaler.fit(x_train)\n",
    "\n",
    "x_train_scaled = scaler.transform(x_train)\n",
    "x_test_scaled = scaler.transform(x_test)"
   ]
  },
  {
   "cell_type": "markdown",
   "metadata": {},
   "source": [
    "## 4. Model training"
   ]
  },
  {
   "cell_type": "code",
   "execution_count": null,
   "metadata": {},
   "outputs": [],
   "source": [
    "import logging\n",
    "import warnings\n",
    "warnings.filterwarnings(\"ignore\")\n",
    "logging.getLogger(\"pytorch_lightning\").setLevel(logging.ERROR)\n",
    "logging.getLogger(\"lightning\").setLevel(logging.ERROR)\n",
    "\n",
    "import time\n",
    "import torch\n",
    "import random\n",
    "\n",
    "import numpy as np\n",
    "import pandas as pd\n",
    "\n",
    "import matplotlib.pyplot as plt\n",
    "\n",
    "# MNIST dataset creation\n",
    "from milearn.data.mnist import load_mnist, create_bags_or, create_bags_and, create_bags_xor, create_bags_reg\n",
    "\n",
    "# Preprocessing\n",
    "from milearn.preprocessing import BagMinMaxScaler\n",
    "\n",
    "# Network hparams\n",
    "from milearn.network.module.hopt import DEFAULT_PARAM_GRID\n",
    "\n",
    "# MIL wrappers\n",
    "from milearn.network.regressor import BagWrapperMLPNetworkRegressor, InstanceWrapperMLPNetworkRegressor\n",
    "from milearn.network.classifier import BagWrapperMLPNetworkClassifier, InstanceWrapperMLPNetworkClassifier\n",
    "\n",
    "# MIL networks\n",
    "from milearn.network.regressor import (InstanceNetworkRegressor,\n",
    "                                       BagNetworkRegressor,\n",
    "                                       AdditiveAttentionNetworkRegressor,\n",
    "                                       SelfAttentionNetworkRegressor,\n",
    "                                       HopfieldAttentionNetworkRegressor,\n",
    "                                       DynamicPoolingNetworkRegressor)\n",
    "\n",
    "from milearn.network.classifier import (InstanceNetworkClassifier,\n",
    "                                        BagNetworkClassifier,\n",
    "                                        AdditiveAttentionNetworkClassifier,\n",
    "                                        SelfAttentionNetworkClassifier,\n",
    "                                        HopfieldAttentionNetworkClassifier,\n",
    "                                        DynamicPoolingNetworkClassifier)\n",
    "\n",
    "# Utils\n",
    "from sklearn.metrics import r2_score, accuracy_score\n",
    "from sklearn.model_selection import train_test_split"
   ]
  },
  {
   "cell_type": "code",
   "execution_count": null,
   "metadata": {},
   "outputs": [],
   "source": [
    "regressor_list = [\n",
    "\n",
    "        # wrapper mil networks\n",
    "        (\"MeanBagWrapperMLPNetworkRegressor\", BagWrapperMLPNetworkRegressor(pool=\"mean\")),\n",
    "        (\"MeanInstanceWrapperMLPNetworkRegressor\", InstanceWrapperMLPNetworkRegressor(pool=\"mean\")),\n",
    "    \n",
    "        # classic mil networks\n",
    "        (\"MeanBagNetworkRegressor\", BagNetworkRegressor(pool=\"mean\")),\n",
    "        (\"MeanInstanceNetworkRegressor\", InstanceNetworkRegressor(pool=\"mean\")),\n",
    "\n",
    "        # attention mil networks\n",
    "        (\"AdditiveAttentionNetworkRegressor\", AdditiveAttentionNetworkRegressor()),\n",
    "        (\"SelfAttentionNetworkRegressor\", SelfAttentionNetworkRegressor()),\n",
    "        (\"HopfieldAttentionNetworkRegressor\", HopfieldAttentionNetworkRegressor()),\n",
    "\n",
    "        # other mil networks\n",
    "        (\"DynamicPoolingNetworkRegressor\", DynamicPoolingNetworkRegressor()),\n",
    "    ]\n",
    "\n",
    "classifier_list = [\n",
    "\n",
    "        # wrapper mil networks\n",
    "        (\"MeanBagWrapperMLPNetworkClassifier\", BagWrapperMLPNetworkClassifier(pool=\"mean\")),\n",
    "        (\"MeanInstanceWrapperMLPNetworkClassifier\", InstanceWrapperMLPNetworkClassifier(pool=\"mean\")),\n",
    "    \n",
    "        # classic mil networks\n",
    "        (\"MeanBagNetworkClassifier\", BagNetworkClassifier(pool=\"mean\")),\n",
    "        (\"MeanInstanceNetworkClassifier\", InstanceNetworkClassifier(pool=\"mean\")),\n",
    "\n",
    "        # attention mil networks\n",
    "        (\"AdditiveAttentionNetworkClassifier\", AdditiveAttentionNetworkClassifier()),\n",
    "        (\"SelfAttentionNetworkClassifier\", SelfAttentionNetworkClassifier()),\n",
    "        (\"HopfieldAttentionNetworkClassifier\", HopfieldAttentionNetworkClassifier()),\n",
    "\n",
    "        # other mil networks\n",
    "        (\"DynamicPoolingNetworkClassifier\", DynamicPoolingNetworkClassifier()),\n",
    "    ]"
   ]
  },
  {
   "cell_type": "code",
   "execution_count": null,
   "metadata": {
    "scrolled": true
   },
   "outputs": [],
   "source": [
    "if TASK == \"regression\":\n",
    "    method_list = regressor_list\n",
    "elif TASK == \"classification\":\n",
    "    method_list = classifier_list\n",
    "\n",
    "res_df = pd.DataFrame()\n",
    "for method_name, model in method_list:\n",
    "    print(method_name)\n",
    "\n",
    "    # model.hopt(x_train_scaled, y_train, param_grid=DEFAULT_PARAM_GRID, verbose=True)\n",
    "    model.fit(x_train_scaled, y_train)\n",
    "\n",
    "    if TASK == \"regression\":\n",
    "        y_pred = model.predict(x_test_scaled)\n",
    "    elif TASK == \"classification\":\n",
    "        y_prob = model.predict(x_test_scaled)\n",
    "        y_pred = np.where(y_prob > 0.5, 1, 0)\n",
    "    \n",
    "    res_df.loc[method_name, \"ACC\"] = accuracy_metric(y_test, y_pred, task=TASK)"
   ]
  },
  {
   "cell_type": "code",
   "execution_count": null,
   "metadata": {},
   "outputs": [],
   "source": [
    "res_df.sort_values(by=\"ACC\", ascending=False)"
   ]
  },
  {
   "cell_type": "code",
   "execution_count": null,
   "metadata": {},
   "outputs": [],
   "source": []
  },
  {
   "cell_type": "code",
   "execution_count": null,
   "metadata": {},
   "outputs": [],
   "source": []
  }
 ],
 "metadata": {
  "kernelspec": {
   "display_name": "qsarmil",
   "language": "python",
   "name": "qsarmil"
  },
  "language_info": {
   "codemirror_mode": {
    "name": "ipython",
    "version": 3
   },
   "file_extension": ".py",
   "mimetype": "text/x-python",
   "name": "python",
   "nbconvert_exporter": "python",
   "pygments_lexer": "ipython3",
   "version": "3.10.18"
  }
 },
 "nbformat": 4,
 "nbformat_minor": 4
}
