{
 "cells": [
  {
   "cell_type": "markdown",
   "metadata": {},
   "source": [
    "## 1. Load dataset\n",
    "\n",
    "The example datasets contain molecule structure (SMILES) and measured bioactivity (pKi or IC50) – the higher the better. Each SMILES is converted to a Mol object in RDKit."
   ]
  },
  {
   "cell_type": "code",
   "execution_count": 1,
   "metadata": {},
   "outputs": [],
   "source": [
    "import numpy as np\n",
    "import pandas as pd\n",
    "from rdkit import Chem\n",
    "\n",
    "from sklearn.metrics import r2_score, accuracy_score"
   ]
  },
  {
   "cell_type": "code",
   "execution_count": 2,
   "metadata": {},
   "outputs": [],
   "source": [
    "def reg_to_clf(y):\n",
    "    return np.where(np.array(y) > 6, 1, 0)\n",
    "\n",
    "def accuracy_metric(y_true, y_pred, task=None):\n",
    "    if task == \"classification\":\n",
    "        return accuracy_score(y_true, y_pred)\n",
    "    elif task == \"regression\":\n",
    "        return r2_score(y_true, y_pred)"
   ]
  },
  {
   "cell_type": "code",
   "execution_count": 3,
   "metadata": {},
   "outputs": [],
   "source": [
    "# TASK = \"regression\"\n",
    "TASK = \"classification\""
   ]
  },
  {
   "cell_type": "code",
   "execution_count": 4,
   "metadata": {},
   "outputs": [],
   "source": [
    "data_train = pd.read_csv('data/CHEMBL1824/train.csv', header=None)\n",
    "data_test = pd.read_csv('data/CHEMBL1824/test.csv', header=None)"
   ]
  },
  {
   "cell_type": "code",
   "execution_count": 5,
   "metadata": {},
   "outputs": [],
   "source": [
    "smi_train, prop_train = data_train[0].to_list(), data_train[1].to_list()\n",
    "smi_test, prop_test = data_test[0].to_list(), data_test[1].to_list()\n",
    "\n",
    "if TASK == \"classification\":\n",
    "    prop_train, prop_test = reg_to_clf(prop_train), reg_to_clf(prop_test)"
   ]
  },
  {
   "cell_type": "code",
   "execution_count": 6,
   "metadata": {},
   "outputs": [],
   "source": [
    "mols_train, y_train = [], []\n",
    "for smi, prop in zip(smi_train, prop_train):\n",
    "    mol = Chem.MolFromSmiles(smi)\n",
    "    if mol:\n",
    "        mols_train.append(mol)\n",
    "        y_train.append(prop)"
   ]
  },
  {
   "cell_type": "code",
   "execution_count": 7,
   "metadata": {},
   "outputs": [],
   "source": [
    "mols_test, y_test = [], []\n",
    "for smi, prop in zip(smi_test, prop_test):\n",
    "    mol = Chem.MolFromSmiles(smi)\n",
    "    if mol:\n",
    "        mols_test.append(mol)\n",
    "        y_test.append(prop)"
   ]
  },
  {
   "attachments": {},
   "cell_type": "markdown",
   "metadata": {},
   "source": [
    "## 1.5 Reduce the dataset size for faster pipeline (for playing around)"
   ]
  },
  {
   "cell_type": "code",
   "execution_count": 8,
   "metadata": {},
   "outputs": [],
   "source": [
    "# mols_train, y_train = mols_train[:80], y_train[:80]\n",
    "# mols_test, y_test = mols_test[:20], y_test[:20]"
   ]
  },
  {
   "cell_type": "markdown",
   "metadata": {},
   "source": [
    "## 2. Conformer generation\n",
    "\n",
    "For each molecule, an ensemble of conformers is generated. Then, molecules for which conformer generation failed are filtered out from both, the training and test set. Generated conformers can be accessed by mol.GetConformers(confID=0)."
   ]
  },
  {
   "cell_type": "code",
   "execution_count": 9,
   "metadata": {},
   "outputs": [],
   "source": [
    "from qsarmil.conformer import RDKitConformerGenerator\n",
    "\n",
    "from qsarmil.utils.logging import FailedConformer, FailedDescriptor"
   ]
  },
  {
   "cell_type": "code",
   "execution_count": 10,
   "metadata": {},
   "outputs": [],
   "source": [
    "conf_gen = RDKitConformerGenerator(num_conf=10, num_cpu=40)"
   ]
  },
  {
   "cell_type": "code",
   "execution_count": 11,
   "metadata": {},
   "outputs": [
    {
     "name": "stderr",
     "output_type": "stream",
     "text": [
      "Generating conformers: 100%|████████████████████████████████████████████████████████| 1667/1667 [01:10<00:00, 23.77it/s]\n"
     ]
    }
   ],
   "source": [
    "confs_train = conf_gen.run(mols_train)\n",
    "\n",
    "tmp = [(c, y) for c, y in zip(confs_train, y_train) if not isinstance(c, FailedConformer)]\n",
    "confs_train, y_train = zip(*tmp) \n",
    "confs_train, y_train = list(confs_train), list(y_train)"
   ]
  },
  {
   "cell_type": "code",
   "execution_count": 12,
   "metadata": {},
   "outputs": [
    {
     "name": "stderr",
     "output_type": "stream",
     "text": [
      "Generating conformers: 100%|██████████████████████████████████████████████████████████| 556/556 [00:28<00:00, 19.59it/s]\n"
     ]
    }
   ],
   "source": [
    "confs_test = conf_gen.run(mols_test)\n",
    "\n",
    "tmp = [(c, y) for c, y in zip(confs_test, y_test) if not isinstance(c, FailedConformer)]\n",
    "confs_test, y_test = zip(*tmp) \n",
    "confs_test, y_test = list(confs_test), list(y_test)"
   ]
  },
  {
   "cell_type": "markdown",
   "metadata": {},
   "source": [
    "## 3. Descriptor calculation\n",
    "\n",
    "Then, for each molecule with associated conformers 3D descriptors are calculated. Here, a descriptor wrapper is used, which is designed to apply descriptor calculators from external packages. The resulting descriptors are a list of 2D arrays (bags). Also, the resulting descriptors are scaled."
   ]
  },
  {
   "cell_type": "code",
   "execution_count": 13,
   "metadata": {},
   "outputs": [],
   "source": [
    "from qsarmil.descriptor.rdkit import (RDKitGEOM, \n",
    "                                      RDKitAUTOCORR, \n",
    "                                      RDKitRDF, \n",
    "                                      RDKitMORSE, \n",
    "                                      RDKitWHIM, \n",
    "                                      RDKitGETAWAY)\n",
    "\n",
    "from molfeat.calc import Pharmacophore3D, USRDescriptors, ElectroShapeDescriptors\n",
    "\n",
    "from qsarmil.descriptor.wrapper import DescriptorWrapper\n",
    "\n",
    "from milearn.preprocessing import BagMinMaxScaler"
   ]
  },
  {
   "cell_type": "code",
   "execution_count": 14,
   "metadata": {},
   "outputs": [],
   "source": [
    "desc_calc = DescriptorWrapper(RDKitRDF())"
   ]
  },
  {
   "cell_type": "code",
   "execution_count": 15,
   "metadata": {
    "scrolled": true
   },
   "outputs": [],
   "source": [
    "x_train = desc_calc.transform(confs_train)\n",
    "x_test = desc_calc.transform(confs_test)"
   ]
  },
  {
   "cell_type": "code",
   "execution_count": 16,
   "metadata": {},
   "outputs": [],
   "source": [
    "scaler = BagMinMaxScaler()\n",
    "\n",
    "scaler.fit(x_train)\n",
    "\n",
    "x_train_scaled = scaler.transform(x_train)\n",
    "x_test_scaled = scaler.transform(x_test)"
   ]
  },
  {
   "cell_type": "markdown",
   "metadata": {},
   "source": [
    "## 4. Model training"
   ]
  },
  {
   "cell_type": "code",
   "execution_count": 17,
   "metadata": {},
   "outputs": [
    {
     "name": "stderr",
     "output_type": "stream",
     "text": [
      "/home/dmitry/miniforge3/envs/tmp/lib/python3.10/site-packages/torch/cuda/__init__.py:174: UserWarning: CUDA initialization: The NVIDIA driver on your system is too old (found version 11040). Please update your GPU driver by downloading and installing a new version from the URL: http://www.nvidia.com/Download/index.aspx Alternatively, go to: https://pytorch.org to install a PyTorch version that has been compiled with your version of the CUDA driver. (Triggered internally at /pytorch/c10/cuda/CUDAFunctions.cpp:109.)\n",
      "  return torch._C._cuda_getDeviceCount() > 0\n"
     ]
    }
   ],
   "source": [
    "from sklearn.metrics import r2_score, accuracy_score\n",
    "\n",
    "from sklearn.ensemble import RandomForestRegressor, RandomForestClassifier\n",
    "\n",
    "from milearn.wrapper import InstanceWrapper, BagWrapper\n",
    "\n",
    "from milearn.network.regressor import InstanceNetworkRegressor, BagNetworkRegressor\n",
    "from milearn.network.classifier import InstanceNetworkClassifier, BagNetworkClassifier\n",
    "\n",
    "# MIL regressors\n",
    "from milearn.network.regressor import (AttentionNetworkRegressor,\n",
    "                                       TempAttentionNetworkRegressor,\n",
    "                                       GatedAttentionNetworkRegressor,\n",
    "                                       MultiHeadAttentionNetworkRegressor,\n",
    "                                       SelfAttentionNetworkRegressor,\n",
    "                                       HopfieldAttentionNetworkRegressor,\n",
    "                                       DynamicPoolingNetworkRegressor)\n",
    "\n",
    "# MIL classifiers\n",
    "from milearn.network.classifier import (AttentionNetworkClassifier,\n",
    "                                        TempAttentionNetworkClassifier,\n",
    "                                        GatedAttentionNetworkClassifier,\n",
    "                                        MultiHeadAttentionNetworkClassifier,\n",
    "                                        SelfAttentionNetworkClassifier,\n",
    "                                        HopfieldAttentionNetworkClassifier,\n",
    "                                        DynamicPoolingNetworkClassifier)"
   ]
  },
  {
   "cell_type": "code",
   "execution_count": 18,
   "metadata": {},
   "outputs": [],
   "source": [
    "network_hparams = {'hidden_layer_sizes':(256, 128, 64),\n",
    "                   'num_epoch':300,\n",
    "                   'batch_size':128,\n",
    "                   'learning_rate':0.001,\n",
    "                   'weight_decay':0.001,\n",
    "                   'instance_weight_dropout':0.01,\n",
    "                   'init_cuda':False,\n",
    "                   'verbose':False}"
   ]
  },
  {
   "cell_type": "code",
   "execution_count": 19,
   "metadata": {},
   "outputs": [],
   "source": [
    "regressor_list = [\n",
    "                   (\"MeanInstanceWrapperRegressor\", InstanceWrapper(estimator=RandomForestRegressor(), pool=\"mean\")), \n",
    "                   (\"MaxInstanceWrapperRegressor\", InstanceWrapper(RandomForestRegressor(), pool=\"max\")), \n",
    "                   (\"MeanBagWrapperRegressor\", BagWrapper(RandomForestRegressor(), pool=\"mean\")), \n",
    "                   (\"MaxBagWrapperRegressor\", BagWrapper(RandomForestRegressor(), pool=\"max\")), \n",
    "                   (\"MinBagWrapperRegressor\", BagWrapper(RandomForestRegressor(), pool=\"min\")), \n",
    "                   (\"ExtremeBagWrapperRegressor\", BagWrapper(RandomForestRegressor(), pool=\"extreme\")),\n",
    "                   (\"MeanInstanceNetworkRegressor\", InstanceNetworkRegressor(**network_hparams, pool=\"mean\")),\n",
    "                   (\"MaxInstanceNetworkRegressor\", InstanceNetworkRegressor(**network_hparams, pool=\"max\")),\n",
    "                   (\"MeanBagNetworkRegressor\", BagNetworkRegressor(**network_hparams, pool=\"mean\")),\n",
    "                   (\"MaxBagNetworkRegressor\", BagNetworkRegressor(**network_hparams, pool=\"max\")),\n",
    "                   (\"AttentionNetworkRegressor\", AttentionNetworkRegressor(**network_hparams)),\n",
    "                   (\"TempAttentionNetworkRegressor\", AttentionNetworkRegressor(**network_hparams)),\n",
    "                   (\"GatedAttentionNetworkRegressor\", GatedAttentionNetworkRegressor(**network_hparams)),\n",
    "                   (\"MultiHeadAttentionNetworkRegressor\", SelfAttentionNetworkRegressor(**network_hparams)),\n",
    "                   (\"SelfAttentionNetworkRegressor\", SelfAttentionNetworkRegressor(**network_hparams)),\n",
    "                   (\"HopfieldAttentionNetworkRegressor\", HopfieldAttentionNetworkRegressor(**network_hparams)),\n",
    "                   (\"DynamicPoolingNetworkRegressor\", DynamicPoolingNetworkRegressor(**network_hparams))\n",
    "              ]\n",
    "\n",
    "classifier_list = [\n",
    "                   (\"MeanInstanceWrapperClassifier\", InstanceWrapper(estimator=RandomForestClassifier(), pool=\"mean\")), \n",
    "                   (\"MaxInstanceWrapperClassifier\", InstanceWrapper(RandomForestClassifier(), pool=\"max\")), \n",
    "                   (\"MeanBagWrapperClassifier\", BagWrapper(RandomForestClassifier(), pool=\"mean\")), \n",
    "                   (\"MaxBagWrapperClassifier\", BagWrapper(RandomForestClassifier(), pool=\"max\")), \n",
    "                   (\"MinBagWrapperClassifier\", BagWrapper(RandomForestClassifier(), pool=\"min\")), \n",
    "                   (\"ExtremeBagWrapperClassifier\", BagWrapper(RandomForestClassifier(), pool=\"extreme\")),\n",
    "                   (\"MeanInstanceNetworkClassifier\", InstanceNetworkClassifier(**network_hparams, pool=\"mean\")),\n",
    "                   (\"MaxInstanceNetworkClassifier\", InstanceNetworkClassifier(**network_hparams, pool=\"max\")),\n",
    "                   (\"MeanBagNetworkClassifier\", BagNetworkClassifier(**network_hparams, pool=\"mean\")),\n",
    "                   (\"MaxBagNetworkClassifier\", BagNetworkClassifier(**network_hparams, pool=\"max\")),\n",
    "                   (\"AttentionNetworkClassifier\", AttentionNetworkClassifier(**network_hparams)),\n",
    "                   (\"TempAttentionNetworkClassifier\", AttentionNetworkClassifier(**network_hparams)),\n",
    "                   (\"GatedAttentionNetworkClassifier\", GatedAttentionNetworkClassifier(**network_hparams)),\n",
    "                   (\"MultiHeadAttentionNetworkClassifier\", SelfAttentionNetworkClassifier(**network_hparams)),\n",
    "                   (\"SelfAttentionNetworkClassifier\", SelfAttentionNetworkClassifier(**network_hparams)),\n",
    "                   (\"HopfieldAttentionNetworkClassifier\", HopfieldAttentionNetworkClassifier(**network_hparams)),\n",
    "                   (\"DynamicPoolingNetworkClassifier\", DynamicPoolingNetworkClassifier(**network_hparams))\n",
    "              ]"
   ]
  },
  {
   "cell_type": "code",
   "execution_count": 20,
   "metadata": {
    "scrolled": true
   },
   "outputs": [],
   "source": [
    "if TASK == \"regression\":\n",
    "    method_list = regressor_list\n",
    "elif TASK == \"classification\":\n",
    "    method_list = classifier_list\n",
    "\n",
    "res_df = pd.DataFrame()\n",
    "for method_name, model in method_list:\n",
    "    model.fit(x_train_scaled, y_train)\n",
    "\n",
    "    if TASK == \"regression\":\n",
    "        y_pred = model.predict(x_test_scaled)\n",
    "    elif TASK == \"classification\":\n",
    "        y_prob = model.predict(x_test_scaled)\n",
    "        y_pred = np.where(y_prob > 0.5, 1, 0)\n",
    "    \n",
    "    res_df.loc[method_name, \"ACC\"] = accuracy_metric(y_test, y_pred, task=TASK)"
   ]
  },
  {
   "cell_type": "code",
   "execution_count": 21,
   "metadata": {},
   "outputs": [
    {
     "data": {
      "text/html": [
       "<div>\n",
       "<style scoped>\n",
       "    .dataframe tbody tr th:only-of-type {\n",
       "        vertical-align: middle;\n",
       "    }\n",
       "\n",
       "    .dataframe tbody tr th {\n",
       "        vertical-align: top;\n",
       "    }\n",
       "\n",
       "    .dataframe thead th {\n",
       "        text-align: right;\n",
       "    }\n",
       "</style>\n",
       "<table border=\"1\" class=\"dataframe\">\n",
       "  <thead>\n",
       "    <tr style=\"text-align: right;\">\n",
       "      <th></th>\n",
       "      <th>ACC</th>\n",
       "    </tr>\n",
       "  </thead>\n",
       "  <tbody>\n",
       "    <tr>\n",
       "      <th>MeanInstanceNetworkClassifier</th>\n",
       "      <td>0.897482</td>\n",
       "    </tr>\n",
       "    <tr>\n",
       "      <th>TempAttentionNetworkClassifier</th>\n",
       "      <td>0.881295</td>\n",
       "    </tr>\n",
       "    <tr>\n",
       "      <th>MultiHeadAttentionNetworkClassifier</th>\n",
       "      <td>0.875899</td>\n",
       "    </tr>\n",
       "    <tr>\n",
       "      <th>MeanBagNetworkClassifier</th>\n",
       "      <td>0.875899</td>\n",
       "    </tr>\n",
       "    <tr>\n",
       "      <th>GatedAttentionNetworkClassifier</th>\n",
       "      <td>0.874101</td>\n",
       "    </tr>\n",
       "    <tr>\n",
       "      <th>SelfAttentionNetworkClassifier</th>\n",
       "      <td>0.870504</td>\n",
       "    </tr>\n",
       "    <tr>\n",
       "      <th>AttentionNetworkClassifier</th>\n",
       "      <td>0.870504</td>\n",
       "    </tr>\n",
       "    <tr>\n",
       "      <th>HopfieldAttentionNetworkClassifier</th>\n",
       "      <td>0.870504</td>\n",
       "    </tr>\n",
       "    <tr>\n",
       "      <th>MeanInstanceWrapperClassifier</th>\n",
       "      <td>0.854317</td>\n",
       "    </tr>\n",
       "    <tr>\n",
       "      <th>DynamicPoolingNetworkClassifier</th>\n",
       "      <td>0.854317</td>\n",
       "    </tr>\n",
       "    <tr>\n",
       "      <th>MaxBagNetworkClassifier</th>\n",
       "      <td>0.852518</td>\n",
       "    </tr>\n",
       "    <tr>\n",
       "      <th>MeanBagWrapperClassifier</th>\n",
       "      <td>0.847122</td>\n",
       "    </tr>\n",
       "    <tr>\n",
       "      <th>MaxInstanceNetworkClassifier</th>\n",
       "      <td>0.836331</td>\n",
       "    </tr>\n",
       "    <tr>\n",
       "      <th>ExtremeBagWrapperClassifier</th>\n",
       "      <td>0.834532</td>\n",
       "    </tr>\n",
       "    <tr>\n",
       "      <th>MinBagWrapperClassifier</th>\n",
       "      <td>0.829137</td>\n",
       "    </tr>\n",
       "    <tr>\n",
       "      <th>MaxInstanceWrapperClassifier</th>\n",
       "      <td>0.827338</td>\n",
       "    </tr>\n",
       "    <tr>\n",
       "      <th>MaxBagWrapperClassifier</th>\n",
       "      <td>0.816547</td>\n",
       "    </tr>\n",
       "  </tbody>\n",
       "</table>\n",
       "</div>"
      ],
      "text/plain": [
       "                                          ACC\n",
       "MeanInstanceNetworkClassifier        0.897482\n",
       "TempAttentionNetworkClassifier       0.881295\n",
       "MultiHeadAttentionNetworkClassifier  0.875899\n",
       "MeanBagNetworkClassifier             0.875899\n",
       "GatedAttentionNetworkClassifier      0.874101\n",
       "SelfAttentionNetworkClassifier       0.870504\n",
       "AttentionNetworkClassifier           0.870504\n",
       "HopfieldAttentionNetworkClassifier   0.870504\n",
       "MeanInstanceWrapperClassifier        0.854317\n",
       "DynamicPoolingNetworkClassifier      0.854317\n",
       "MaxBagNetworkClassifier              0.852518\n",
       "MeanBagWrapperClassifier             0.847122\n",
       "MaxInstanceNetworkClassifier         0.836331\n",
       "ExtremeBagWrapperClassifier          0.834532\n",
       "MinBagWrapperClassifier              0.829137\n",
       "MaxInstanceWrapperClassifier         0.827338\n",
       "MaxBagWrapperClassifier              0.816547"
      ]
     },
     "execution_count": 21,
     "metadata": {},
     "output_type": "execute_result"
    }
   ],
   "source": [
    "res_df.sort_values(by=\"ACC\", ascending=False)"
   ]
  },
  {
   "cell_type": "code",
   "execution_count": null,
   "metadata": {},
   "outputs": [],
   "source": []
  }
 ],
 "metadata": {
  "kernelspec": {
   "display_name": "qsarlazy",
   "language": "python",
   "name": "qsarlazy"
  },
  "language_info": {
   "codemirror_mode": {
    "name": "ipython",
    "version": 3
   },
   "file_extension": ".py",
   "mimetype": "text/x-python",
   "name": "python",
   "nbconvert_exporter": "python",
   "pygments_lexer": "ipython3",
   "version": "3.10.18"
  }
 },
 "nbformat": 4,
 "nbformat_minor": 4
}
