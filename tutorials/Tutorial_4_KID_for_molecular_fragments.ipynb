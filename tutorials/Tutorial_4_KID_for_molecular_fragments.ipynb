{
 "cells": [
  {
   "cell_type": "markdown",
   "id": "4ae70e79-b15d-4ea1-85e4-19590aca7273",
   "metadata": {},
   "source": [
    "### Introduction\n",
    "\n",
    "Each bag contains a collection of molecular fragments. The label is the sum of some property calculated for each fragment. These properties are chosen to be preferably additive (can be calculated as a linear contribution of each fragment). The predicted weights should correspond to the contribution of each fragment. The higher the contribution, the higher the weight should be.\n",
    "\n",
    "**Instance:** One molecular fragment (e.g. C(=O)O - Carboxy group).\n",
    "\n",
    "**Bag**: A collection of fragments (e.g., a list of 5 fragments).\n",
    "\n",
    "**Label:** A sum of fragment property value (e.g. LogP) in the bag.\n",
    "\n",
    "**Key instance:** All fragments."
   ]
  },
  {
   "cell_type": "code",
   "execution_count": 1,
   "id": "d603ccad-b191-45e8-9987-0c0494f2d8d1",
   "metadata": {},
   "outputs": [],
   "source": [
    "import torch\n",
    "import random\n",
    "\n",
    "import numpy as np\n",
    "import pandas as pd\n",
    "\n",
    "import matplotlib.pyplot as plt\n",
    "\n",
    "# Fragments dataset creation\n",
    "from rdkit import Chem\n",
    "from rdkit.Chem import AllChem\n",
    "from qsarmil.data.fragment import create_fragment_bags\n",
    "from qsarmil.mil.network.module.utils import set_seed\n",
    "\n",
    "# MIL regressors\n",
    "from qsarmil.mil.network.regressor import (AttentionNetworkRegressor,\n",
    "                                           TempAttentionNetworkRegressor,\n",
    "                                           GatedAttentionNetworkRegressor,\n",
    "                                           MultiHeadAttentionNetworkRegressor,\n",
    "                                           SelfAttentionNetworkRegressor,\n",
    "                                           HopfieldAttentionNetworkRegressor,\n",
    "                                           DynamicPoolingNetworkRegressor)\n",
    "\n",
    "# Utils\n",
    "from scipy.stats import spearmanr\n",
    "from sklearn.metrics import r2_score\n",
    "from sklearn.model_selection import train_test_split\n",
    "from qsarmil.mil.preprocessing import BagMinMaxScaler\n",
    "\n",
    "# Prediction visualisation\n",
    "from qsarmil.data.fragment import display_fragments_with_weights\n",
    "\n",
    "# RDKit warnings\n",
    "from rdkit import RDLogger\n",
    "RDLogger.DisableLog('rdApp.*')"
   ]
  },
  {
   "cell_type": "markdown",
   "id": "195fb753-5dea-4160-af2c-5dac4d3b4f22",
   "metadata": {},
   "source": [
    "### Key Instance Detection Ranking Accuracy for Regression\n",
    "\n",
    "This function evaluates how well a model's predicted attention weights rank the important instances in a bag, by computing the Spearman rank correlation between:\n",
    "\n",
    "* The true importance ranking (represented here by the fragment property values)\n",
    "\n",
    "* The predicted importance scores (predicted weights)"
   ]
  },
  {
   "cell_type": "code",
   "execution_count": 2,
   "id": "c296404f-5204-4200-9a35-2ca10b0d5403",
   "metadata": {},
   "outputs": [],
   "source": [
    "def kid_ranking_accuracy(instance_digits, attn_weights):\n",
    "\n",
    "    per_bag_corrs = []\n",
    "    for w, digits in zip(attn_weights, instance_digits):\n",
    "        if len(set(digits)) == 1:\n",
    "            # Avoid undefined correlation when all digits are identical\n",
    "            per_bag_corrs.append(0.0)\n",
    "            continue\n",
    "\n",
    "        corr, _ = spearmanr(w, digits)\n",
    "        if np.isnan(corr):\n",
    "            corr = 0.0\n",
    "        per_bag_corrs.append(corr)\n",
    "\n",
    "    mean_corr = np.mean(per_bag_corrs)\n",
    "    return mean_corr"
   ]
  },
  {
   "cell_type": "markdown",
   "id": "112eaf42-a36a-4499-8dd0-f21addcf1e85",
   "metadata": {},
   "source": [
    "### 1. Create Fragment dataset\n",
    "\n",
    "In Multiple Instance Learning (MIL), each bag is a collection of instances (here, molecular fragments), and the task often involves predicting a label for the entire bag. In this specific setup:\n",
    "\n",
    "* Each molecule is broken into BRICS fragments.\n",
    "\n",
    "* A fixed number of these fragments are randomly sampled to form a bag.\n",
    "\n",
    "* A chemical property is calculated for each fragment.\n",
    "\n",
    "* The sum of fragment properties becomes the bag's label.\n",
    "\n",
    "* The function returns: The fragment bags (as RDKit Mol objects), The bag labels (total property), The individual fragment properties (per bag)."
   ]
  },
  {
   "cell_type": "markdown",
   "id": "f0d3d188-e74c-46a7-b62f-6985141d7198",
   "metadata": {},
   "source": [
    "**The list of properties that can be calculated for fragments:**\n",
    "\n",
    "* ``LogP`` – Lipophilicity\n",
    "\n",
    "* ``MolWt`` – Molecular weight\n",
    "\n",
    "* ``TPSA`` – Topological polar surface area\n",
    "\n",
    "* ``NumHDonors`` – Number of hydrogen bond donors\n",
    "\n",
    "* ``NumHAcceptors`` – Number of hydrogen bond acceptors\n",
    "\n",
    "* ``MolMR`` – Molar refractivity\n",
    "\n",
    "* ``NumRotatableBonds`` – Flexibility\n",
    "\n",
    "* ``RingCount`` – Number of rings\n",
    "\n",
    "* ``FractionCSP3`` – Fraction of sp³-hybridized carbon atoms"
   ]
  },
  {
   "cell_type": "code",
   "execution_count": 3,
   "id": "961bc140-7794-4bb4-9daa-cd15eaa418b3",
   "metadata": {},
   "outputs": [],
   "source": [
    "bag_size = 5\n",
    "property_name = \"LogP\"\n",
    "\n",
    "smiles = list(pd.read_csv(\"data/CHEMBL1824/train.csv\", header=None)[0])\n",
    "mols = [Chem.MolFromSmiles(s) for s in smiles]\n",
    "\n",
    "# create dataset\n",
    "bags, labels, contribs = create_fragment_bags(mols, bag_size=bag_size, property_name=property_name)"
   ]
  },
  {
   "cell_type": "code",
   "execution_count": 4,
   "id": "76fba210-124e-4252-a8dd-fe4e42ffa49c",
   "metadata": {},
   "outputs": [
    {
     "name": "stdout",
     "output_type": "stream",
     "text": [
      "Total number of molecules: 1667\n",
      "Total number of bags (successfully generated fragments): 1234\n"
     ]
    }
   ],
   "source": [
    "print(f\"Total number of molecules: {len(mols)}\")\n",
    "print(f\"Total number of bags (successfully generated fragments): {len(bags)}\")"
   ]
  },
  {
   "cell_type": "code",
   "execution_count": 5,
   "id": "315d90a9-b66b-48c4-aaba-2dd1d5f47fa7",
   "metadata": {},
   "outputs": [
    {
     "data": {
      "text/plain": [
       "[<rdkit.Chem.rdchem.Mol at 0x7fc636c121f0>,\n",
       " <rdkit.Chem.rdchem.Mol at 0x7fc636c12180>,\n",
       " <rdkit.Chem.rdchem.Mol at 0x7fc636c11fc0>,\n",
       " <rdkit.Chem.rdchem.Mol at 0x7fc636c122d0>,\n",
       " <rdkit.Chem.rdchem.Mol at 0x7fc636c120a0>]"
      ]
     },
     "execution_count": 5,
     "metadata": {},
     "output_type": "execute_result"
    }
   ],
   "source": [
    "bags[0]"
   ]
  },
  {
   "cell_type": "code",
   "execution_count": 6,
   "id": "f624dd0d-75c1-4845-ad98-c39180b4889d",
   "metadata": {},
   "outputs": [
    {
     "data": {
      "text/plain": [
       "[0.4608, 0.029899999999999982, 0.9216, -0.0684, 0.4121199999999999]"
      ]
     },
     "execution_count": 6,
     "metadata": {},
     "output_type": "execute_result"
    }
   ],
   "source": [
    "contribs[0]"
   ]
  },
  {
   "cell_type": "markdown",
   "id": "121edf28-caeb-4a1a-a7bb-487feeaa72b9",
   "metadata": {},
   "source": [
    "### 2. Calculate fragment descriptors"
   ]
  },
  {
   "cell_type": "code",
   "execution_count": 7,
   "id": "692a1707-5126-4fb6-bc07-6bf784da8064",
   "metadata": {},
   "outputs": [],
   "source": [
    "def compute_fragment_descriptors(bags, n_bits=128, radius=2):\n",
    "    bags_descriptors = []\n",
    "    for bag in bags:\n",
    "        descs = [np.array(AllChem.GetMorganFingerprintAsBitVect(frag, radius, nBits=n_bits))\n",
    "                 for frag in bag]\n",
    "        bags_descriptors.append(descs)\n",
    "    return bags_descriptors"
   ]
  },
  {
   "cell_type": "code",
   "execution_count": 8,
   "id": "9882c183-11aa-4964-8e1a-7e457c354f78",
   "metadata": {},
   "outputs": [],
   "source": [
    "dsc = compute_fragment_descriptors(bags)"
   ]
  },
  {
   "cell_type": "markdown",
   "id": "00ed31db-d1a4-4de7-b875-ea56f70147a5",
   "metadata": {},
   "source": [
    "### 3. Build model"
   ]
  },
  {
   "cell_type": "code",
   "execution_count": 9,
   "id": "02250885-e5d5-42f0-b106-52dbc2a5020d",
   "metadata": {},
   "outputs": [],
   "source": [
    "network_hparams = {'hidden_layer_sizes':(256, 128, 64),\n",
    "                   'num_epoch':300,\n",
    "                   'batch_size':128,\n",
    "                   'learning_rate':0.001,\n",
    "                   'weight_decay':0.001,\n",
    "                   'instance_weight_dropout':0.01,\n",
    "                   'init_cuda':False,\n",
    "                   'verbose':False}"
   ]
  },
  {
   "cell_type": "code",
   "execution_count": 10,
   "id": "050d4308-c4dc-4a35-8a34-31ba1c11df64",
   "metadata": {},
   "outputs": [],
   "source": [
    "x_train, x_test, y_train, y_test, key_train, key_test, frg_train, frg_test = train_test_split(dsc, labels, contribs, bags, random_state=42)"
   ]
  },
  {
   "cell_type": "code",
   "execution_count": 11,
   "id": "8bf1c1f7-8026-4294-b287-ad8f4a6e3b00",
   "metadata": {},
   "outputs": [],
   "source": [
    "scaler = BagMinMaxScaler()\n",
    "scaler.fit(x_train)\n",
    "x_train_scaled = scaler.transform(x_train)\n",
    "x_test_scaled = scaler.transform(x_test)"
   ]
  },
  {
   "cell_type": "code",
   "execution_count": 12,
   "id": "016b8325-a377-4e10-b0c8-ed70e2542629",
   "metadata": {},
   "outputs": [
    {
     "data": {
      "text/plain": [
       "DynamicPoolingNetworkRegressor(\n",
       "  (extractor): Sequential(\n",
       "    (0): Linear(in_features=128, out_features=256, bias=True)\n",
       "    (1): ReLU()\n",
       "    (2): Linear(in_features=256, out_features=128, bias=True)\n",
       "    (3): ReLU()\n",
       "    (4): Linear(in_features=128, out_features=64, bias=True)\n",
       "    (5): ReLU()\n",
       "  )\n",
       "  (pooling): DynamicPooling()\n",
       "  (estimator): Norm()\n",
       ")"
      ]
     },
     "execution_count": 12,
     "metadata": {},
     "output_type": "execute_result"
    }
   ],
   "source": [
    "model = DynamicPoolingNetworkRegressor(**network_hparams)\n",
    "model.to(\"cpu\")\n",
    "model.fit(x_train_scaled, y_train)"
   ]
  },
  {
   "cell_type": "code",
   "execution_count": 13,
   "id": "58b9e45e-76b5-4fcd-a6fb-81a164bbdbf3",
   "metadata": {},
   "outputs": [],
   "source": [
    "y_pred = model.predict(x_test_scaled)\n",
    "w_pred = model.get_instance_weights(x_test_scaled)"
   ]
  },
  {
   "cell_type": "code",
   "execution_count": 14,
   "id": "71657a5d-fc8a-4ee0-a027-989392a00f40",
   "metadata": {},
   "outputs": [
    {
     "name": "stdout",
     "output_type": "stream",
     "text": [
      "Regression R2: 0.65\n",
      "KID ranking accuracy: 0.85\n"
     ]
    }
   ],
   "source": [
    "print(f\"Regression R2: {r2_score(y_test, y_pred):.2f}\")\n",
    "print(f\"KID ranking accuracy: {kid_ranking_accuracy(key_test, w_pred):.2f}\")"
   ]
  },
  {
   "cell_type": "code",
   "execution_count": 15,
   "id": "b820883d-a563-4cca-81b3-42bb4bcd444f",
   "metadata": {},
   "outputs": [
    {
     "data": {
      "image/png": "[encoded data removed]",
      "text/plain": [
       "<Figure size 1200x600 with 8 Axes>"
      ]
     },
     "metadata": {},
     "output_type": "display_data"
    }
   ],
   "source": [
    "N = 1\n",
    "display_fragments_with_weights(frg_test[N], key_test[N], w_pred[N], sort=True, max_fragments=10,\n",
    "                               title=f\"Bag {N}\\nPredicted label:{y_pred[N].item():.2f}\\nTrue label: {y_test[N]:.2f}\")"
   ]
  },
  {
   "cell_type": "markdown",
   "id": "b4d1b3a0-5393-4d86-a595-1d7c9d4833ee",
   "metadata": {},
   "source": [
    "### 4. KID benchmark"
   ]
  },
  {
   "cell_type": "code",
   "execution_count": 16,
   "id": "fa3b34a7-6de2-4c2c-9c0d-6c1943972f0f",
   "metadata": {},
   "outputs": [],
   "source": [
    "network_hparams = {'hidden_layer_sizes':(256, 128, 64),\n",
    "                   'num_epoch':300,\n",
    "                   'batch_size':128,\n",
    "                   'learning_rate':0.001,\n",
    "                   'weight_decay':0.001,\n",
    "                   'instance_weight_dropout':0.01,\n",
    "                   'init_cuda':False,\n",
    "                   'verbose':False}"
   ]
  },
  {
   "cell_type": "code",
   "execution_count": 17,
   "id": "b9603049-4c2f-423a-b9e5-05437aac445e",
   "metadata": {},
   "outputs": [],
   "source": [
    "network_list = [\n",
    "                (\"AttentionNetworkRegressor\", AttentionNetworkRegressor(**network_hparams)), \n",
    "                (\"TempAttentionNetworkRegressor\", TempAttentionNetworkRegressor(**network_hparams, tau=0.5)), \n",
    "                (\"GatedAttentionNetworkRegressor\", GatedAttentionNetworkRegressor(**network_hparams)), \n",
    "                (\"MultiHeadAttentionNetworkRegressor\", MultiHeadAttentionNetworkRegressor(**network_hparams, num_heads=10)), \n",
    "                (\"SelfAttentionNetworkRegressor\", SelfAttentionNetworkRegressor(**network_hparams)), \n",
    "                (\"HopfieldAttentionNetworkRegressor\", HopfieldAttentionNetworkRegressor(**network_hparams, beta=1)),\n",
    "                (\"DynamicPoolingNetworkRegressor\", DynamicPoolingNetworkRegressor(**network_hparams)),\n",
    "               ]"
   ]
  },
  {
   "cell_type": "code",
   "execution_count": 19,
   "id": "4523bd06-47da-427f-85ac-9a3492778dd5",
   "metadata": {},
   "outputs": [
    {
     "name": "stdout",
     "output_type": "stream",
     "text": [
      "\n",
      "[Task 1/9] Starting task: 'LogP'\n",
      "  [Model 1/7] Training model: 'AttentionNetworkRegressor'\n",
      "  [Model 2/7] Training model: 'TempAttentionNetworkRegressor'\n",
      "  [Model 3/7] Training model: 'GatedAttentionNetworkRegressor'\n",
      "  [Model 4/7] Training model: 'MultiHeadAttentionNetworkRegressor'\n",
      "  [Model 5/7] Training model: 'SelfAttentionNetworkRegressor'\n",
      "  [Model 6/7] Training model: 'HopfieldAttentionNetworkRegressor'\n",
      "  [Model 7/7] Training model: 'DynamicPoolingNetworkRegressor'\n",
      "\n",
      "[Task 2/9] Starting task: 'MolWt'\n",
      "  [Model 1/7] Training model: 'AttentionNetworkRegressor'\n",
      "  [Model 2/7] Training model: 'TempAttentionNetworkRegressor'\n"
     ]
    },
    {
     "name": "stderr",
     "output_type": "stream",
     "text": [
      "/tmp/ipykernel_2271426/4149945887.py:10: ConstantInputWarning: An input array is constant; the correlation coefficient is not defined.\n",
      "  corr, _ = spearmanr(w, digits)\n"
     ]
    },
    {
     "name": "stdout",
     "output_type": "stream",
     "text": [
      "  [Model 3/7] Training model: 'GatedAttentionNetworkRegressor'\n",
      "  [Model 4/7] Training model: 'MultiHeadAttentionNetworkRegressor'\n",
      "  [Model 5/7] Training model: 'SelfAttentionNetworkRegressor'\n",
      "  [Model 6/7] Training model: 'HopfieldAttentionNetworkRegressor'\n",
      "  [Model 7/7] Training model: 'DynamicPoolingNetworkRegressor'\n",
      "\n",
      "[Task 3/9] Starting task: 'TPSA'\n",
      "  [Model 1/7] Training model: 'AttentionNetworkRegressor'\n",
      "  [Model 2/7] Training model: 'TempAttentionNetworkRegressor'\n",
      "  [Model 3/7] Training model: 'GatedAttentionNetworkRegressor'\n",
      "  [Model 4/7] Training model: 'MultiHeadAttentionNetworkRegressor'\n",
      "  [Model 5/7] Training model: 'SelfAttentionNetworkRegressor'\n",
      "  [Model 6/7] Training model: 'HopfieldAttentionNetworkRegressor'\n",
      "  [Model 7/7] Training model: 'DynamicPoolingNetworkRegressor'\n",
      "\n",
      "[Task 4/9] Starting task: 'NumHDonors'\n",
      "  [Model 1/7] Training model: 'AttentionNetworkRegressor'\n",
      "  [Model 2/7] Training model: 'TempAttentionNetworkRegressor'\n",
      "  [Model 3/7] Training model: 'GatedAttentionNetworkRegressor'\n",
      "  [Model 4/7] Training model: 'MultiHeadAttentionNetworkRegressor'\n",
      "  [Model 5/7] Training model: 'SelfAttentionNetworkRegressor'\n",
      "  [Model 6/7] Training model: 'HopfieldAttentionNetworkRegressor'\n",
      "  [Model 7/7] Training model: 'DynamicPoolingNetworkRegressor'\n",
      "\n",
      "[Task 5/9] Starting task: 'NumHAcceptors'\n",
      "  [Model 1/7] Training model: 'AttentionNetworkRegressor'\n",
      "  [Model 2/7] Training model: 'TempAttentionNetworkRegressor'\n",
      "  [Model 3/7] Training model: 'GatedAttentionNetworkRegressor'\n",
      "  [Model 4/7] Training model: 'MultiHeadAttentionNetworkRegressor'\n",
      "  [Model 5/7] Training model: 'SelfAttentionNetworkRegressor'\n",
      "  [Model 6/7] Training model: 'HopfieldAttentionNetworkRegressor'\n",
      "  [Model 7/7] Training model: 'DynamicPoolingNetworkRegressor'\n",
      "\n",
      "[Task 6/9] Starting task: 'MolMR'\n",
      "  [Model 1/7] Training model: 'AttentionNetworkRegressor'\n",
      "  [Model 2/7] Training model: 'TempAttentionNetworkRegressor'\n",
      "  [Model 3/7] Training model: 'GatedAttentionNetworkRegressor'\n",
      "  [Model 4/7] Training model: 'MultiHeadAttentionNetworkRegressor'\n",
      "  [Model 5/7] Training model: 'SelfAttentionNetworkRegressor'\n",
      "  [Model 6/7] Training model: 'HopfieldAttentionNetworkRegressor'\n",
      "  [Model 7/7] Training model: 'DynamicPoolingNetworkRegressor'\n",
      "\n",
      "[Task 7/9] Starting task: 'NumRotatableBonds'\n",
      "  [Model 1/7] Training model: 'AttentionNetworkRegressor'\n",
      "  [Model 2/7] Training model: 'TempAttentionNetworkRegressor'\n",
      "  [Model 3/7] Training model: 'GatedAttentionNetworkRegressor'\n",
      "  [Model 4/7] Training model: 'MultiHeadAttentionNetworkRegressor'\n",
      "  [Model 5/7] Training model: 'SelfAttentionNetworkRegressor'\n",
      "  [Model 6/7] Training model: 'HopfieldAttentionNetworkRegressor'\n",
      "  [Model 7/7] Training model: 'DynamicPoolingNetworkRegressor'\n",
      "\n",
      "[Task 8/9] Starting task: 'RingCount'\n",
      "  [Model 1/7] Training model: 'AttentionNetworkRegressor'\n",
      "  [Model 2/7] Training model: 'TempAttentionNetworkRegressor'\n",
      "  [Model 3/7] Training model: 'GatedAttentionNetworkRegressor'\n",
      "  [Model 4/7] Training model: 'MultiHeadAttentionNetworkRegressor'\n",
      "  [Model 5/7] Training model: 'SelfAttentionNetworkRegressor'\n",
      "  [Model 6/7] Training model: 'HopfieldAttentionNetworkRegressor'\n",
      "  [Model 7/7] Training model: 'DynamicPoolingNetworkRegressor'\n",
      "\n",
      "[Task 9/9] Starting task: 'FractionCSP3'\n",
      "  [Model 1/7] Training model: 'AttentionNetworkRegressor'\n",
      "  [Model 2/7] Training model: 'TempAttentionNetworkRegressor'\n",
      "  [Model 3/7] Training model: 'GatedAttentionNetworkRegressor'\n",
      "  [Model 4/7] Training model: 'MultiHeadAttentionNetworkRegressor'\n",
      "  [Model 5/7] Training model: 'SelfAttentionNetworkRegressor'\n",
      "  [Model 6/7] Training model: 'HopfieldAttentionNetworkRegressor'\n",
      "  [Model 7/7] Training model: 'DynamicPoolingNetworkRegressor'\n",
      "\n",
      "All tasks and models completed.\n"
     ]
    }
   ],
   "source": [
    "bag_size = 5\n",
    "\n",
    "res_df = pd.DataFrame()\n",
    "tasks = [\"LogP\", \"MolWt\", \"TPSA\", \"NumHDonors\", \"NumHAcceptors\", \n",
    "         \"MolMR\", \"NumRotatableBonds\", \"RingCount\", \"FractionCSP3\"]\n",
    "\n",
    "for task_idx, task in enumerate(tasks, 1):\n",
    "    print(f\"\\n[Task {task_idx}/{len(tasks)}] Starting task: '{task}'\")\n",
    "\n",
    "    # create data\n",
    "    smiles = list(pd.read_csv(\"data/CHEMBL1824/train.csv\", header=None)[0])\n",
    "    mols = [Chem.MolFromSmiles(s) for s in smiles]\n",
    "    \n",
    "    bags, labels, contribs = create_fragment_bags(mols, bag_size=bag_size, property_name=task)\n",
    "    dsc = compute_fragment_descriptors(bags)\n",
    "    \n",
    "    x_train, x_test, y_train, y_test, key_train, key_test, frg_train, frg_test = train_test_split(\n",
    "        dsc, labels, contribs, bags, random_state=42)\n",
    "    \n",
    "    # scale features\n",
    "    scaler = BagMinMaxScaler()\n",
    "    scaler.fit(x_train)\n",
    "    x_train_scaled, x_test_scaled = scaler.transform(x_train), scaler.transform(x_test)\n",
    "    \n",
    "    # build models\n",
    "    for model_idx, (name, model) in enumerate(network_list, 1):\n",
    "        print(f\"  [Model {model_idx}/{len(network_list)}] Training model: '{name}'\")\n",
    "\n",
    "        # train model\n",
    "        model.to(\"cpu\")\n",
    "        model.fit(x_train_scaled, y_train)\n",
    "        \n",
    "        # predict\n",
    "        y_pred = model.predict(x_test_scaled)\n",
    "        w_pred = model.get_instance_weights(x_test_scaled)\n",
    "        #\n",
    "        res_df.loc[name, f\"PRED_{task}\"] = r2_score(y_test, y_pred)\n",
    "        res_df.loc[name, f\"KID_{task}\"] = kid_ranking_accuracy(key_test, w_pred)\n",
    "\n",
    "print(\"\\nAll tasks and models completed.\")"
   ]
  },
  {
   "cell_type": "code",
   "execution_count": 20,
   "id": "df0ed6f6-21c1-4087-96fd-51efdc662085",
   "metadata": {},
   "outputs": [
    {
     "data": {
      "text/html": [
       "<div>\n",
       "<style scoped>\n",
       "    .dataframe tbody tr th:only-of-type {\n",
       "        vertical-align: middle;\n",
       "    }\n",
       "\n",
       "    .dataframe tbody tr th {\n",
       "        vertical-align: top;\n",
       "    }\n",
       "\n",
       "    .dataframe thead th {\n",
       "        text-align: right;\n",
       "    }\n",
       "</style>\n",
       "<table border=\"1\" class=\"dataframe\">\n",
       "  <thead>\n",
       "    <tr style=\"text-align: right;\">\n",
       "      <th></th>\n",
       "      <th>PRED_LogP</th>\n",
       "      <th>KID_LogP</th>\n",
       "      <th>PRED_MolWt</th>\n",
       "      <th>KID_MolWt</th>\n",
       "      <th>PRED_TPSA</th>\n",
       "      <th>KID_TPSA</th>\n",
       "      <th>PRED_NumHDonors</th>\n",
       "      <th>KID_NumHDonors</th>\n",
       "      <th>PRED_NumHAcceptors</th>\n",
       "      <th>KID_NumHAcceptors</th>\n",
       "      <th>PRED_MolMR</th>\n",
       "      <th>KID_MolMR</th>\n",
       "      <th>PRED_NumRotatableBonds</th>\n",
       "      <th>KID_NumRotatableBonds</th>\n",
       "      <th>PRED_RingCount</th>\n",
       "      <th>KID_RingCount</th>\n",
       "      <th>PRED_FractionCSP3</th>\n",
       "      <th>KID_FractionCSP3</th>\n",
       "    </tr>\n",
       "  </thead>\n",
       "  <tbody>\n",
       "    <tr>\n",
       "      <th>AttentionNetworkRegressor</th>\n",
       "      <td>0.89</td>\n",
       "      <td>0.19</td>\n",
       "      <td>0.91</td>\n",
       "      <td>0.26</td>\n",
       "      <td>0.86</td>\n",
       "      <td>-0.19</td>\n",
       "      <td>0.84</td>\n",
       "      <td>0.62</td>\n",
       "      <td>0.94</td>\n",
       "      <td>-0.02</td>\n",
       "      <td>0.94</td>\n",
       "      <td>-0.95</td>\n",
       "      <td>0.91</td>\n",
       "      <td>0.34</td>\n",
       "      <td>0.98</td>\n",
       "      <td>-0.13</td>\n",
       "      <td>0.98</td>\n",
       "      <td>0.02</td>\n",
       "    </tr>\n",
       "    <tr>\n",
       "      <th>TempAttentionNetworkRegressor</th>\n",
       "      <td>0.87</td>\n",
       "      <td>0.04</td>\n",
       "      <td>0.90</td>\n",
       "      <td>-0.86</td>\n",
       "      <td>0.85</td>\n",
       "      <td>-0.27</td>\n",
       "      <td>0.84</td>\n",
       "      <td>0.62</td>\n",
       "      <td>0.89</td>\n",
       "      <td>-0.09</td>\n",
       "      <td>0.94</td>\n",
       "      <td>-0.39</td>\n",
       "      <td>0.91</td>\n",
       "      <td>0.34</td>\n",
       "      <td>0.98</td>\n",
       "      <td>-0.00</td>\n",
       "      <td>0.98</td>\n",
       "      <td>0.18</td>\n",
       "    </tr>\n",
       "    <tr>\n",
       "      <th>GatedAttentionNetworkRegressor</th>\n",
       "      <td>0.90</td>\n",
       "      <td>0.06</td>\n",
       "      <td>0.90</td>\n",
       "      <td>-0.93</td>\n",
       "      <td>0.85</td>\n",
       "      <td>-0.02</td>\n",
       "      <td>0.85</td>\n",
       "      <td>0.62</td>\n",
       "      <td>0.94</td>\n",
       "      <td>-0.01</td>\n",
       "      <td>0.94</td>\n",
       "      <td>-0.25</td>\n",
       "      <td>0.93</td>\n",
       "      <td>0.34</td>\n",
       "      <td>0.97</td>\n",
       "      <td>-0.11</td>\n",
       "      <td>0.98</td>\n",
       "      <td>-0.28</td>\n",
       "    </tr>\n",
       "    <tr>\n",
       "      <th>MultiHeadAttentionNetworkRegressor</th>\n",
       "      <td>0.89</td>\n",
       "      <td>0.32</td>\n",
       "      <td>0.92</td>\n",
       "      <td>-0.01</td>\n",
       "      <td>0.88</td>\n",
       "      <td>-0.04</td>\n",
       "      <td>0.86</td>\n",
       "      <td>0.62</td>\n",
       "      <td>0.95</td>\n",
       "      <td>0.88</td>\n",
       "      <td>0.95</td>\n",
       "      <td>-0.41</td>\n",
       "      <td>0.94</td>\n",
       "      <td>0.33</td>\n",
       "      <td>0.98</td>\n",
       "      <td>0.85</td>\n",
       "      <td>0.99</td>\n",
       "      <td>0.01</td>\n",
       "    </tr>\n",
       "    <tr>\n",
       "      <th>SelfAttentionNetworkRegressor</th>\n",
       "      <td>0.89</td>\n",
       "      <td>-0.84</td>\n",
       "      <td>0.43</td>\n",
       "      <td>-0.57</td>\n",
       "      <td>0.56</td>\n",
       "      <td>0.82</td>\n",
       "      <td>0.86</td>\n",
       "      <td>0.62</td>\n",
       "      <td>0.95</td>\n",
       "      <td>-0.46</td>\n",
       "      <td>0.46</td>\n",
       "      <td>0.81</td>\n",
       "      <td>0.94</td>\n",
       "      <td>-0.34</td>\n",
       "      <td>0.98</td>\n",
       "      <td>-0.73</td>\n",
       "      <td>0.98</td>\n",
       "      <td>0.81</td>\n",
       "    </tr>\n",
       "    <tr>\n",
       "      <th>HopfieldAttentionNetworkRegressor</th>\n",
       "      <td>0.83</td>\n",
       "      <td>0.03</td>\n",
       "      <td>0.40</td>\n",
       "      <td>0.81</td>\n",
       "      <td>0.49</td>\n",
       "      <td>0.72</td>\n",
       "      <td>0.70</td>\n",
       "      <td>0.42</td>\n",
       "      <td>0.58</td>\n",
       "      <td>0.22</td>\n",
       "      <td>0.47</td>\n",
       "      <td>0.91</td>\n",
       "      <td>0.78</td>\n",
       "      <td>0.26</td>\n",
       "      <td>0.97</td>\n",
       "      <td>-0.01</td>\n",
       "      <td>0.98</td>\n",
       "      <td>0.15</td>\n",
       "    </tr>\n",
       "    <tr>\n",
       "      <th>DynamicPoolingNetworkRegressor</th>\n",
       "      <td>0.66</td>\n",
       "      <td>0.85</td>\n",
       "      <td>0.84</td>\n",
       "      <td>0.89</td>\n",
       "      <td>0.83</td>\n",
       "      <td>0.91</td>\n",
       "      <td>0.79</td>\n",
       "      <td>0.62</td>\n",
       "      <td>0.82</td>\n",
       "      <td>0.88</td>\n",
       "      <td>0.88</td>\n",
       "      <td>0.96</td>\n",
       "      <td>0.83</td>\n",
       "      <td>0.34</td>\n",
       "      <td>0.96</td>\n",
       "      <td>0.85</td>\n",
       "      <td>0.91</td>\n",
       "      <td>0.78</td>\n",
       "    </tr>\n",
       "  </tbody>\n",
       "</table>\n",
       "</div>"
      ],
      "text/plain": [
       "                                    PRED_LogP  KID_LogP  PRED_MolWt  \\\n",
       "AttentionNetworkRegressor                0.89      0.19        0.91   \n",
       "TempAttentionNetworkRegressor            0.87      0.04        0.90   \n",
       "GatedAttentionNetworkRegressor           0.90      0.06        0.90   \n",
       "MultiHeadAttentionNetworkRegressor       0.89      0.32        0.92   \n",
       "SelfAttentionNetworkRegressor            0.89     -0.84        0.43   \n",
       "HopfieldAttentionNetworkRegressor        0.83      0.03        0.40   \n",
       "DynamicPoolingNetworkRegressor           0.66      0.85        0.84   \n",
       "\n",
       "                                    KID_MolWt  PRED_TPSA  KID_TPSA  \\\n",
       "AttentionNetworkRegressor                0.26       0.86     -0.19   \n",
       "TempAttentionNetworkRegressor           -0.86       0.85     -0.27   \n",
       "GatedAttentionNetworkRegressor          -0.93       0.85     -0.02   \n",
       "MultiHeadAttentionNetworkRegressor      -0.01       0.88     -0.04   \n",
       "SelfAttentionNetworkRegressor           -0.57       0.56      0.82   \n",
       "HopfieldAttentionNetworkRegressor        0.81       0.49      0.72   \n",
       "DynamicPoolingNetworkRegressor           0.89       0.83      0.91   \n",
       "\n",
       "                                    PRED_NumHDonors  KID_NumHDonors  \\\n",
       "AttentionNetworkRegressor                      0.84            0.62   \n",
       "TempAttentionNetworkRegressor                  0.84            0.62   \n",
       "GatedAttentionNetworkRegressor                 0.85            0.62   \n",
       "MultiHeadAttentionNetworkRegressor             0.86            0.62   \n",
       "SelfAttentionNetworkRegressor                  0.86            0.62   \n",
       "HopfieldAttentionNetworkRegressor              0.70            0.42   \n",
       "DynamicPoolingNetworkRegressor                 0.79            0.62   \n",
       "\n",
       "                                    PRED_NumHAcceptors  KID_NumHAcceptors  \\\n",
       "AttentionNetworkRegressor                         0.94              -0.02   \n",
       "TempAttentionNetworkRegressor                     0.89              -0.09   \n",
       "GatedAttentionNetworkRegressor                    0.94              -0.01   \n",
       "MultiHeadAttentionNetworkRegressor                0.95               0.88   \n",
       "SelfAttentionNetworkRegressor                     0.95              -0.46   \n",
       "HopfieldAttentionNetworkRegressor                 0.58               0.22   \n",
       "DynamicPoolingNetworkRegressor                    0.82               0.88   \n",
       "\n",
       "                                    PRED_MolMR  KID_MolMR  \\\n",
       "AttentionNetworkRegressor                 0.94      -0.95   \n",
       "TempAttentionNetworkRegressor             0.94      -0.39   \n",
       "GatedAttentionNetworkRegressor            0.94      -0.25   \n",
       "MultiHeadAttentionNetworkRegressor        0.95      -0.41   \n",
       "SelfAttentionNetworkRegressor             0.46       0.81   \n",
       "HopfieldAttentionNetworkRegressor         0.47       0.91   \n",
       "DynamicPoolingNetworkRegressor            0.88       0.96   \n",
       "\n",
       "                                    PRED_NumRotatableBonds  \\\n",
       "AttentionNetworkRegressor                             0.91   \n",
       "TempAttentionNetworkRegressor                         0.91   \n",
       "GatedAttentionNetworkRegressor                        0.93   \n",
       "MultiHeadAttentionNetworkRegressor                    0.94   \n",
       "SelfAttentionNetworkRegressor                         0.94   \n",
       "HopfieldAttentionNetworkRegressor                     0.78   \n",
       "DynamicPoolingNetworkRegressor                        0.83   \n",
       "\n",
       "                                    KID_NumRotatableBonds  PRED_RingCount  \\\n",
       "AttentionNetworkRegressor                            0.34            0.98   \n",
       "TempAttentionNetworkRegressor                        0.34            0.98   \n",
       "GatedAttentionNetworkRegressor                       0.34            0.97   \n",
       "MultiHeadAttentionNetworkRegressor                   0.33            0.98   \n",
       "SelfAttentionNetworkRegressor                       -0.34            0.98   \n",
       "HopfieldAttentionNetworkRegressor                    0.26            0.97   \n",
       "DynamicPoolingNetworkRegressor                       0.34            0.96   \n",
       "\n",
       "                                    KID_RingCount  PRED_FractionCSP3  \\\n",
       "AttentionNetworkRegressor                   -0.13               0.98   \n",
       "TempAttentionNetworkRegressor               -0.00               0.98   \n",
       "GatedAttentionNetworkRegressor              -0.11               0.98   \n",
       "MultiHeadAttentionNetworkRegressor           0.85               0.99   \n",
       "SelfAttentionNetworkRegressor               -0.73               0.98   \n",
       "HopfieldAttentionNetworkRegressor           -0.01               0.98   \n",
       "DynamicPoolingNetworkRegressor               0.85               0.91   \n",
       "\n",
       "                                    KID_FractionCSP3  \n",
       "AttentionNetworkRegressor                       0.02  \n",
       "TempAttentionNetworkRegressor                   0.18  \n",
       "GatedAttentionNetworkRegressor                 -0.28  \n",
       "MultiHeadAttentionNetworkRegressor              0.01  \n",
       "SelfAttentionNetworkRegressor                   0.81  \n",
       "HopfieldAttentionNetworkRegressor               0.15  \n",
       "DynamicPoolingNetworkRegressor                  0.78  "
      ]
     },
     "execution_count": 20,
     "metadata": {},
     "output_type": "execute_result"
    }
   ],
   "source": [
    "res_df.round(2)"
   ]
  },
  {
   "cell_type": "code",
   "execution_count": null,
   "id": "ce98beab-6d0d-4e77-931b-ff51e7c10abd",
   "metadata": {},
   "outputs": [],
   "source": []
  }
 ],
 "metadata": {
  "kernelspec": {
   "display_name": "qsarmil",
   "language": "python",
   "name": "qsarmil"
  },
  "language_info": {
   "codemirror_mode": {
    "name": "ipython",
    "version": 3
   },
   "file_extension": ".py",
   "mimetype": "text/x-python",
   "name": "python",
   "nbconvert_exporter": "python",
   "pygments_lexer": "ipython3",
   "version": "3.10.18"
  }
 },
 "nbformat": 4,
 "nbformat_minor": 5
}
