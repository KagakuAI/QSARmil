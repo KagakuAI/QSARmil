{
 "cells": [
  {
   "cell_type": "code",
   "execution_count": 1,
   "id": "686dfe9f-1750-402e-8261-e894f3246376",
   "metadata": {},
   "outputs": [],
   "source": [
    "import torch\n",
    "import random\n",
    "\n",
    "import numpy as np\n",
    "\n",
    "import matplotlib.pyplot as plt\n",
    "from torchvision import datasets, transforms"
   ]
  },
  {
   "cell_type": "code",
   "execution_count": 2,
   "id": "caece1b0-011c-4389-9972-1c0c55f006e8",
   "metadata": {},
   "outputs": [],
   "source": [
    "# 1. Load MNIST and convert images to flattened vectors\n",
    "def load_mnist(flatten=True):\n",
    "    transform = transforms.Compose([transforms.ToTensor()])\n",
    "    mnist = datasets.MNIST(root=\"./data\", train=True, download=True, transform=transform)\n",
    "    data = mnist.data.numpy()\n",
    "    targets = mnist.targets.numpy()\n",
    "    \n",
    "    if flatten:\n",
    "        data = data.reshape((data.shape[0], -1))  # Flatten 28x28 -> 784\n",
    "    return data, targets\n",
    "\n",
    "# 2. Create bags with key instance tracking\n",
    "def create_bags(data, targets, bag_size=10, num_bags=1000, key_digit=3, key_instances_per_bag=1):\n",
    "    \"\"\"\n",
    "    Create bags for multi-instance learning with controlled number of key digit instances.\n",
    "\n",
    "    Args:\n",
    "        data: np.ndarray of shape (N, 784)\n",
    "        targets: np.ndarray of shape (N,)\n",
    "        bag_size: number of instances per bag\n",
    "        num_bags: number of bags to create\n",
    "        key_digit: which digit is considered the \"key\"\n",
    "        key_instances_per_bag: how many key instances should appear in positive bags (set to 0 for negative)\n",
    "    \n",
    "    Returns:\n",
    "        bags: list of np.ndarrays of shape (bag_size, 784)\n",
    "        bag_labels: list of 0/1\n",
    "        key_indices: list of lists of positions of key instances\n",
    "    \"\"\"\n",
    "    key_indices_all = np.where(targets == key_digit)[0]\n",
    "    non_key_indices_all = np.where(targets != key_digit)[0]\n",
    "\n",
    "    bags = []\n",
    "    bag_labels = []\n",
    "    key_indices_per_bag = []\n",
    "\n",
    "    for _ in range(num_bags):\n",
    "        is_positive = np.random.rand() < 0.5  # 50% chance for positive bag\n",
    "\n",
    "        if is_positive:\n",
    "            # Sample required number of key instances\n",
    "            key_sample_indices = np.random.choice(key_indices_all, size=key_instances_per_bag, replace=False)\n",
    "\n",
    "            # Sample remaining from non-key instances\n",
    "            remaining = bag_size - key_instances_per_bag\n",
    "            non_key_sample_indices = np.random.choice(non_key_indices_all, size=remaining, replace=False)\n",
    "\n",
    "            # Combine and shuffle\n",
    "            full_indices = np.concatenate([key_sample_indices, non_key_sample_indices])\n",
    "            np.random.shuffle(full_indices)\n",
    "\n",
    "            # Record key positions\n",
    "            key_pos_in_bag = [i for i, idx in enumerate(full_indices) if idx in key_sample_indices]\n",
    "            label = 1\n",
    "\n",
    "        else:\n",
    "            # All from non-key digits\n",
    "            full_indices = np.random.choice(non_key_indices_all, size=bag_size, replace=False)\n",
    "            key_pos_in_bag = []\n",
    "            label = 0\n",
    "\n",
    "        bag = data[full_indices]\n",
    "        bags.append(bag)\n",
    "        bag_labels.append(label)\n",
    "        key_indices_per_bag.append(key_pos_in_bag)\n",
    "\n",
    "    return bags, bag_labels, key_indices_per_bag"
   ]
  },
  {
   "cell_type": "code",
   "execution_count": 3,
   "id": "a85367e4-7508-49cf-88de-563f043532ae",
   "metadata": {},
   "outputs": [],
   "source": [
    "def show_digit(vector, title=None):\n",
    "    \"\"\"\n",
    "    Display a flattened MNIST digit vector (1D array of length 784).\n",
    "    \"\"\"\n",
    "    if vector.shape[0] != 784:\n",
    "        raise ValueError(\"Expected a vector of length 784.\")\n",
    "    \n",
    "    image = vector.reshape(28, 28)\n",
    "    plt.imshow(image, cmap=\"gray\")\n",
    "    plt.axis(\"off\")\n",
    "    if title:\n",
    "        plt.title(title)\n",
    "    plt.show()\n",
    "\n",
    "import matplotlib.pyplot as plt\n",
    "\n",
    "def visualize_bag_with_weights(bag, weights, title=None, cmap='gray'):\n",
    "    \"\"\"\n",
    "    Visualizes the digits in a bag alongside their predicted weights.\n",
    "\n",
    "    Args:\n",
    "        bag: np.ndarray of shape (bag_size, 784) — flattened digit images\n",
    "        weights: np.ndarray of shape (bag_size,) — model outputs per instance\n",
    "        title: Optional title for the whole figure\n",
    "        cmap: Matplotlib colormap\n",
    "    \"\"\"\n",
    "    bag_size = len(bag)\n",
    "    cols = min(5, bag_size)\n",
    "    rows = (bag_size + cols - 1) // cols\n",
    "    \n",
    "    fig, axes = plt.subplots(rows, cols, figsize=(2.5*cols, 2.5*rows))\n",
    "    axes = axes.flatten()\n",
    "\n",
    "    for i in range(bag_size):\n",
    "        image = bag[i].reshape(28, 28)\n",
    "        axes[i].imshow(image, cmap=cmap)\n",
    "        axes[i].set_title(f\"{weights[i]:.2f}\", fontsize=12)\n",
    "        axes[i].axis(\"off\")\n",
    "\n",
    "    for i in range(bag_size, len(axes)):\n",
    "        axes[i].axis(\"off\")\n",
    "\n",
    "    if title:\n",
    "        fig.suptitle(title, fontsize=16)\n",
    "    plt.tight_layout()\n",
    "    plt.show()"
   ]
  },
  {
   "cell_type": "code",
   "execution_count": 4,
   "id": "690b4889-8f67-4edf-8ea6-a04038a10e1c",
   "metadata": {},
   "outputs": [],
   "source": [
    "def compute_kid_accuracy(key_indices, bag_probs, bag_labels):\n",
    "    \"\"\"\n",
    "    Compute key instance detection accuracy from model output probabilities.\n",
    "\n",
    "    Args:\n",
    "        bag_probs: List of NumPy arrays of shape (bag_size,) – predicted probabilities per instance\n",
    "        key_indices: List of lists with ground-truth key positions per bag\n",
    "        bag_labels: List of bag labels (1 = contains key, 0 = does not)\n",
    "\n",
    "    Returns:\n",
    "        Accuracy over positive bags\n",
    "    \"\"\"\n",
    "    predicted_indices = [np.argmax(probs) for probs in bag_probs]\n",
    "    correct = 0\n",
    "    total = 0\n",
    "\n",
    "    for pred_idx, true_keys, label in zip(predicted_indices, key_indices, bag_labels):\n",
    "        if label == 1:\n",
    "            total += 1\n",
    "            if pred_idx in true_keys:\n",
    "                correct += 1\n",
    "\n",
    "    return correct / total if total > 0 else 0.0"
   ]
  },
  {
   "cell_type": "markdown",
   "id": "e3fa1b14-bcdf-44c8-8c1c-b3449ad23cd8",
   "metadata": {},
   "source": [
    "### 1. Create MNIST dataset"
   ]
  },
  {
   "cell_type": "code",
   "execution_count": 5,
   "id": "144ae61b-82a8-4110-b7a6-fcd337e7b048",
   "metadata": {},
   "outputs": [
    {
     "name": "stdout",
     "output_type": "stream",
     "text": [
      "Bag 0 - Label: 0, Key digit indices: []\n",
      "Bag 1 - Label: 0, Key digit indices: []\n",
      "Bag 2 - Label: 0, Key digit indices: []\n"
     ]
    }
   ],
   "source": [
    "data, targets = load_mnist()\n",
    "bags, labels, key_pos = create_bags(data, targets, bag_size=10, num_bags=500, key_digit=3, key_instances_per_bag=1)\n",
    "\n",
    "# Let's inspect a few\n",
    "for i in range(3):\n",
    "    print(f\"Bag {i} - Label: {labels[i]}, Key digit indices: {key_pos[i]}\")"
   ]
  },
  {
   "cell_type": "markdown",
   "id": "5c4e3d86-e1a3-465a-8359-137842d01b4d",
   "metadata": {},
   "source": [
    "### 2. Key Instance Detection"
   ]
  },
  {
   "cell_type": "code",
   "execution_count": 6,
   "id": "85b8489a-27f1-4d72-9d35-f935950b04d3",
   "metadata": {},
   "outputs": [],
   "source": [
    "import pandas as pd\n",
    "\n",
    "from sklearn.metrics import accuracy_score\n",
    "from sklearn.model_selection import train_test_split\n",
    "\n",
    "from sklearn.ensemble import RandomForestRegressor\n",
    "\n",
    "from qsarmil.mil.wrapper import InstanceWrapper, BagWrapper\n",
    "from qsarmil.mil.network.regressor import InstanceNetworkRegressor, BagNetworkRegressor\n",
    "\n",
    "from qsarmil.mil.network.classifier import (AttentionNetworkClassifier,\n",
    "                                            GatedAttentionNetworkClassifier,\n",
    "                                            SelfAttentionNetworkClassifier,\n",
    "                                            TempAttentionNetworkClassifier,\n",
    "                                            GaussianPoolingNetworkClassifier,\n",
    "                                            DynamicPoolingNetworkClassifier)\n",
    "\n",
    "from qsarmil.mil.preprocessing import BagMinMaxScaler"
   ]
  },
  {
   "cell_type": "code",
   "execution_count": 7,
   "id": "0a6c2f8c-7b0d-4ac2-bc9e-3fa2c2b599be",
   "metadata": {},
   "outputs": [],
   "source": [
    "network_hparams = {'hidden_layer_sizes':(256, 128, 64),\n",
    "                   'num_epoch':300,\n",
    "                   'batch_size':128,\n",
    "                   'learning_rate':0.001,\n",
    "                   'weight_decay':0.001,\n",
    "                   'instance_weight_dropout':0.01,\n",
    "                   'init_cuda':False,\n",
    "                   'verbose':False}"
   ]
  },
  {
   "cell_type": "code",
   "execution_count": 8,
   "id": "7a4d7855-2c26-40ed-acfe-aded4c27a0e9",
   "metadata": {},
   "outputs": [],
   "source": [
    "x_train, x_test, y_train, y_test, key_train, key_test = train_test_split(bags, labels, key_pos)"
   ]
  },
  {
   "cell_type": "code",
   "execution_count": 9,
   "id": "9376957c-3deb-4097-bd71-e9ea499a113e",
   "metadata": {},
   "outputs": [],
   "source": [
    "scaler = BagMinMaxScaler()\n",
    "\n",
    "scaler.fit(x_train)\n",
    "\n",
    "x_train_scaled = scaler.transform(x_train)\n",
    "x_test_scaled = scaler.transform(x_test)"
   ]
  },
  {
   "cell_type": "code",
   "execution_count": 10,
   "id": "9689703d-07db-46c5-9de8-645e1bc0604a",
   "metadata": {},
   "outputs": [
    {
     "data": {
      "text/plain": [
       "AttentionNetworkClassifier(\n",
       "  (extractor): Sequential(\n",
       "    (0): Linear(in_features=784, out_features=256, bias=True)\n",
       "    (1): ReLU()\n",
       "    (2): Linear(in_features=256, out_features=128, bias=True)\n",
       "    (3): ReLU()\n",
       "    (4): Linear(in_features=128, out_features=64, bias=True)\n",
       "    (5): ReLU()\n",
       "  )\n",
       "  (estimator): Linear(in_features=64, out_features=1, bias=True)\n",
       "  (attention): Sequential(\n",
       "    (0): Linear(in_features=64, out_features=64, bias=True)\n",
       "    (1): Tanh()\n",
       "    (2): Linear(in_features=64, out_features=1, bias=True)\n",
       "  )\n",
       ")"
      ]
     },
     "execution_count": 10,
     "metadata": {},
     "output_type": "execute_result"
    }
   ],
   "source": [
    "model = AttentionNetworkClassifier(**network_hparams)\n",
    "model.fit(x_train_scaled, y_train)"
   ]
  },
  {
   "cell_type": "code",
   "execution_count": 11,
   "id": "dab85812-a162-4a03-bf0f-68f81345bee3",
   "metadata": {},
   "outputs": [],
   "source": [
    "y_prob = model.predict(x_test_scaled)\n",
    "y_pred = np.where(y_prob > 0.5, 1, 0)\n",
    "w_pred = model.get_instance_weights(x_test_scaled)"
   ]
  },
  {
   "cell_type": "code",
   "execution_count": 12,
   "id": "d0c68130-0c06-42f3-b0d9-3eccb2e25800",
   "metadata": {},
   "outputs": [
    {
     "data": {
      "text/plain": [
       "0.784"
      ]
     },
     "execution_count": 12,
     "metadata": {},
     "output_type": "execute_result"
    }
   ],
   "source": [
    "accuracy_score(y_test, y_pred)"
   ]
  },
  {
   "cell_type": "code",
   "execution_count": 14,
   "id": "7a0055c4-7aa7-44af-83c0-e3629ce7581a",
   "metadata": {},
   "outputs": [
    {
     "data": {
      "text/plain": [
       "0.864406779661017"
      ]
     },
     "execution_count": 14,
     "metadata": {},
     "output_type": "execute_result"
    }
   ],
   "source": [
    "compute_kid_accuracy(key_test, w_pred, y_test)"
   ]
  },
  {
   "cell_type": "code",
   "execution_count": 15,
   "id": "81d3ea63-aede-4ec4-b128-a94df0867693",
   "metadata": {},
   "outputs": [
    {
     "data": {
      "image/png": "[encoded data removed]",
      "text/plain": [
       "<Figure size 1250x500 with 10 Axes>"
      ]
     },
     "metadata": {},
     "output_type": "display_data"
    }
   ],
   "source": [
    "N = 6\n",
    "visualize_bag_with_weights(x_test[N], w_pred[N], title=f\"Bag {N}\\nPredicted label:{y_pred[N].item()}\\nTrue label: {y_test[N]}\")"
   ]
  },
  {
   "cell_type": "markdown",
   "id": "edc158c5-a064-4b2a-8ad7-a56aa9dead34",
   "metadata": {},
   "source": [
    "### 3. KID networks benchmark"
   ]
  },
  {
   "cell_type": "code",
   "execution_count": 16,
   "id": "cd8e66ba-11bd-45d5-abc7-6c6890e4c72c",
   "metadata": {},
   "outputs": [],
   "source": [
    "network_list = [\n",
    "                (\"AttentionNetworkClassifier\", AttentionNetworkClassifier(**network_hparams)), \n",
    "                (\"GatedAttentionNetworkClassifier\", GatedAttentionNetworkClassifier(**network_hparams)), \n",
    "                (\"SelfAttentionNetworkClassifier\", SelfAttentionNetworkClassifier(**network_hparams)), \n",
    "                (\"TemperatureAttentionNetworkClassifier\", TempAttentionNetworkClassifier(**network_hparams)),\n",
    "                (\"GaussianPoolingNetworkClassifier\", GaussianPoolingNetworkClassifier(**network_hparams)), \n",
    "                (\"DynamicPoolingNetworkClassifier\", DynamicPoolingNetworkClassifier(**network_hparams))\n",
    "               ]"
   ]
  },
  {
   "cell_type": "code",
   "execution_count": 17,
   "id": "380f7b5f-cb1c-48f1-aa84-7491be67d13f",
   "metadata": {},
   "outputs": [],
   "source": [
    "res = pd.DataFrame()\n",
    "for name, model in network_list:\n",
    "    # train model\n",
    "    model.fit(x_train_scaled, y_train)\n",
    "    # predict\n",
    "    y_prob = model.predict(x_test_scaled)\n",
    "    y_pred = np.where(y_prob > 0.5, 1, 0)\n",
    "    w_pred = model.get_instance_weights(x_test_scaled)\n",
    "    #\n",
    "    res.loc[name, \"PRED_ACC\"] = accuracy_score(y_test, y_pred)\n",
    "    res.loc[name, \"KID_ACC\"] = compute_kid_accuracy(key_test, w_pred, y_test)"
   ]
  },
  {
   "cell_type": "code",
   "execution_count": 18,
   "id": "32bbe727-12c2-4956-b653-f59ec9fae176",
   "metadata": {},
   "outputs": [
    {
     "data": {
      "text/html": [
       "<div>\n",
       "<style scoped>\n",
       "    .dataframe tbody tr th:only-of-type {\n",
       "        vertical-align: middle;\n",
       "    }\n",
       "\n",
       "    .dataframe tbody tr th {\n",
       "        vertical-align: top;\n",
       "    }\n",
       "\n",
       "    .dataframe thead th {\n",
       "        text-align: right;\n",
       "    }\n",
       "</style>\n",
       "<table border=\"1\" class=\"dataframe\">\n",
       "  <thead>\n",
       "    <tr style=\"text-align: right;\">\n",
       "      <th></th>\n",
       "      <th>PRED_ACC</th>\n",
       "      <th>KID_ACC</th>\n",
       "    </tr>\n",
       "  </thead>\n",
       "  <tbody>\n",
       "    <tr>\n",
       "      <th>AttentionNetworkClassifier</th>\n",
       "      <td>0.784</td>\n",
       "      <td>0.864407</td>\n",
       "    </tr>\n",
       "    <tr>\n",
       "      <th>GatedAttentionNetworkClassifier</th>\n",
       "      <td>0.808</td>\n",
       "      <td>0.830508</td>\n",
       "    </tr>\n",
       "    <tr>\n",
       "      <th>SelfAttentionNetworkClassifier</th>\n",
       "      <td>0.808</td>\n",
       "      <td>0.288136</td>\n",
       "    </tr>\n",
       "    <tr>\n",
       "      <th>TemperatureAttentionNetworkClassifier</th>\n",
       "      <td>0.776</td>\n",
       "      <td>0.847458</td>\n",
       "    </tr>\n",
       "    <tr>\n",
       "      <th>GaussianPoolingNetworkClassifier</th>\n",
       "      <td>0.768</td>\n",
       "      <td>0.152542</td>\n",
       "    </tr>\n",
       "    <tr>\n",
       "      <th>DynamicPoolingNetworkClassifier</th>\n",
       "      <td>0.800</td>\n",
       "      <td>0.864407</td>\n",
       "    </tr>\n",
       "  </tbody>\n",
       "</table>\n",
       "</div>"
      ],
      "text/plain": [
       "                                       PRED_ACC   KID_ACC\n",
       "AttentionNetworkClassifier                0.784  0.864407\n",
       "GatedAttentionNetworkClassifier           0.808  0.830508\n",
       "SelfAttentionNetworkClassifier            0.808  0.288136\n",
       "TemperatureAttentionNetworkClassifier     0.776  0.847458\n",
       "GaussianPoolingNetworkClassifier          0.768  0.152542\n",
       "DynamicPoolingNetworkClassifier           0.800  0.864407"
      ]
     },
     "execution_count": 18,
     "metadata": {},
     "output_type": "execute_result"
    }
   ],
   "source": [
    "res"
   ]
  },
  {
   "cell_type": "code",
   "execution_count": null,
   "id": "3a522f5e-6e93-4762-b1c6-a2818f9902bb",
   "metadata": {},
   "outputs": [],
   "source": []
  },
  {
   "cell_type": "code",
   "execution_count": null,
   "id": "0158ce3e-1c0f-4108-80ff-df6bed256a07",
   "metadata": {},
   "outputs": [],
   "source": []
  },
  {
   "cell_type": "code",
   "execution_count": null,
   "id": "97b7a839-125f-4c18-82a2-fbdce3f68104",
   "metadata": {},
   "outputs": [],
   "source": []
  },
  {
   "cell_type": "code",
   "execution_count": null,
   "id": "3a18b477-27b4-4346-bb64-2d6879b63e75",
   "metadata": {},
   "outputs": [],
   "source": []
  }
 ],
 "metadata": {
  "kernelspec": {
   "display_name": "qsarmil",
   "language": "python",
   "name": "qsarmil"
  },
  "language_info": {
   "codemirror_mode": {
    "name": "ipython",
    "version": 3
   },
   "file_extension": ".py",
   "mimetype": "text/x-python",
   "name": "python",
   "nbconvert_exporter": "python",
   "pygments_lexer": "ipython3",
   "version": "3.10.18"
  }
 },
 "nbformat": 4,
 "nbformat_minor": 5
}
